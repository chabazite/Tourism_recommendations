{
  "cells": [
    {
      "cell_type": "markdown",
      "metadata": {
        "id": "xYhpP6HJHC5n"
      },
      "source": [
        "# Travel Package Recommendation\n",
        "The `Tourism.xlsx` file contains the last year of customer data at a travel package company. These customers have been pitched 1 of 5 different travel packages - Basic, Standard, Deluxe, Super Deluxe, King. Looking at the data of the last year, we observed that only 18% of the customers purchased the package they were pitched. Dig into the data and develop a recommendation model that will tell the company's sales team which package they should pitch based on the customer's attributes.\n",
        "\n",
        "## Schema\n",
        "You can view the data schema on the `\"Data Dict\"` sheet of the `Tourism.xlsx` file. The raw data is contained on the `\"Tourism\"` sheet.\n",
        "\n",
        "## Accepted Models\n",
        "Please use a **nonlinear** model on this dataset (e.g. SVM,XGBoost, Neural Network, Random Forest). **Do not test multiple models**, pick one and stick with it. We want to see your ability to set a baseline model and improve the model with tuning. \n",
        "\n",
        "## Accepted Languages\n",
        "**NOTE: Please develop your solution using Python. R will not be accepted**. \n",
        "\n",
        "## Accepted Modules\n",
        "You can use any module you want but bonus points if you use any of the following:\n",
        "- PyTorch\n",
        "- PySpark (DataFrames and/or SparkMLlib)\n",
        "- Plotly\n",
        "- Numba\n",
        "- NVIDIA Rapids\n",
        "\n",
        "## Solution Guide\n",
        "These steps below will help you organize a solution. Please describe your insights using graphs **and** text cells or comments as you progress through the solution.\n",
        "- Data Cleaning\n",
        "  - Handle outliers, missing values, and any other invalid entries\n",
        "- Perform Exploratory Data Analysis\n",
        "  - **Univariate Analysis** of all features, identify dependent and independent variable(s)\n",
        "  - **Bivariate Analysis** of each dependent variables vs the independent variable\n",
        "- Feature Engineering\n",
        "  - Format the clean data for your model and split it into training, test, and validation sets.\n",
        "- Model Baseline\n",
        "  - Determine the scoring metric(s) you will use and explain why\n",
        "  - Train a baseline model and report its peformance\n",
        "- Model Tuning \n",
        "  - Cross validate and tune the hyperparameters of the model\n",
        "  - Choose the best model and explain why you choose it\n",
        "  - Report its performance\n",
        "- Conclusion\n",
        "  - Summarize insights you made during data cleaning and EDA\n",
        "  - Compare the performance of the baseline model to the tuned model  "
      ]
    },
    {
      "cell_type": "code",
      "execution_count": null,
      "metadata": {
        "id": "T9O5_eJ-IRJJ"
      },
      "outputs": [],
      "source": []
    }
  ],
  "metadata": {
    "colab": {
      "collapsed_sections": [],
      "name": "Data Scientist Take Home Exam - Recommendations.ipynb",
      "provenance": []
    },
    "kernelspec": {
      "display_name": "Python 3.10.1 64-bit",
      "language": "python",
      "name": "python3"
    },
    "language_info": {
      "name": "python",
      "version": "3.10.1"
    },
    "vscode": {
      "interpreter": {
        "hash": "94da90ce4a3f6a983abd36e24800f0fa4263660b49d839bce292763a6796dc65"
      }
    }
  },
  "nbformat": 4,
  "nbformat_minor": 0
}
