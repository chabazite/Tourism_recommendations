{
 "cells": [
  {
   "cell_type": "markdown",
   "metadata": {},
   "source": [
    "# Modeling XGBoost"
   ]
  },
  {
   "cell_type": "code",
   "execution_count": 898,
   "metadata": {},
   "outputs": [],
   "source": [
    "# import\n",
    "import pandas as pd\n",
    "import numpy as np\n",
    "from numpy import mean\n",
    "import matplotlib.pyplot as plt\n",
    "import time\n",
    "import sys\n",
    "\n",
    "#Scikit Learn\n",
    "from xgboost import XGBClassifier\n",
    "from xgboost import plot_importance\n",
    "from sklearn.pipeline import Pipeline\n",
    "from sklearn.preprocessing import StandardScaler, LabelEncoder\n",
    "from sklearn.model_selection import train_test_split, cross_val_score, GridSearchCV\n",
    "from sklearn.metrics import ConfusionMatrixDisplay, confusion_matrix\n",
    "from sklearn.impute import SimpleImputer\n",
    "from sklearn.model_selection import RepeatedStratifiedKFold\n",
    "from sklearn.metrics import classification_report\n",
    "from sklearn.base import BaseEstimator, TransformerMixin\n",
    "\n",
    "from statsmodels.stats.outliers_influence import variance_inflation_factor\n",
    "\n",
    "\n",
    "sys.path.insert(0, 'c:\\\\Users\\\\ingal\\\\Documents\\\\Data Science Work\\\\Data Scientist Take Home Exam - Recommendations')\n",
    "\n",
    "%matplotlib inline"
   ]
  },
  {
   "cell_type": "markdown",
   "metadata": {},
   "source": [
    "## Load Data"
   ]
  },
  {
   "cell_type": "code",
   "execution_count": 899,
   "metadata": {},
   "outputs": [
    {
     "data": {
      "text/html": [
       "<div>\n",
       "<style scoped>\n",
       "    .dataframe tbody tr th:only-of-type {\n",
       "        vertical-align: middle;\n",
       "    }\n",
       "\n",
       "    .dataframe tbody tr th {\n",
       "        vertical-align: top;\n",
       "    }\n",
       "\n",
       "    .dataframe thead th {\n",
       "        text-align: right;\n",
       "    }\n",
       "</style>\n",
       "<table border=\"1\" class=\"dataframe\">\n",
       "  <thead>\n",
       "    <tr style=\"text-align: right;\">\n",
       "      <th></th>\n",
       "      <th>CustomerID</th>\n",
       "      <th>ProdTaken</th>\n",
       "      <th>Age</th>\n",
       "      <th>TypeofContact</th>\n",
       "      <th>CityTier</th>\n",
       "      <th>DurationOfPitch</th>\n",
       "      <th>Occupation</th>\n",
       "      <th>Gender</th>\n",
       "      <th>NumberOfPersonVisiting</th>\n",
       "      <th>NumberOfFollowups</th>\n",
       "      <th>ProductPitched</th>\n",
       "      <th>PreferredPropertyStar</th>\n",
       "      <th>MaritalStatus</th>\n",
       "      <th>NumberOfTrips</th>\n",
       "      <th>Passport</th>\n",
       "      <th>PitchSatisfactionScore</th>\n",
       "      <th>OwnCar</th>\n",
       "      <th>NumberOfChildrenVisiting</th>\n",
       "      <th>Designation</th>\n",
       "      <th>MonthlyIncome</th>\n",
       "    </tr>\n",
       "  </thead>\n",
       "  <tbody>\n",
       "    <tr>\n",
       "      <th>0</th>\n",
       "      <td>200000</td>\n",
       "      <td>1</td>\n",
       "      <td>41.0</td>\n",
       "      <td>Self Enquiry</td>\n",
       "      <td>3</td>\n",
       "      <td>6.0</td>\n",
       "      <td>Salaried</td>\n",
       "      <td>Female</td>\n",
       "      <td>3</td>\n",
       "      <td>3.0</td>\n",
       "      <td>Deluxe</td>\n",
       "      <td>3.0</td>\n",
       "      <td>Single</td>\n",
       "      <td>1.0</td>\n",
       "      <td>1</td>\n",
       "      <td>2</td>\n",
       "      <td>1</td>\n",
       "      <td>0.0</td>\n",
       "      <td>Manager</td>\n",
       "      <td>20993.0</td>\n",
       "    </tr>\n",
       "    <tr>\n",
       "      <th>1</th>\n",
       "      <td>200001</td>\n",
       "      <td>0</td>\n",
       "      <td>49.0</td>\n",
       "      <td>Company Invited</td>\n",
       "      <td>1</td>\n",
       "      <td>14.0</td>\n",
       "      <td>Salaried</td>\n",
       "      <td>Male</td>\n",
       "      <td>3</td>\n",
       "      <td>4.0</td>\n",
       "      <td>Deluxe</td>\n",
       "      <td>4.0</td>\n",
       "      <td>Divorced</td>\n",
       "      <td>2.0</td>\n",
       "      <td>0</td>\n",
       "      <td>3</td>\n",
       "      <td>1</td>\n",
       "      <td>2.0</td>\n",
       "      <td>Manager</td>\n",
       "      <td>20130.0</td>\n",
       "    </tr>\n",
       "    <tr>\n",
       "      <th>2</th>\n",
       "      <td>200002</td>\n",
       "      <td>1</td>\n",
       "      <td>37.0</td>\n",
       "      <td>Self Enquiry</td>\n",
       "      <td>1</td>\n",
       "      <td>8.0</td>\n",
       "      <td>Free Lancer</td>\n",
       "      <td>Male</td>\n",
       "      <td>3</td>\n",
       "      <td>4.0</td>\n",
       "      <td>Basic</td>\n",
       "      <td>3.0</td>\n",
       "      <td>Single</td>\n",
       "      <td>7.0</td>\n",
       "      <td>1</td>\n",
       "      <td>3</td>\n",
       "      <td>0</td>\n",
       "      <td>0.0</td>\n",
       "      <td>Executive</td>\n",
       "      <td>17090.0</td>\n",
       "    </tr>\n",
       "    <tr>\n",
       "      <th>3</th>\n",
       "      <td>200003</td>\n",
       "      <td>0</td>\n",
       "      <td>33.0</td>\n",
       "      <td>Company Invited</td>\n",
       "      <td>1</td>\n",
       "      <td>9.0</td>\n",
       "      <td>Salaried</td>\n",
       "      <td>Female</td>\n",
       "      <td>2</td>\n",
       "      <td>3.0</td>\n",
       "      <td>Basic</td>\n",
       "      <td>3.0</td>\n",
       "      <td>Divorced</td>\n",
       "      <td>2.0</td>\n",
       "      <td>1</td>\n",
       "      <td>5</td>\n",
       "      <td>1</td>\n",
       "      <td>1.0</td>\n",
       "      <td>Executive</td>\n",
       "      <td>17909.0</td>\n",
       "    </tr>\n",
       "    <tr>\n",
       "      <th>4</th>\n",
       "      <td>200004</td>\n",
       "      <td>0</td>\n",
       "      <td>NaN</td>\n",
       "      <td>Self Enquiry</td>\n",
       "      <td>1</td>\n",
       "      <td>8.0</td>\n",
       "      <td>Small Business</td>\n",
       "      <td>Male</td>\n",
       "      <td>2</td>\n",
       "      <td>3.0</td>\n",
       "      <td>Basic</td>\n",
       "      <td>4.0</td>\n",
       "      <td>Divorced</td>\n",
       "      <td>1.0</td>\n",
       "      <td>0</td>\n",
       "      <td>5</td>\n",
       "      <td>1</td>\n",
       "      <td>0.0</td>\n",
       "      <td>Executive</td>\n",
       "      <td>18468.0</td>\n",
       "    </tr>\n",
       "  </tbody>\n",
       "</table>\n",
       "</div>"
      ],
      "text/plain": [
       "   CustomerID  ProdTaken   Age    TypeofContact  CityTier  DurationOfPitch  \\\n",
       "0      200000          1  41.0     Self Enquiry         3              6.0   \n",
       "1      200001          0  49.0  Company Invited         1             14.0   \n",
       "2      200002          1  37.0     Self Enquiry         1              8.0   \n",
       "3      200003          0  33.0  Company Invited         1              9.0   \n",
       "4      200004          0   NaN     Self Enquiry         1              8.0   \n",
       "\n",
       "       Occupation  Gender  NumberOfPersonVisiting  NumberOfFollowups  \\\n",
       "0        Salaried  Female                       3                3.0   \n",
       "1        Salaried    Male                       3                4.0   \n",
       "2     Free Lancer    Male                       3                4.0   \n",
       "3        Salaried  Female                       2                3.0   \n",
       "4  Small Business    Male                       2                3.0   \n",
       "\n",
       "  ProductPitched  PreferredPropertyStar MaritalStatus  NumberOfTrips  \\\n",
       "0         Deluxe                    3.0        Single            1.0   \n",
       "1         Deluxe                    4.0      Divorced            2.0   \n",
       "2          Basic                    3.0        Single            7.0   \n",
       "3          Basic                    3.0      Divorced            2.0   \n",
       "4          Basic                    4.0      Divorced            1.0   \n",
       "\n",
       "   Passport  PitchSatisfactionScore  OwnCar  NumberOfChildrenVisiting  \\\n",
       "0         1                       2       1                       0.0   \n",
       "1         0                       3       1                       2.0   \n",
       "2         1                       3       0                       0.0   \n",
       "3         1                       5       1                       1.0   \n",
       "4         0                       5       1                       0.0   \n",
       "\n",
       "  Designation  MonthlyIncome  \n",
       "0     Manager        20993.0  \n",
       "1     Manager        20130.0  \n",
       "2   Executive        17090.0  \n",
       "3   Executive        17909.0  \n",
       "4   Executive        18468.0  "
      ]
     },
     "execution_count": 899,
     "metadata": {},
     "output_type": "execute_result"
    }
   ],
   "source": [
    "tourism_df = pd.read_csv('../data/intermediate/cleaned_tourism.csv',index_col=0)\n",
    "tourism_df.head()"
   ]
  },
  {
   "cell_type": "markdown",
   "metadata": {},
   "source": [
    "## Feature Engineering"
   ]
  },
  {
   "cell_type": "code",
   "execution_count": 900,
   "metadata": {},
   "outputs": [],
   "source": [
    "# drop columns that don't pertain to the customer's attribute or are arbitrary for our model\n",
    "tourism_df.drop(columns= ['TypeofContact','DurationOfPitch','NumberOfFollowups','PitchSatisfactionScore'], axis=1, inplace=True)"
   ]
  },
  {
   "cell_type": "markdown",
   "metadata": {},
   "source": [
    "To categorize our customers, we care about when a profile was correctly pitched, not when it wasn't. So we filter for that. We also don't need CustomerID, the model shouldn't learn to predict based on ID numbers."
   ]
  },
  {
   "cell_type": "code",
   "execution_count": 901,
   "metadata": {},
   "outputs": [],
   "source": [
    "tourism_df = tourism_df[tourism_df['ProdTaken'] == 1].reset_index()\n",
    "tourism_df.drop(columns = ['ProdTaken', 'CustomerID'], axis=1,inplace=True)"
   ]
  },
  {
   "cell_type": "markdown",
   "metadata": {},
   "source": [
    "Remove Designation from the model as it was a 1:1 with the dependent variable, so it will train the model poorly."
   ]
  },
  {
   "cell_type": "code",
   "execution_count": 902,
   "metadata": {},
   "outputs": [],
   "source": [
    "tourism_df.drop(columns = ['Designation'], axis=1,inplace=True)"
   ]
  },
  {
   "cell_type": "markdown",
   "metadata": {},
   "source": [
    "Dropping the Occupation column because the value definitions are unclear, they are imbalanced, and could have led to confusion during the process (do they work at a large business or own a large business? Where is hourly? etc.)"
   ]
  },
  {
   "cell_type": "code",
   "execution_count": 903,
   "metadata": {},
   "outputs": [],
   "source": [
    "tourism_df.drop(columns = ['Occupation'], axis=1,inplace=True)"
   ]
  },
  {
   "cell_type": "markdown",
   "metadata": {},
   "source": [
    "## Data Split"
   ]
  },
  {
   "cell_type": "markdown",
   "metadata": {},
   "source": [
    "This is a textbook example of Mult-Class Classification. A customer can only belong to one product, we do not want to pitch multiple products for them."
   ]
  },
  {
   "cell_type": "code",
   "execution_count": 904,
   "metadata": {},
   "outputs": [],
   "source": [
    "tourism_df\n",
    "X_df = tourism_df.drop(columns=['ProductPitched'],axis=1)\n",
    "# dummy variables for Gender, MaritalStatus, and Designation\n",
    "X_df = pd.get_dummies(X_df)"
   ]
  },
  {
   "cell_type": "markdown",
   "metadata": {},
   "source": [
    "One-hot encode the categorical features that are numerical. This will help avoid any sort of ranking in the model. \n",
    "\n",
    "Features: CityTier and PreferredPropertyStar"
   ]
  },
  {
   "cell_type": "code",
   "execution_count": 905,
   "metadata": {},
   "outputs": [],
   "source": [
    "X_df = pd.get_dummies(X_df, columns=['CityTier','PreferredPropertyStar']).drop(columns=['index'],axis=1)"
   ]
  },
  {
   "cell_type": "code",
   "execution_count": 906,
   "metadata": {},
   "outputs": [
    {
     "data": {
      "text/plain": [
       "array([[41.,  3.,  1., ...,  1.,  0.,  0.],\n",
       "       [37.,  3.,  7., ...,  1.,  0.,  0.],\n",
       "       [28.,  2.,  6., ...,  1.,  0.,  0.],\n",
       "       ...,\n",
       "       [52.,  4.,  7., ...,  0.,  1.,  0.],\n",
       "       [19.,  3.,  3., ...,  1.,  0.,  0.],\n",
       "       [36.,  4.,  3., ...,  0.,  1.,  0.]])"
      ]
     },
     "execution_count": 906,
     "metadata": {},
     "output_type": "execute_result"
    }
   ],
   "source": [
    "# turn X into np array of values\n",
    "X = X_df.values\n",
    "X"
   ]
  },
  {
   "cell_type": "code",
   "execution_count": 907,
   "metadata": {},
   "outputs": [],
   "source": [
    "# for y values we will use LabelEncoder from SciKit Learn to turn the categories into numerical values\n",
    "le = LabelEncoder()\n",
    "le.fit(tourism_df['ProductPitched'])\n",
    "y = le.transform(tourism_df['ProductPitched'])"
   ]
  },
  {
   "cell_type": "code",
   "execution_count": 908,
   "metadata": {},
   "outputs": [
    {
     "data": {
      "text/plain": [
       "array(['Basic', 'Deluxe', 'King', 'Standard', 'Super Deluxe'],\n",
       "      dtype=object)"
      ]
     },
     "execution_count": 908,
     "metadata": {},
     "output_type": "execute_result"
    }
   ],
   "source": [
    "# these are the classes that we changed into values\n",
    "le.classes_"
   ]
  },
  {
   "cell_type": "code",
   "execution_count": 909,
   "metadata": {},
   "outputs": [
    {
     "data": {
      "text/plain": [
       "array([1, 0, 0, 1, 0, 0, 1, 0, 0, 0, 2, 3, 0, 0, 3, 0, 0, 1, 1, 0, 1, 3,\n",
       "       0, 1, 3, 0, 0, 0, 0, 1, 1, 3, 3, 0, 1, 0, 0, 0, 0, 0, 3, 0, 0, 3,\n",
       "       0, 0, 1, 0, 1, 0, 1, 0, 0, 0, 1, 1, 0, 1, 0, 0, 0, 0, 0, 0, 0, 3,\n",
       "       0, 3, 3, 0, 0, 0, 0, 1, 0, 0, 1, 0, 1, 0, 0, 1, 1, 0, 0, 0, 1, 2,\n",
       "       1, 0, 0, 1, 2, 0, 3, 1, 0, 0, 0, 0, 0, 0, 0, 1, 0, 0, 0, 0, 0, 3,\n",
       "       3, 0, 4, 0, 0, 0, 0, 0, 0, 1, 1, 2, 0, 1, 0, 0, 0, 0, 3, 3, 3, 1,\n",
       "       0, 0, 0, 0, 1, 4, 0, 1, 0, 3, 4, 0, 1, 0, 0, 0, 0, 0, 0, 2, 0, 3,\n",
       "       0, 1, 0, 3, 3, 0, 0, 3, 4, 0, 1, 1, 0, 1, 3, 0, 0, 0, 3, 0, 3, 0,\n",
       "       0, 0, 1, 1, 0, 0, 0, 0, 0, 1, 0, 3, 1, 0, 0, 3, 1, 0, 1, 0, 0, 0,\n",
       "       0, 0, 4, 1, 1, 0, 0, 3, 3, 0, 0, 0, 0, 1, 1, 1, 0, 1, 0, 0, 1, 0,\n",
       "       3, 0, 0, 0, 0, 0, 1, 0, 0, 0, 1, 3, 0, 0, 0, 1, 3, 1, 0, 0, 0, 0,\n",
       "       0, 1, 0, 0, 0, 2, 3, 0, 0, 3, 0, 0, 1, 1, 0, 1, 3, 0, 1, 3, 0, 0,\n",
       "       0, 0, 1, 1, 3, 3, 0, 1, 0, 0, 0, 0, 0, 3, 0, 0, 3, 0, 0, 1, 0, 1,\n",
       "       0, 1, 0, 0, 0, 1, 1, 0, 1, 0, 0, 0, 0, 0, 0, 0, 3, 0, 3, 3, 0, 0,\n",
       "       0, 0, 1, 0, 0, 1, 0, 1, 0, 0, 1, 1, 0, 0, 0, 1, 2, 1, 0, 0, 1, 2,\n",
       "       0, 3, 1, 0, 0, 0, 0, 0, 0, 0, 1, 0, 0, 0, 0, 0, 3, 3, 0, 4, 0, 0,\n",
       "       0, 0, 0, 0, 1, 1, 2, 0, 1, 0, 0, 0, 0, 3, 3, 3, 1, 0, 0, 0, 0, 1,\n",
       "       4, 0, 1, 0, 3, 4, 0, 1, 0, 0, 0, 0, 0, 0, 2, 0, 3, 0, 1, 0, 3, 3,\n",
       "       0, 0, 3, 4, 0, 1, 1, 0, 1, 3, 0, 0, 0, 3, 0, 3, 0, 0, 0, 1, 1, 0,\n",
       "       0, 0, 0, 0, 1, 0, 3, 1, 0, 0, 3, 1, 0, 1, 0, 0, 0, 0, 0, 4, 1, 1,\n",
       "       0, 0, 3, 3, 0, 0, 0, 0, 1, 1, 1, 0, 1, 0, 0, 1, 0, 3, 0, 0, 1, 0,\n",
       "       0, 1, 0, 0, 1, 0, 0, 0, 2, 3, 0, 0, 3, 0, 0, 1, 1, 0, 1, 3, 0, 1,\n",
       "       3, 0, 0, 0, 0, 1, 1, 3, 3, 0, 1, 0, 0, 0, 0, 0, 3, 0, 0, 3, 0, 0,\n",
       "       1, 0, 1, 0, 1, 0, 0, 0, 1, 1, 0, 1, 0, 0, 0, 0, 0, 0, 0, 3, 0, 3,\n",
       "       3, 0, 0, 0, 0, 1, 0, 0, 1, 0, 1, 0, 0, 1, 1, 0, 0, 0, 1, 2, 1, 0,\n",
       "       0, 1, 2, 0, 3, 1, 0, 0, 0, 0, 0, 0, 0, 1, 0, 0, 0, 0, 0, 3, 3, 0,\n",
       "       4, 0, 0, 0, 0, 0, 0, 1, 1, 2, 0, 1, 0, 0, 0, 0, 3, 3, 3, 1, 0, 0,\n",
       "       0, 0, 1, 4, 0, 1, 0, 3, 4, 0, 1, 0, 0, 0, 0, 0, 0, 2, 0, 3, 0, 1,\n",
       "       0, 3, 3, 0, 0, 3, 4, 0, 1, 1, 0, 1, 3, 0, 0, 0, 3, 0, 3, 0, 0, 0,\n",
       "       1, 1, 0, 0, 0, 0, 0, 1, 0, 3, 1, 0, 0, 3, 1, 0, 1, 0, 0, 0, 0, 0,\n",
       "       4, 1, 1, 0, 0, 3, 3, 0, 0, 0, 0, 1, 1, 1, 0, 1, 0, 0, 1, 0, 3, 0,\n",
       "       0, 0, 0, 0, 1, 0, 0, 0, 1, 3, 0, 0, 0, 1, 3, 1, 0, 0, 0, 0, 0, 1,\n",
       "       0, 0, 0, 2, 3, 0, 0, 3, 0, 0, 1, 1, 0, 1, 3, 0, 1, 3, 0, 0, 0, 0,\n",
       "       1, 1, 3, 3, 0, 1, 0, 0, 0, 0, 0, 3, 0, 0, 3, 0, 0, 1, 0, 1, 0, 1,\n",
       "       0, 0, 0, 1, 1, 0, 1, 0, 0, 0, 0, 0, 0, 0, 3, 0, 3, 3, 0, 0, 0, 0,\n",
       "       1, 0, 0, 1, 0, 1, 0, 0, 1, 1, 0, 0, 0, 1, 2, 1, 0, 0, 1, 2, 0, 3,\n",
       "       1, 0, 0, 0, 0, 0, 0, 0, 1, 0, 0, 0, 0, 0, 3, 3, 0, 4, 0, 0, 0, 0,\n",
       "       0, 0, 1, 1, 2, 0, 1, 0, 0, 0, 0, 3, 3, 3, 1, 0, 0, 0, 0, 1, 4, 0,\n",
       "       1, 0, 3, 4, 0, 1, 0, 0, 0, 0, 0, 0, 2, 0, 3, 0, 1, 0, 3, 3, 0, 0,\n",
       "       3, 4, 0, 1, 1, 0, 1, 3, 0, 0, 0, 3, 0, 3, 0, 0, 0, 1, 1, 0, 0, 0,\n",
       "       0, 0, 1, 0, 3, 1, 0, 0, 3, 1, 0, 1, 0, 0, 0, 0, 0, 4, 1, 1, 0, 0,\n",
       "       3, 3, 0, 0, 0, 0, 1, 1, 1, 0, 1, 0, 0, 1, 0, 3, 0, 0])"
      ]
     },
     "execution_count": 909,
     "metadata": {},
     "output_type": "execute_result"
    }
   ],
   "source": [
    "# the transformed array from text to numerical\n",
    "y"
   ]
  },
  {
   "cell_type": "markdown",
   "metadata": {},
   "source": [
    "## Custom Transformers for Preprocessing Functions"
   ]
  },
  {
   "cell_type": "markdown",
   "metadata": {},
   "source": [
    "I had some functions I was using for unique and specific imputation. They will be valuable for the model performance, rather than just using SimpleImputation."
   ]
  },
  {
   "cell_type": "code",
   "execution_count": 910,
   "metadata": {},
   "outputs": [],
   "source": [
    "class LowerSalaryAgeImputation(BaseEstimator, TransformerMixin):\n",
    "    def __init__(self):\n",
    "        pass\n",
    "    \n",
    "    def fit(self, X, y=None):\n",
    "        return self\n",
    "\n",
    "    def transform(self,X):\n",
    "\n",
    "        df = pd.DataFrame(X)\n",
    "\n",
    "        low_income_age = round(df[df[6] > 19000][0].mean(), 0)\n",
    "\n",
    "        mask =  (df[0].isna()) & (df[6] < 19000)    \n",
    "\n",
    "        df.loc[mask,0] = low_income_age\n",
    "    \n",
    "        return df.values"
   ]
  },
  {
   "cell_type": "code",
   "execution_count": 914,
   "metadata": {},
   "outputs": [],
   "source": [
    "class ByAgeIncomeImputation(BaseEstimator, TransformerMixin):\n",
    "    def __init__(self):\n",
    "        pass\n",
    "    \n",
    "    def fit(self, X, y=None):\n",
    "        return self\n",
    "\n",
    "    def transform(self,X):\n",
    "\n",
    "        df = pd.DataFrame(X)\n",
    "\n",
    "        income_by_age = df.groupby([0])[6].agg(['median']).reset_index()\n",
    "\n",
    "   \n",
    "        for index, age in enumerate(income_by_age[0]):\n",
    "            mask = (df[6].isna()) & (df[0] == age)    \n",
    "\n",
    "            df.loc[mask,[6]] = income_by_age['median'].loc[index]\n",
    "    \n",
    "        return df.values\n",
    "    "
   ]
  },
  {
   "cell_type": "markdown",
   "metadata": {},
   "source": [
    "## Model Selection\n",
    "\n",
    "I will be using XGBoost for my model choice. Since the assignment doesn't want me to check out different models, I prefer to use an ensemble model, which generally performs better than an individual model. Then when choosing between Random Forest (another ensemble) and XGBoost, generally XGBoost is faster. Additionally, since boosting has better performance than bagging (Random Forest), I will choose the better on average of the two models. XGBoost is currently one of the best ensemble methods available. Additionally, XGBoost's default models are regularized, so overfitting is more difficult. Finally, XGBoost has hyperparameters to scale imbalanced data, which we definitely have so this will be a great Algorithm for this project. "
   ]
  },
  {
   "cell_type": "markdown",
   "metadata": {},
   "source": [
    "We will be using the Scikit-learn wrapper for XGBoost: XGBClassifier. Additionally, we will create a ML pipeline using Scikit-learn so we can perform our NaN fills on the partitioned dataset to avoid the data leakage."
   ]
  },
  {
   "cell_type": "code",
   "execution_count": 916,
   "metadata": {},
   "outputs": [],
   "source": [
    "# Training/Testing Split\n",
    "\n",
    "X_train, X_test, y_train, y_test = train_test_split(X, y, test_size=0.3, random_state=42)"
   ]
  },
  {
   "cell_type": "code",
   "execution_count": 919,
   "metadata": {},
   "outputs": [],
   "source": [
    "# create a pipeline \n",
    "\n",
    "pipeline = Pipeline([\n",
    "    ('Age_low_salary_NaN',LowerSalaryAgeImputation()),\n",
    "    ('Income_NaN',ByAgeIncomeImputation()),\n",
    "    ('Children_Trips_Star_NaN',SimpleImputer(strategy = 'median')),\n",
    "    ('Standard_Scalar',StandardScaler()), \n",
    "    ('model', XGBClassifier())\n",
    "])"
   ]
  },
  {
   "cell_type": "markdown",
   "metadata": {},
   "source": [
    "## Baseline Model"
   ]
  },
  {
   "cell_type": "code",
   "execution_count": 920,
   "metadata": {},
   "outputs": [
    {
     "data": {
      "text/html": [
       "<style>#sk-container-id-47 {color: black;background-color: white;}#sk-container-id-47 pre{padding: 0;}#sk-container-id-47 div.sk-toggleable {background-color: white;}#sk-container-id-47 label.sk-toggleable__label {cursor: pointer;display: block;width: 100%;margin-bottom: 0;padding: 0.3em;box-sizing: border-box;text-align: center;}#sk-container-id-47 label.sk-toggleable__label-arrow:before {content: \"▸\";float: left;margin-right: 0.25em;color: #696969;}#sk-container-id-47 label.sk-toggleable__label-arrow:hover:before {color: black;}#sk-container-id-47 div.sk-estimator:hover label.sk-toggleable__label-arrow:before {color: black;}#sk-container-id-47 div.sk-toggleable__content {max-height: 0;max-width: 0;overflow: hidden;text-align: left;background-color: #f0f8ff;}#sk-container-id-47 div.sk-toggleable__content pre {margin: 0.2em;color: black;border-radius: 0.25em;background-color: #f0f8ff;}#sk-container-id-47 input.sk-toggleable__control:checked~div.sk-toggleable__content {max-height: 200px;max-width: 100%;overflow: auto;}#sk-container-id-47 input.sk-toggleable__control:checked~label.sk-toggleable__label-arrow:before {content: \"▾\";}#sk-container-id-47 div.sk-estimator input.sk-toggleable__control:checked~label.sk-toggleable__label {background-color: #d4ebff;}#sk-container-id-47 div.sk-label input.sk-toggleable__control:checked~label.sk-toggleable__label {background-color: #d4ebff;}#sk-container-id-47 input.sk-hidden--visually {border: 0;clip: rect(1px 1px 1px 1px);clip: rect(1px, 1px, 1px, 1px);height: 1px;margin: -1px;overflow: hidden;padding: 0;position: absolute;width: 1px;}#sk-container-id-47 div.sk-estimator {font-family: monospace;background-color: #f0f8ff;border: 1px dotted black;border-radius: 0.25em;box-sizing: border-box;margin-bottom: 0.5em;}#sk-container-id-47 div.sk-estimator:hover {background-color: #d4ebff;}#sk-container-id-47 div.sk-parallel-item::after {content: \"\";width: 100%;border-bottom: 1px solid gray;flex-grow: 1;}#sk-container-id-47 div.sk-label:hover label.sk-toggleable__label {background-color: #d4ebff;}#sk-container-id-47 div.sk-serial::before {content: \"\";position: absolute;border-left: 1px solid gray;box-sizing: border-box;top: 0;bottom: 0;left: 50%;z-index: 0;}#sk-container-id-47 div.sk-serial {display: flex;flex-direction: column;align-items: center;background-color: white;padding-right: 0.2em;padding-left: 0.2em;position: relative;}#sk-container-id-47 div.sk-item {position: relative;z-index: 1;}#sk-container-id-47 div.sk-parallel {display: flex;align-items: stretch;justify-content: center;background-color: white;position: relative;}#sk-container-id-47 div.sk-item::before, #sk-container-id-47 div.sk-parallel-item::before {content: \"\";position: absolute;border-left: 1px solid gray;box-sizing: border-box;top: 0;bottom: 0;left: 50%;z-index: -1;}#sk-container-id-47 div.sk-parallel-item {display: flex;flex-direction: column;z-index: 1;position: relative;background-color: white;}#sk-container-id-47 div.sk-parallel-item:first-child::after {align-self: flex-end;width: 50%;}#sk-container-id-47 div.sk-parallel-item:last-child::after {align-self: flex-start;width: 50%;}#sk-container-id-47 div.sk-parallel-item:only-child::after {width: 0;}#sk-container-id-47 div.sk-dashed-wrapped {border: 1px dashed gray;margin: 0 0.4em 0.5em 0.4em;box-sizing: border-box;padding-bottom: 0.4em;background-color: white;}#sk-container-id-47 div.sk-label label {font-family: monospace;font-weight: bold;display: inline-block;line-height: 1.2em;}#sk-container-id-47 div.sk-label-container {text-align: center;}#sk-container-id-47 div.sk-container {/* jupyter's `normalize.less` sets `[hidden] { display: none; }` but bootstrap.min.css set `[hidden] { display: none !important; }` so we also need the `!important` here to be able to override the default hidden behavior on the sphinx rendered scikit-learn.org. See: https://github.com/scikit-learn/scikit-learn/issues/21755 */display: inline-block !important;position: relative;}#sk-container-id-47 div.sk-text-repr-fallback {display: none;}</style><div id=\"sk-container-id-47\" class=\"sk-top-container\"><div class=\"sk-text-repr-fallback\"><pre>Pipeline(steps=[(&#x27;Age_low_salary_NaN&#x27;, LowerSalaryAgeImputation()),\n",
       "                (&#x27;Income_NaN&#x27;, ByAgeIncomeImputation()),\n",
       "                (&#x27;Children_Trips_Star_NaN&#x27;, SimpleImputer(strategy=&#x27;median&#x27;)),\n",
       "                (&#x27;Standard_Scalar&#x27;, StandardScaler()),\n",
       "                (&#x27;model&#x27;,\n",
       "                 XGBClassifier(base_score=0.5, booster=&#x27;gbtree&#x27;, callbacks=None,\n",
       "                               colsample_bylevel=1, colsample_bynode=1,\n",
       "                               colsample_bytree=1, early_stopping_roun...\n",
       "                               gamma=0, gpu_id=-1, grow_policy=&#x27;depthwise&#x27;,\n",
       "                               importance_type=None, interaction_constraints=&#x27;&#x27;,\n",
       "                               learning_rate=0.300000012, max_bin=256,\n",
       "                               max_cat_to_onehot=4, max_delta_step=0,\n",
       "                               max_depth=6, max_leaves=0, min_child_weight=1,\n",
       "                               missing=nan, monotone_constraints=&#x27;()&#x27;,\n",
       "                               n_estimators=100, n_jobs=0, num_parallel_tree=1,\n",
       "                               objective=&#x27;multi:softprob&#x27;, predictor=&#x27;auto&#x27;,\n",
       "                               random_state=0, reg_alpha=0, ...))])</pre><b>In a Jupyter environment, please rerun this cell to show the HTML representation or trust the notebook. <br />On GitHub, the HTML representation is unable to render, please try loading this page with nbviewer.org.</b></div><div class=\"sk-container\" hidden><div class=\"sk-item sk-dashed-wrapped\"><div class=\"sk-label-container\"><div class=\"sk-label sk-toggleable\"><input class=\"sk-toggleable__control sk-hidden--visually\" id=\"sk-estimator-id-135\" type=\"checkbox\" ><label for=\"sk-estimator-id-135\" class=\"sk-toggleable__label sk-toggleable__label-arrow\">Pipeline</label><div class=\"sk-toggleable__content\"><pre>Pipeline(steps=[(&#x27;Age_low_salary_NaN&#x27;, LowerSalaryAgeImputation()),\n",
       "                (&#x27;Income_NaN&#x27;, ByAgeIncomeImputation()),\n",
       "                (&#x27;Children_Trips_Star_NaN&#x27;, SimpleImputer(strategy=&#x27;median&#x27;)),\n",
       "                (&#x27;Standard_Scalar&#x27;, StandardScaler()),\n",
       "                (&#x27;model&#x27;,\n",
       "                 XGBClassifier(base_score=0.5, booster=&#x27;gbtree&#x27;, callbacks=None,\n",
       "                               colsample_bylevel=1, colsample_bynode=1,\n",
       "                               colsample_bytree=1, early_stopping_roun...\n",
       "                               gamma=0, gpu_id=-1, grow_policy=&#x27;depthwise&#x27;,\n",
       "                               importance_type=None, interaction_constraints=&#x27;&#x27;,\n",
       "                               learning_rate=0.300000012, max_bin=256,\n",
       "                               max_cat_to_onehot=4, max_delta_step=0,\n",
       "                               max_depth=6, max_leaves=0, min_child_weight=1,\n",
       "                               missing=nan, monotone_constraints=&#x27;()&#x27;,\n",
       "                               n_estimators=100, n_jobs=0, num_parallel_tree=1,\n",
       "                               objective=&#x27;multi:softprob&#x27;, predictor=&#x27;auto&#x27;,\n",
       "                               random_state=0, reg_alpha=0, ...))])</pre></div></div></div><div class=\"sk-serial\"><div class=\"sk-item\"><div class=\"sk-estimator sk-toggleable\"><input class=\"sk-toggleable__control sk-hidden--visually\" id=\"sk-estimator-id-136\" type=\"checkbox\" ><label for=\"sk-estimator-id-136\" class=\"sk-toggleable__label sk-toggleable__label-arrow\">LowerSalaryAgeImputation</label><div class=\"sk-toggleable__content\"><pre>LowerSalaryAgeImputation()</pre></div></div></div><div class=\"sk-item\"><div class=\"sk-estimator sk-toggleable\"><input class=\"sk-toggleable__control sk-hidden--visually\" id=\"sk-estimator-id-137\" type=\"checkbox\" ><label for=\"sk-estimator-id-137\" class=\"sk-toggleable__label sk-toggleable__label-arrow\">ByAgeIncomeImputation</label><div class=\"sk-toggleable__content\"><pre>ByAgeIncomeImputation()</pre></div></div></div><div class=\"sk-item\"><div class=\"sk-estimator sk-toggleable\"><input class=\"sk-toggleable__control sk-hidden--visually\" id=\"sk-estimator-id-138\" type=\"checkbox\" ><label for=\"sk-estimator-id-138\" class=\"sk-toggleable__label sk-toggleable__label-arrow\">SimpleImputer</label><div class=\"sk-toggleable__content\"><pre>SimpleImputer(strategy=&#x27;median&#x27;)</pre></div></div></div><div class=\"sk-item\"><div class=\"sk-estimator sk-toggleable\"><input class=\"sk-toggleable__control sk-hidden--visually\" id=\"sk-estimator-id-139\" type=\"checkbox\" ><label for=\"sk-estimator-id-139\" class=\"sk-toggleable__label sk-toggleable__label-arrow\">StandardScaler</label><div class=\"sk-toggleable__content\"><pre>StandardScaler()</pre></div></div></div><div class=\"sk-item\"><div class=\"sk-estimator sk-toggleable\"><input class=\"sk-toggleable__control sk-hidden--visually\" id=\"sk-estimator-id-140\" type=\"checkbox\" ><label for=\"sk-estimator-id-140\" class=\"sk-toggleable__label sk-toggleable__label-arrow\">XGBClassifier</label><div class=\"sk-toggleable__content\"><pre>XGBClassifier(base_score=0.5, booster=&#x27;gbtree&#x27;, callbacks=None,\n",
       "              colsample_bylevel=1, colsample_bynode=1, colsample_bytree=1,\n",
       "              early_stopping_rounds=None, enable_categorical=False,\n",
       "              eval_metric=None, gamma=0, gpu_id=-1, grow_policy=&#x27;depthwise&#x27;,\n",
       "              importance_type=None, interaction_constraints=&#x27;&#x27;,\n",
       "              learning_rate=0.300000012, max_bin=256, max_cat_to_onehot=4,\n",
       "              max_delta_step=0, max_depth=6, max_leaves=0, min_child_weight=1,\n",
       "              missing=nan, monotone_constraints=&#x27;()&#x27;, n_estimators=100,\n",
       "              n_jobs=0, num_parallel_tree=1, objective=&#x27;multi:softprob&#x27;,\n",
       "              predictor=&#x27;auto&#x27;, random_state=0, reg_alpha=0, ...)</pre></div></div></div></div></div></div></div>"
      ],
      "text/plain": [
       "Pipeline(steps=[('Age_low_salary_NaN', LowerSalaryAgeImputation()),\n",
       "                ('Income_NaN', ByAgeIncomeImputation()),\n",
       "                ('Children_Trips_Star_NaN', SimpleImputer(strategy='median')),\n",
       "                ('Standard_Scalar', StandardScaler()),\n",
       "                ('model',\n",
       "                 XGBClassifier(base_score=0.5, booster='gbtree', callbacks=None,\n",
       "                               colsample_bylevel=1, colsample_bynode=1,\n",
       "                               colsample_bytree=1, early_stopping_roun...\n",
       "                               gamma=0, gpu_id=-1, grow_policy='depthwise',\n",
       "                               importance_type=None, interaction_constraints='',\n",
       "                               learning_rate=0.300000012, max_bin=256,\n",
       "                               max_cat_to_onehot=4, max_delta_step=0,\n",
       "                               max_depth=6, max_leaves=0, min_child_weight=1,\n",
       "                               missing=nan, monotone_constraints='()',\n",
       "                               n_estimators=100, n_jobs=0, num_parallel_tree=1,\n",
       "                               objective='multi:softprob', predictor='auto',\n",
       "                               random_state=0, reg_alpha=0, ...))])"
      ]
     },
     "execution_count": 920,
     "metadata": {},
     "output_type": "execute_result"
    }
   ],
   "source": [
    "pipeline.fit(X_train,y_train)"
   ]
  },
  {
   "cell_type": "code",
   "execution_count": 921,
   "metadata": {},
   "outputs": [],
   "source": [
    "y_pred = pipeline.predict(X_test)"
   ]
  },
  {
   "cell_type": "code",
   "execution_count": 922,
   "metadata": {},
   "outputs": [],
   "source": [
    "# Plot confusion matrix\n",
    "def confusionMatrix(y_test,y_pred):\n",
    "    fig, ax = plt.subplots(figsize=(8, 5))\n",
    "    cmp = ConfusionMatrixDisplay(\n",
    "        confusion_matrix(y_test, y_pred),\n",
    "        display_labels=[\"Basic\", \"Deluxe\", \"King\", \"Standard\", \"Super Deluxe\"], \n",
    "    )\n",
    "\n",
    "    cmp.plot(ax=ax)\n",
    "    plt.show();\n",
    "    return"
   ]
  },
  {
   "cell_type": "code",
   "execution_count": 923,
   "metadata": {},
   "outputs": [
    {
     "data": {
      "image/png": "[encoded data removed]",
      "text/plain": [
       "<Figure size 576x360 with 2 Axes>"
      ]
     },
     "metadata": {
      "needs_background": "light"
     },
     "output_type": "display_data"
    }
   ],
   "source": [
    "confusionMatrix(y_test,y_pred)"
   ]
  },
  {
   "cell_type": "markdown",
   "metadata": {},
   "source": [
    "#### Precision/Recall F1 Scores\n",
    "\n",
    "Since we have a high class imbalance, F1 scores are the right choice for our metric as it considers both precision and recall. To get a high F1, both false positives and false negatives must be low. Other measures of performance for classification my give us high scores with a high enough number of false positives. "
   ]
  },
  {
   "cell_type": "code",
   "execution_count": 924,
   "metadata": {},
   "outputs": [
    {
     "name": "stdout",
     "output_type": "stream",
     "text": [
      "              precision    recall  f1-score   support\n",
      "\n",
      "       Basic       0.87      0.92      0.90       157\n",
      "      Deluxe       0.75      0.73      0.74        62\n",
      "        King       1.00      0.57      0.73         7\n",
      "    Standard       0.76      0.63      0.69        46\n",
      "Super Deluxe       0.57      1.00      0.73         4\n",
      "\n",
      "    accuracy                           0.82       276\n",
      "   macro avg       0.79      0.77      0.76       276\n",
      "weighted avg       0.82      0.82      0.82       276\n",
      "\n"
     ]
    }
   ],
   "source": [
    "print(classification_report(y_test, y_pred, target_names=[\"Basic\", \"Deluxe\", \"King\", \"Standard\", \"Super Deluxe\"]))"
   ]
  },
  {
   "cell_type": "markdown",
   "metadata": {},
   "source": [
    "Here, we look at the individual f1 scores, but also more imporantly the macro avg. \n",
    "- While it seems intuitive that we would want to weight our F1 score based on the number of occurances in our imbalance dataset, because the dataset is imbalanced is exactly why we need to use the Macro score instead of the weighted score.\n",
    "- The Macro score treats all classes equally and since all our packages are equally important (regardless of occurance count), this is our preferred metric."
   ]
  },
  {
   "cell_type": "markdown",
   "metadata": {},
   "source": [
    "### Cross-Validation"
   ]
  },
  {
   "cell_type": "code",
   "execution_count": 1016,
   "metadata": {},
   "outputs": [
    {
     "name": "stdout",
     "output_type": "stream",
     "text": [
      "Mean F1 macro: 0.76427\n"
     ]
    }
   ],
   "source": [
    "# define evaluation procedure\n",
    "cv = RepeatedStratifiedKFold(n_splits=10, n_repeats=3, random_state=1)\n",
    "# evaluate model\n",
    "scores = cross_val_score(pipeline, X, y, scoring='f1_macro', cv=cv, n_jobs=-1,error_score=\"raise\")\n",
    "# summarize performance\n",
    "print('Mean F1 macro: %.5f' % mean(scores))"
   ]
  },
  {
   "cell_type": "markdown",
   "metadata": {},
   "source": [
    "## Feature Engineering"
   ]
  },
  {
   "cell_type": "markdown",
   "metadata": {},
   "source": [
    "The next phase is to remove and unecessary or duplicative features to streamline the productivity of our model."
   ]
  },
  {
   "cell_type": "markdown",
   "metadata": {},
   "source": [
    "### Feature Significance"
   ]
  },
  {
   "cell_type": "markdown",
   "metadata": {},
   "source": [
    "The following graph will show us the level of importance or contribution each feature has to our baseline model. With this we can prune any unused or harmful features. "
   ]
  },
  {
   "cell_type": "code",
   "execution_count": 934,
   "metadata": {},
   "outputs": [
    {
     "data": {
      "text/plain": [
       "<AxesSubplot:title={'center':'Feature importance'}, xlabel='F score', ylabel='Features'>"
      ]
     },
     "execution_count": 934,
     "metadata": {},
     "output_type": "execute_result"
    },
    {
     "data": {
      "image/png": "[encoded data removed]",
      "text/plain": [
       "<Figure size 432x288 with 1 Axes>"
      ]
     },
     "metadata": {
      "needs_background": "light"
     },
     "output_type": "display_data"
    }
   ],
   "source": [
    "plot_importance(pipeline.steps[4][1])"
   ]
  },
  {
   "cell_type": "markdown",
   "metadata": {},
   "source": [
    "1. Monthly Income\n",
    "2. Age\n",
    "3. NumberOfTrips\n",
    "4. Passport\n",
    "5. NumberOfPersonVisiting\n",
    "6. Number of ChildrenVisiting\n",
    "7. MaritalStatus_Single\n",
    "8. OwnCar\n",
    "9. CityTier3\n",
    "10. PreferredPropertyStar_3\n",
    "11. MaritalStatus_Married\n",
    "12. Gender_Female\n",
    "13. PreferredPropertyStar_4.0\n",
    "14. PreferredPropertyStar_5.0\n",
    "15. CityTier_1\n",
    "16. CityTier_2\n",
    "17. MaritalStatus_Divorced\n"
   ]
  },
  {
   "cell_type": "markdown",
   "metadata": {},
   "source": [
    "#### Multicollinearity"
   ]
  },
  {
   "cell_type": "markdown",
   "metadata": {},
   "source": [
    "Here we are checking if any features are correlated to others. If they are, we can remove one of them because they will have the same impact on the model."
   ]
  },
  {
   "cell_type": "code",
   "execution_count": 945,
   "metadata": {},
   "outputs": [
    {
     "data": {
      "text/html": [
       "<style type=\"text/css\">\n",
       "#T_83f2c_row0_col0, #T_83f2c_row1_col1, #T_83f2c_row2_col2, #T_83f2c_row3_col3, #T_83f2c_row4_col4, #T_83f2c_row5_col5, #T_83f2c_row6_col6, #T_83f2c_row7_col7, #T_83f2c_row8_col8, #T_83f2c_row9_col9, #T_83f2c_row10_col10, #T_83f2c_row11_col11, #T_83f2c_row12_col12, #T_83f2c_row13_col13, #T_83f2c_row14_col14, #T_83f2c_row15_col15, #T_83f2c_row16_col16, #T_83f2c_row17_col17 {\n",
       "  background-color: #b40426;\n",
       "  color: #f1f1f1;\n",
       "}\n",
       "#T_83f2c_row0_col1, #T_83f2c_row1_col3, #T_83f2c_row10_col2, #T_83f2c_row17_col16 {\n",
       "  background-color: #6788ee;\n",
       "  color: #f1f1f1;\n",
       "}\n",
       "#T_83f2c_row0_col2, #T_83f2c_row0_col13, #T_83f2c_row8_col13 {\n",
       "  background-color: #6f92f3;\n",
       "  color: #f1f1f1;\n",
       "}\n",
       "#T_83f2c_row0_col3, #T_83f2c_row12_col2 {\n",
       "  background-color: #5875e1;\n",
       "  color: #f1f1f1;\n",
       "}\n",
       "#T_83f2c_row0_col4, #T_83f2c_row7_col0, #T_83f2c_row13_col0, #T_83f2c_row16_col1 {\n",
       "  background-color: #5e7de7;\n",
       "  color: #f1f1f1;\n",
       "}\n",
       "#T_83f2c_row0_col5, #T_83f2c_row9_col1, #T_83f2c_row15_col6, #T_83f2c_row16_col6 {\n",
       "  background-color: #5d7ce6;\n",
       "  color: #f1f1f1;\n",
       "}\n",
       "#T_83f2c_row0_col6 {\n",
       "  background-color: #edd2c3;\n",
       "  color: #000000;\n",
       "}\n",
       "#T_83f2c_row0_col7, #T_83f2c_row2_col14, #T_83f2c_row10_col7, #T_83f2c_row13_col8, #T_83f2c_row17_col7 {\n",
       "  background-color: #d6dce4;\n",
       "  color: #000000;\n",
       "}\n",
       "#T_83f2c_row0_col8, #T_83f2c_row10_col8, #T_83f2c_row13_col7, #T_83f2c_row17_col8 {\n",
       "  background-color: #e3d9d3;\n",
       "  color: #000000;\n",
       "}\n",
       "#T_83f2c_row0_col9 {\n",
       "  background-color: #aac7fd;\n",
       "  color: #000000;\n",
       "}\n",
       "#T_83f2c_row0_col10, #T_83f2c_row7_col14 {\n",
       "  background-color: #e1dad6;\n",
       "  color: #000000;\n",
       "}\n",
       "#T_83f2c_row0_col11, #T_83f2c_row3_col17, #T_83f2c_row12_col9 {\n",
       "  background-color: #a6c4fe;\n",
       "  color: #000000;\n",
       "}\n",
       "#T_83f2c_row0_col12, #T_83f2c_row1_col14, #T_83f2c_row15_col10 {\n",
       "  background-color: #cfdaea;\n",
       "  color: #000000;\n",
       "}\n",
       "#T_83f2c_row0_col14 {\n",
       "  background-color: #dfdbd9;\n",
       "  color: #000000;\n",
       "}\n",
       "#T_83f2c_row0_col15, #T_83f2c_row1_col10, #T_83f2c_row12_col10, #T_83f2c_row16_col8 {\n",
       "  background-color: #c7d7f0;\n",
       "  color: #000000;\n",
       "}\n",
       "#T_83f2c_row0_col16, #T_83f2c_row0_col17, #T_83f2c_row11_col15, #T_83f2c_row13_col12 {\n",
       "  background-color: #abc8fd;\n",
       "  color: #000000;\n",
       "}\n",
       "#T_83f2c_row1_col0, #T_83f2c_row5_col0, #T_83f2c_row9_col0 {\n",
       "  background-color: #80a3fa;\n",
       "  color: #f1f1f1;\n",
       "}\n",
       "#T_83f2c_row1_col2 {\n",
       "  background-color: #8db0fe;\n",
       "  color: #000000;\n",
       "}\n",
       "#T_83f2c_row1_col4, #T_83f2c_row9_col2, #T_83f2c_row16_col5 {\n",
       "  background-color: #5673e0;\n",
       "  color: #f1f1f1;\n",
       "}\n",
       "#T_83f2c_row1_col5 {\n",
       "  background-color: #f5c0a7;\n",
       "  color: #000000;\n",
       "}\n",
       "#T_83f2c_row1_col6, #T_83f2c_row2_col17, #T_83f2c_row16_col10 {\n",
       "  background-color: #c1d4f4;\n",
       "  color: #000000;\n",
       "}\n",
       "#T_83f2c_row1_col7, #T_83f2c_row5_col7, #T_83f2c_row11_col7 {\n",
       "  background-color: #e2dad5;\n",
       "  color: #000000;\n",
       "}\n",
       "#T_83f2c_row1_col8, #T_83f2c_row5_col8, #T_83f2c_row11_col8, #T_83f2c_row15_col12, #T_83f2c_row15_col14 {\n",
       "  background-color: #d7dce3;\n",
       "  color: #000000;\n",
       "}\n",
       "#T_83f2c_row1_col9 {\n",
       "  background-color: #a1c0ff;\n",
       "  color: #000000;\n",
       "}\n",
       "#T_83f2c_row1_col11, #T_83f2c_row8_col14, #T_83f2c_row10_col14 {\n",
       "  background-color: #c9d7f0;\n",
       "  color: #000000;\n",
       "}\n",
       "#T_83f2c_row1_col12, #T_83f2c_row3_col7, #T_83f2c_row4_col8, #T_83f2c_row6_col7, #T_83f2c_row9_col12, #T_83f2c_row16_col14 {\n",
       "  background-color: #dddcdc;\n",
       "  color: #000000;\n",
       "}\n",
       "#T_83f2c_row1_col13, #T_83f2c_row6_col2, #T_83f2c_row10_col6 {\n",
       "  background-color: #779af7;\n",
       "  color: #f1f1f1;\n",
       "}\n",
       "#T_83f2c_row1_col15, #T_83f2c_row6_col16 {\n",
       "  background-color: #a9c6fd;\n",
       "  color: #000000;\n",
       "}\n",
       "#T_83f2c_row1_col16, #T_83f2c_row5_col15, #T_83f2c_row7_col17 {\n",
       "  background-color: #b3cdfb;\n",
       "  color: #000000;\n",
       "}\n",
       "#T_83f2c_row1_col17, #T_83f2c_row4_col10, #T_83f2c_row17_col10 {\n",
       "  background-color: #cad8ef;\n",
       "  color: #000000;\n",
       "}\n",
       "#T_83f2c_row2_col0, #T_83f2c_row2_col6 {\n",
       "  background-color: #88abfd;\n",
       "  color: #000000;\n",
       "}\n",
       "#T_83f2c_row2_col1, #T_83f2c_row14_col9 {\n",
       "  background-color: #90b2fe;\n",
       "  color: #000000;\n",
       "}\n",
       "#T_83f2c_row2_col3, #T_83f2c_row7_col3, #T_83f2c_row17_col2 {\n",
       "  background-color: #5a78e4;\n",
       "  color: #f1f1f1;\n",
       "}\n",
       "#T_83f2c_row2_col4, #T_83f2c_row13_col2, #T_83f2c_row13_col5, #T_83f2c_row16_col2, #T_83f2c_row17_col4 {\n",
       "  background-color: #455cce;\n",
       "  color: #f1f1f1;\n",
       "}\n",
       "#T_83f2c_row2_col5, #T_83f2c_row7_col13 {\n",
       "  background-color: #8caffe;\n",
       "  color: #000000;\n",
       "}\n",
       "#T_83f2c_row2_col7, #T_83f2c_row3_col14, #T_83f2c_row8_col10, #T_83f2c_row14_col8 {\n",
       "  background-color: #d2dbe8;\n",
       "  color: #000000;\n",
       "}\n",
       "#T_83f2c_row2_col8, #T_83f2c_row14_col7 {\n",
       "  background-color: #e7d7ce;\n",
       "  color: #000000;\n",
       "}\n",
       "#T_83f2c_row2_col9 {\n",
       "  background-color: #9ebeff;\n",
       "  color: #000000;\n",
       "}\n",
       "#T_83f2c_row2_col10 {\n",
       "  background-color: #d5dbe5;\n",
       "  color: #000000;\n",
       "}\n",
       "#T_83f2c_row2_col11 {\n",
       "  background-color: #bcd2f7;\n",
       "  color: #000000;\n",
       "}\n",
       "#T_83f2c_row2_col12 {\n",
       "  background-color: #d8dce2;\n",
       "  color: #000000;\n",
       "}\n",
       "#T_83f2c_row2_col13, #T_83f2c_row15_col13 {\n",
       "  background-color: #7295f4;\n",
       "  color: #f1f1f1;\n",
       "}\n",
       "#T_83f2c_row2_col15, #T_83f2c_row5_col17, #T_83f2c_row10_col17 {\n",
       "  background-color: #bed2f6;\n",
       "  color: #000000;\n",
       "}\n",
       "#T_83f2c_row2_col16 {\n",
       "  background-color: #a3c2fe;\n",
       "  color: #000000;\n",
       "}\n",
       "#T_83f2c_row3_col0, #T_83f2c_row16_col0 {\n",
       "  background-color: #6b8df0;\n",
       "  color: #f1f1f1;\n",
       "}\n",
       "#T_83f2c_row3_col1, #T_83f2c_row4_col3, #T_83f2c_row7_col1 {\n",
       "  background-color: #6384eb;\n",
       "  color: #f1f1f1;\n",
       "}\n",
       "#T_83f2c_row3_col2, #T_83f2c_row10_col3, #T_83f2c_row10_col9, #T_83f2c_row14_col2, #T_83f2c_row14_col4, #T_83f2c_row15_col2 {\n",
       "  background-color: #536edd;\n",
       "  color: #f1f1f1;\n",
       "}\n",
       "#T_83f2c_row3_col4, #T_83f2c_row11_col1 {\n",
       "  background-color: #5470de;\n",
       "  color: #f1f1f1;\n",
       "}\n",
       "#T_83f2c_row3_col5, #T_83f2c_row4_col5, #T_83f2c_row5_col4, #T_83f2c_row7_col5, #T_83f2c_row10_col5, #T_83f2c_row16_col4, #T_83f2c_row17_col0 {\n",
       "  background-color: #5572df;\n",
       "  color: #f1f1f1;\n",
       "}\n",
       "#T_83f2c_row3_col6, #T_83f2c_row14_col3 {\n",
       "  background-color: #516ddb;\n",
       "  color: #f1f1f1;\n",
       "}\n",
       "#T_83f2c_row3_col8, #T_83f2c_row3_col12, #T_83f2c_row4_col7, #T_83f2c_row6_col8 {\n",
       "  background-color: #dcdddd;\n",
       "  color: #000000;\n",
       "}\n",
       "#T_83f2c_row3_col9 {\n",
       "  background-color: #9fbfff;\n",
       "  color: #000000;\n",
       "}\n",
       "#T_83f2c_row3_col10, #T_83f2c_row12_col11 {\n",
       "  background-color: #c5d6f2;\n",
       "  color: #000000;\n",
       "}\n",
       "#T_83f2c_row3_col11, #T_83f2c_row3_col15, #T_83f2c_row9_col15, #T_83f2c_row17_col11 {\n",
       "  background-color: #cbd8ee;\n",
       "  color: #000000;\n",
       "}\n",
       "#T_83f2c_row3_col13, #T_83f2c_row9_col6, #T_83f2c_row15_col3 {\n",
       "  background-color: #7093f3;\n",
       "  color: #f1f1f1;\n",
       "}\n",
       "#T_83f2c_row3_col16, #T_83f2c_row13_col15 {\n",
       "  background-color: #b5cdfa;\n",
       "  color: #000000;\n",
       "}\n",
       "#T_83f2c_row4_col0, #T_83f2c_row14_col0 {\n",
       "  background-color: #81a4fb;\n",
       "  color: #f1f1f1;\n",
       "}\n",
       "#T_83f2c_row4_col1, #T_83f2c_row8_col6, #T_83f2c_row9_col4 {\n",
       "  background-color: #6282ea;\n",
       "  color: #f1f1f1;\n",
       "}\n",
       "#T_83f2c_row4_col2, #T_83f2c_row13_col1 {\n",
       "  background-color: #4f69d9;\n",
       "  color: #f1f1f1;\n",
       "}\n",
       "#T_83f2c_row4_col6 {\n",
       "  background-color: #93b5fe;\n",
       "  color: #000000;\n",
       "}\n",
       "#T_83f2c_row4_col9 {\n",
       "  background-color: #aec9fc;\n",
       "  color: #000000;\n",
       "}\n",
       "#T_83f2c_row4_col11, #T_83f2c_row7_col10 {\n",
       "  background-color: #c0d4f5;\n",
       "  color: #000000;\n",
       "}\n",
       "#T_83f2c_row4_col12, #T_83f2c_row5_col10, #T_83f2c_row7_col11, #T_83f2c_row9_col14, #T_83f2c_row16_col12 {\n",
       "  background-color: #d1dae9;\n",
       "  color: #000000;\n",
       "}\n",
       "#T_83f2c_row4_col13 {\n",
       "  background-color: #84a7fc;\n",
       "  color: #f1f1f1;\n",
       "}\n",
       "#T_83f2c_row4_col14, #T_83f2c_row16_col11, #T_83f2c_row17_col12 {\n",
       "  background-color: #dadce0;\n",
       "  color: #000000;\n",
       "}\n",
       "#T_83f2c_row4_col15, #T_83f2c_row6_col15, #T_83f2c_row9_col17, #T_83f2c_row13_col14 {\n",
       "  background-color: #b9d0f9;\n",
       "  color: #000000;\n",
       "}\n",
       "#T_83f2c_row4_col16, #T_83f2c_row5_col6 {\n",
       "  background-color: #b6cefa;\n",
       "  color: #000000;\n",
       "}\n",
       "#T_83f2c_row4_col17, #T_83f2c_row6_col11, #T_83f2c_row14_col10, #T_83f2c_row14_col16, #T_83f2c_row15_col11 {\n",
       "  background-color: #bad0f8;\n",
       "  color: #000000;\n",
       "}\n",
       "#T_83f2c_row5_col1 {\n",
       "  background-color: #f7bca1;\n",
       "  color: #000000;\n",
       "}\n",
       "#T_83f2c_row5_col2, #T_83f2c_row14_col6 {\n",
       "  background-color: #94b6ff;\n",
       "  color: #000000;\n",
       "}\n",
       "#T_83f2c_row5_col3, #T_83f2c_row7_col6, #T_83f2c_row12_col1 {\n",
       "  background-color: #6687ed;\n",
       "  color: #f1f1f1;\n",
       "}\n",
       "#T_83f2c_row5_col9, #T_83f2c_row9_col10, #T_83f2c_row13_col9 {\n",
       "  background-color: #92b4fe;\n",
       "  color: #000000;\n",
       "}\n",
       "#T_83f2c_row5_col11, #T_83f2c_row7_col12, #T_83f2c_row8_col17 {\n",
       "  background-color: #c6d6f1;\n",
       "  color: #000000;\n",
       "}\n",
       "#T_83f2c_row5_col12, #T_83f2c_row12_col7 {\n",
       "  background-color: #cedaeb;\n",
       "  color: #000000;\n",
       "}\n",
       "#T_83f2c_row5_col13, #T_83f2c_row6_col13 {\n",
       "  background-color: #7a9df8;\n",
       "  color: #f1f1f1;\n",
       "}\n",
       "#T_83f2c_row5_col14, #T_83f2c_row9_col7 {\n",
       "  background-color: #dedcdb;\n",
       "  color: #000000;\n",
       "}\n",
       "#T_83f2c_row5_col16, #T_83f2c_row6_col1 {\n",
       "  background-color: #b7cff9;\n",
       "  color: #000000;\n",
       "}\n",
       "#T_83f2c_row6_col0 {\n",
       "  background-color: #efcfbf;\n",
       "  color: #000000;\n",
       "}\n",
       "#T_83f2c_row6_col3, #T_83f2c_row7_col4, #T_83f2c_row10_col4 {\n",
       "  background-color: #4961d2;\n",
       "  color: #f1f1f1;\n",
       "}\n",
       "#T_83f2c_row6_col4, #T_83f2c_row8_col0, #T_83f2c_row9_col11 {\n",
       "  background-color: #7b9ff9;\n",
       "  color: #f1f1f1;\n",
       "}\n",
       "#T_83f2c_row6_col5, #T_83f2c_row10_col16 {\n",
       "  background-color: #a2c1ff;\n",
       "  color: #000000;\n",
       "}\n",
       "#T_83f2c_row6_col9, #T_83f2c_row12_col16, #T_83f2c_row13_col11, #T_83f2c_row13_col16 {\n",
       "  background-color: #a5c3fe;\n",
       "  color: #000000;\n",
       "}\n",
       "#T_83f2c_row6_col10, #T_83f2c_row10_col12 {\n",
       "  background-color: #d4dbe6;\n",
       "  color: #000000;\n",
       "}\n",
       "#T_83f2c_row6_col12, #T_83f2c_row11_col17, #T_83f2c_row12_col15, #T_83f2c_row14_col15 {\n",
       "  background-color: #bfd3f6;\n",
       "  color: #000000;\n",
       "}\n",
       "#T_83f2c_row6_col14 {\n",
       "  background-color: #ead4c8;\n",
       "  color: #000000;\n",
       "}\n",
       "#T_83f2c_row6_col17, #T_83f2c_row10_col13 {\n",
       "  background-color: #bbd1f8;\n",
       "  color: #000000;\n",
       "}\n",
       "#T_83f2c_row7_col2, #T_83f2c_row7_col8, #T_83f2c_row8_col7, #T_83f2c_row10_col11, #T_83f2c_row11_col0, #T_83f2c_row11_col4, #T_83f2c_row11_col9, #T_83f2c_row11_col10, #T_83f2c_row12_col5, #T_83f2c_row12_col6, #T_83f2c_row12_col13, #T_83f2c_row12_col14, #T_83f2c_row14_col12, #T_83f2c_row15_col1, #T_83f2c_row15_col5, #T_83f2c_row15_col16, #T_83f2c_row15_col17, #T_83f2c_row17_col3, #T_83f2c_row17_col15 {\n",
       "  background-color: #3b4cc0;\n",
       "  color: #f1f1f1;\n",
       "}\n",
       "#T_83f2c_row7_col9 {\n",
       "  background-color: #9dbdff;\n",
       "  color: #000000;\n",
       "}\n",
       "#T_83f2c_row7_col15, #T_83f2c_row15_col9 {\n",
       "  background-color: #adc9fd;\n",
       "  color: #000000;\n",
       "}\n",
       "#T_83f2c_row7_col16, #T_83f2c_row8_col15, #T_83f2c_row17_col14 {\n",
       "  background-color: #ccd9ed;\n",
       "  color: #000000;\n",
       "}\n",
       "#T_83f2c_row8_col1, #T_83f2c_row14_col1 {\n",
       "  background-color: #485fd1;\n",
       "  color: #f1f1f1;\n",
       "}\n",
       "#T_83f2c_row8_col2 {\n",
       "  background-color: #6c8ff1;\n",
       "  color: #f1f1f1;\n",
       "}\n",
       "#T_83f2c_row8_col3 {\n",
       "  background-color: #5977e3;\n",
       "  color: #f1f1f1;\n",
       "}\n",
       "#T_83f2c_row8_col4, #T_83f2c_row11_col6, #T_83f2c_row11_col13, #T_83f2c_row17_col5 {\n",
       "  background-color: #4a63d3;\n",
       "  color: #f1f1f1;\n",
       "}\n",
       "#T_83f2c_row8_col5, #T_83f2c_row11_col2 {\n",
       "  background-color: #3d50c3;\n",
       "  color: #f1f1f1;\n",
       "}\n",
       "#T_83f2c_row8_col9 {\n",
       "  background-color: #97b8ff;\n",
       "  color: #000000;\n",
       "}\n",
       "#T_83f2c_row8_col11, #T_83f2c_row12_col17 {\n",
       "  background-color: #c3d5f4;\n",
       "  color: #000000;\n",
       "}\n",
       "#T_83f2c_row8_col12 {\n",
       "  background-color: #e4d9d2;\n",
       "  color: #000000;\n",
       "}\n",
       "#T_83f2c_row8_col16 {\n",
       "  background-color: #8badfd;\n",
       "  color: #000000;\n",
       "}\n",
       "#T_83f2c_row9_col3, #T_83f2c_row12_col0, #T_83f2c_row17_col6 {\n",
       "  background-color: #6180e9;\n",
       "  color: #f1f1f1;\n",
       "}\n",
       "#T_83f2c_row9_col5 {\n",
       "  background-color: #4055c8;\n",
       "  color: #f1f1f1;\n",
       "}\n",
       "#T_83f2c_row9_col8, #T_83f2c_row14_col11 {\n",
       "  background-color: #dbdcde;\n",
       "  color: #000000;\n",
       "}\n",
       "#T_83f2c_row9_col13 {\n",
       "  background-color: #7597f6;\n",
       "  color: #f1f1f1;\n",
       "}\n",
       "#T_83f2c_row9_col16, #T_83f2c_row10_col0 {\n",
       "  background-color: #9abbff;\n",
       "  color: #000000;\n",
       "}\n",
       "#T_83f2c_row10_col1, #T_83f2c_row13_col4, #T_83f2c_row16_col15 {\n",
       "  background-color: #506bda;\n",
       "  color: #f1f1f1;\n",
       "}\n",
       "#T_83f2c_row10_col15, #T_83f2c_row11_col16 {\n",
       "  background-color: #c4d5f3;\n",
       "  color: #000000;\n",
       "}\n",
       "#T_83f2c_row11_col3, #T_83f2c_row14_col5 {\n",
       "  background-color: #5b7ae5;\n",
       "  color: #f1f1f1;\n",
       "}\n",
       "#T_83f2c_row11_col5 {\n",
       "  background-color: #445acc;\n",
       "  color: #f1f1f1;\n",
       "}\n",
       "#T_83f2c_row11_col12, #T_83f2c_row15_col7 {\n",
       "  background-color: #d3dbe7;\n",
       "  color: #000000;\n",
       "}\n",
       "#T_83f2c_row11_col14 {\n",
       "  background-color: #e5d8d1;\n",
       "  color: #000000;\n",
       "}\n",
       "#T_83f2c_row12_col3 {\n",
       "  background-color: #688aef;\n",
       "  color: #f1f1f1;\n",
       "}\n",
       "#T_83f2c_row12_col4 {\n",
       "  background-color: #3e51c5;\n",
       "  color: #f1f1f1;\n",
       "}\n",
       "#T_83f2c_row12_col8 {\n",
       "  background-color: #ead5c9;\n",
       "  color: #000000;\n",
       "}\n",
       "#T_83f2c_row13_col3 {\n",
       "  background-color: #4c66d6;\n",
       "  color: #f1f1f1;\n",
       "}\n",
       "#T_83f2c_row13_col6 {\n",
       "  background-color: #5f7fe8;\n",
       "  color: #f1f1f1;\n",
       "}\n",
       "#T_83f2c_row13_col10 {\n",
       "  background-color: #ebd3c6;\n",
       "  color: #000000;\n",
       "}\n",
       "#T_83f2c_row13_col17 {\n",
       "  background-color: #cdd9ec;\n",
       "  color: #000000;\n",
       "}\n",
       "#T_83f2c_row14_col13 {\n",
       "  background-color: #4e68d8;\n",
       "  color: #f1f1f1;\n",
       "}\n",
       "#T_83f2c_row14_col17 {\n",
       "  background-color: #afcafc;\n",
       "  color: #000000;\n",
       "}\n",
       "#T_83f2c_row15_col0, #T_83f2c_row16_col17 {\n",
       "  background-color: #7da0f9;\n",
       "  color: #f1f1f1;\n",
       "}\n",
       "#T_83f2c_row15_col4 {\n",
       "  background-color: #4358cb;\n",
       "  color: #f1f1f1;\n",
       "}\n",
       "#T_83f2c_row15_col8 {\n",
       "  background-color: #e6d7cf;\n",
       "  color: #000000;\n",
       "}\n",
       "#T_83f2c_row16_col3 {\n",
       "  background-color: #6485ec;\n",
       "  color: #f1f1f1;\n",
       "}\n",
       "#T_83f2c_row16_col7 {\n",
       "  background-color: #eed0c0;\n",
       "  color: #000000;\n",
       "}\n",
       "#T_83f2c_row16_col9 {\n",
       "  background-color: #85a8fc;\n",
       "  color: #f1f1f1;\n",
       "}\n",
       "#T_83f2c_row16_col13 {\n",
       "  background-color: #7396f5;\n",
       "  color: #f1f1f1;\n",
       "}\n",
       "#T_83f2c_row17_col1 {\n",
       "  background-color: #6a8bef;\n",
       "  color: #f1f1f1;\n",
       "}\n",
       "#T_83f2c_row17_col9, #T_83f2c_row17_col13 {\n",
       "  background-color: #96b7ff;\n",
       "  color: #000000;\n",
       "}\n",
       "</style>\n",
       "<table id=\"T_83f2c_\">\n",
       "  <thead>\n",
       "    <tr>\n",
       "      <th class=\"blank level0\" >&nbsp;</th>\n",
       "      <th class=\"col_heading level0 col0\" >Age</th>\n",
       "      <th class=\"col_heading level0 col1\" >NumberOfPersonVisiting</th>\n",
       "      <th class=\"col_heading level0 col2\" >NumberOfTrips</th>\n",
       "      <th class=\"col_heading level0 col3\" >Passport</th>\n",
       "      <th class=\"col_heading level0 col4\" >OwnCar</th>\n",
       "      <th class=\"col_heading level0 col5\" >NumberOfChildrenVisiting</th>\n",
       "      <th class=\"col_heading level0 col6\" >MonthlyIncome</th>\n",
       "      <th class=\"col_heading level0 col7\" >Gender_Female</th>\n",
       "      <th class=\"col_heading level0 col8\" >Gender_Male</th>\n",
       "      <th class=\"col_heading level0 col9\" >MaritalStatus_Divorced</th>\n",
       "      <th class=\"col_heading level0 col10\" >MaritalStatus_Married</th>\n",
       "      <th class=\"col_heading level0 col11\" >MaritalStatus_Single</th>\n",
       "      <th class=\"col_heading level0 col12\" >CityTier_1</th>\n",
       "      <th class=\"col_heading level0 col13\" >CityTier_2</th>\n",
       "      <th class=\"col_heading level0 col14\" >CityTier_3</th>\n",
       "      <th class=\"col_heading level0 col15\" >PreferredPropertyStar_3.0</th>\n",
       "      <th class=\"col_heading level0 col16\" >PreferredPropertyStar_4.0</th>\n",
       "      <th class=\"col_heading level0 col17\" >PreferredPropertyStar_5.0</th>\n",
       "    </tr>\n",
       "  </thead>\n",
       "  <tbody>\n",
       "    <tr>\n",
       "      <th id=\"T_83f2c_level0_row0\" class=\"row_heading level0 row0\" >Age</th>\n",
       "      <td id=\"T_83f2c_row0_col0\" class=\"data row0 col0\" >1.000000</td>\n",
       "      <td id=\"T_83f2c_row0_col1\" class=\"data row0 col1\" >0.061713</td>\n",
       "      <td id=\"T_83f2c_row0_col2\" class=\"data row0 col2\" >0.093434</td>\n",
       "      <td id=\"T_83f2c_row0_col3\" class=\"data row0 col3\" >-0.006912</td>\n",
       "      <td id=\"T_83f2c_row0_col4\" class=\"data row0 col4\" >0.068902</td>\n",
       "      <td id=\"T_83f2c_row0_col5\" class=\"data row0 col5\" >0.063468</td>\n",
       "      <td id=\"T_83f2c_row0_col6\" class=\"data row0 col6\" >0.502517</td>\n",
       "      <td id=\"T_83f2c_row0_col7\" class=\"data row0 col7\" >-0.050635</td>\n",
       "      <td id=\"T_83f2c_row0_col8\" class=\"data row0 col8\" >0.050635</td>\n",
       "      <td id=\"T_83f2c_row0_col9\" class=\"data row0 col9\" >0.065152</td>\n",
       "      <td id=\"T_83f2c_row0_col10\" class=\"data row0 col10\" >0.151519</td>\n",
       "      <td id=\"T_83f2c_row0_col11\" class=\"data row0 col11\" >-0.189633</td>\n",
       "      <td id=\"T_83f2c_row0_col12\" class=\"data row0 col12\" >-0.041824</td>\n",
       "      <td id=\"T_83f2c_row0_col13\" class=\"data row0 col13\" >-0.053792</td>\n",
       "      <td id=\"T_83f2c_row0_col14\" class=\"data row0 col14\" >0.066754</td>\n",
       "      <td id=\"T_83f2c_row0_col15\" class=\"data row0 col15\" >0.054815</td>\n",
       "      <td id=\"T_83f2c_row0_col16\" class=\"data row0 col16\" >-0.007901</td>\n",
       "      <td id=\"T_83f2c_row0_col17\" class=\"data row0 col17\" >-0.084855</td>\n",
       "    </tr>\n",
       "    <tr>\n",
       "      <th id=\"T_83f2c_level0_row1\" class=\"row_heading level0 row1\" >NumberOfPersonVisiting</th>\n",
       "      <td id=\"T_83f2c_row1_col0\" class=\"data row1 col0\" >0.061713</td>\n",
       "      <td id=\"T_83f2c_row1_col1\" class=\"data row1 col1\" >1.000000</td>\n",
       "      <td id=\"T_83f2c_row1_col2\" class=\"data row1 col2\" >0.187754</td>\n",
       "      <td id=\"T_83f2c_row1_col3\" class=\"data row1 col3\" >0.045721</td>\n",
       "      <td id=\"T_83f2c_row1_col4\" class=\"data row1 col4\" >0.041352</td>\n",
       "      <td id=\"T_83f2c_row1_col5\" class=\"data row1 col5\" >0.621791</td>\n",
       "      <td id=\"T_83f2c_row1_col6\" class=\"data row1 col6\" >0.312351</td>\n",
       "      <td id=\"T_83f2c_row1_col7\" class=\"data row1 col7\" >0.046451</td>\n",
       "      <td id=\"T_83f2c_row1_col8\" class=\"data row1 col8\" >-0.046451</td>\n",
       "      <td id=\"T_83f2c_row1_col9\" class=\"data row1 col9\" >0.027067</td>\n",
       "      <td id=\"T_83f2c_row1_col10\" class=\"data row1 col10\" >-0.015456</td>\n",
       "      <td id=\"T_83f2c_row1_col11\" class=\"data row1 col11\" >-0.003701</td>\n",
       "      <td id=\"T_83f2c_row1_col12\" class=\"data row1 col12\" >0.055637</td>\n",
       "      <td id=\"T_83f2c_row1_col13\" class=\"data row1 col13\" >-0.023427</td>\n",
       "      <td id=\"T_83f2c_row1_col14\" class=\"data row1 col14\" >-0.046194</td>\n",
       "      <td id=\"T_83f2c_row1_col15\" class=\"data row1 col15\" >-0.096752</td>\n",
       "      <td id=\"T_83f2c_row1_col16\" class=\"data row1 col16\" >0.029670</td>\n",
       "      <td id=\"T_83f2c_row1_col17\" class=\"data row1 col17\" >0.066461</td>\n",
       "    </tr>\n",
       "    <tr>\n",
       "      <th id=\"T_83f2c_level0_row2\" class=\"row_heading level0 row2\" >NumberOfTrips</th>\n",
       "      <td id=\"T_83f2c_row2_col0\" class=\"data row2 col0\" >0.093434</td>\n",
       "      <td id=\"T_83f2c_row2_col1\" class=\"data row2 col1\" >0.187754</td>\n",
       "      <td id=\"T_83f2c_row2_col2\" class=\"data row2 col2\" >1.000000</td>\n",
       "      <td id=\"T_83f2c_row2_col3\" class=\"data row2 col3\" >0.000556</td>\n",
       "      <td id=\"T_83f2c_row2_col4\" class=\"data row2 col4\" >-0.013116</td>\n",
       "      <td id=\"T_83f2c_row2_col5\" class=\"data row2 col5\" >0.207184</td>\n",
       "      <td id=\"T_83f2c_row2_col6\" class=\"data row2 col6\" >0.120667</td>\n",
       "      <td id=\"T_83f2c_row2_col7\" class=\"data row2 col7\" >-0.085630</td>\n",
       "      <td id=\"T_83f2c_row2_col8\" class=\"data row2 col8\" >0.085630</td>\n",
       "      <td id=\"T_83f2c_row2_col9\" class=\"data row2 col9\" >0.015289</td>\n",
       "      <td id=\"T_83f2c_row2_col10\" class=\"data row2 col10\" >0.069034</td>\n",
       "      <td id=\"T_83f2c_row2_col11\" class=\"data row2 col11\" >-0.076477</td>\n",
       "      <td id=\"T_83f2c_row2_col12\" class=\"data row2 col12\" >0.017902</td>\n",
       "      <td id=\"T_83f2c_row2_col13\" class=\"data row2 col13\" >-0.044298</td>\n",
       "      <td id=\"T_83f2c_row2_col14\" class=\"data row2 col14\" >0.001524</td>\n",
       "      <td id=\"T_83f2c_row2_col15\" class=\"data row2 col15\" >0.002800</td>\n",
       "      <td id=\"T_83f2c_row2_col16\" class=\"data row2 col16\" >-0.044556</td>\n",
       "      <td id=\"T_83f2c_row2_col17\" class=\"data row2 col17\" >0.025582</td>\n",
       "    </tr>\n",
       "    <tr>\n",
       "      <th id=\"T_83f2c_level0_row3\" class=\"row_heading level0 row3\" >Passport</th>\n",
       "      <td id=\"T_83f2c_row3_col0\" class=\"data row3 col0\" >-0.006912</td>\n",
       "      <td id=\"T_83f2c_row3_col1\" class=\"data row3 col1\" >0.045721</td>\n",
       "      <td id=\"T_83f2c_row3_col2\" class=\"data row3 col2\" >0.000556</td>\n",
       "      <td id=\"T_83f2c_row3_col3\" class=\"data row3 col3\" >1.000000</td>\n",
       "      <td id=\"T_83f2c_row3_col4\" class=\"data row3 col4\" >0.032625</td>\n",
       "      <td id=\"T_83f2c_row3_col5\" class=\"data row3 col5\" >0.040108</td>\n",
       "      <td id=\"T_83f2c_row3_col6\" class=\"data row3 col6\" >-0.061643</td>\n",
       "      <td id=\"T_83f2c_row3_col7\" class=\"data row3 col7\" >0.001628</td>\n",
       "      <td id=\"T_83f2c_row3_col8\" class=\"data row3 col8\" >-0.001628</td>\n",
       "      <td id=\"T_83f2c_row3_col9\" class=\"data row3 col9\" >0.021815</td>\n",
       "      <td id=\"T_83f2c_row3_col10\" class=\"data row3 col10\" >-0.023005</td>\n",
       "      <td id=\"T_83f2c_row3_col11\" class=\"data row3 col11\" >0.007110</td>\n",
       "      <td id=\"T_83f2c_row3_col12\" class=\"data row3 col12\" >0.047415</td>\n",
       "      <td id=\"T_83f2c_row3_col13\" class=\"data row3 col13\" >-0.047009</td>\n",
       "      <td id=\"T_83f2c_row3_col14\" class=\"data row3 col14\" >-0.027252</td>\n",
       "      <td id=\"T_83f2c_row3_col15\" class=\"data row3 col15\" >0.075017</td>\n",
       "      <td id=\"T_83f2c_row3_col16\" class=\"data row3 col16\" >0.034332</td>\n",
       "      <td id=\"T_83f2c_row3_col17\" class=\"data row3 col17\" >-0.113876</td>\n",
       "    </tr>\n",
       "    <tr>\n",
       "      <th id=\"T_83f2c_level0_row4\" class=\"row_heading level0 row4\" >OwnCar</th>\n",
       "      <td id=\"T_83f2c_row4_col0\" class=\"data row4 col0\" >0.068902</td>\n",
       "      <td id=\"T_83f2c_row4_col1\" class=\"data row4 col1\" >0.041352</td>\n",
       "      <td id=\"T_83f2c_row4_col2\" class=\"data row4 col2\" >-0.013116</td>\n",
       "      <td id=\"T_83f2c_row4_col3\" class=\"data row4 col3\" >0.032625</td>\n",
       "      <td id=\"T_83f2c_row4_col4\" class=\"data row4 col4\" >1.000000</td>\n",
       "      <td id=\"T_83f2c_row4_col5\" class=\"data row4 col5\" >0.038796</td>\n",
       "      <td id=\"T_83f2c_row4_col6\" class=\"data row4 col6\" >0.158618</td>\n",
       "      <td id=\"T_83f2c_row4_col7\" class=\"data row4 col7\" >-0.000801</td>\n",
       "      <td id=\"T_83f2c_row4_col8\" class=\"data row4 col8\" >0.000801</td>\n",
       "      <td id=\"T_83f2c_row4_col9\" class=\"data row4 col9\" >0.081666</td>\n",
       "      <td id=\"T_83f2c_row4_col10\" class=\"data row4 col10\" >-0.002024</td>\n",
       "      <td id=\"T_83f2c_row4_col11\" class=\"data row4 col11\" >-0.053852</td>\n",
       "      <td id=\"T_83f2c_row4_col12\" class=\"data row4 col12\" >-0.038286</td>\n",
       "      <td id=\"T_83f2c_row4_col13\" class=\"data row4 col13\" >0.020438</td>\n",
       "      <td id=\"T_83f2c_row4_col14\" class=\"data row4 col14\" >0.029854</td>\n",
       "      <td id=\"T_83f2c_row4_col15\" class=\"data row4 col15\" >-0.024042</td>\n",
       "      <td id=\"T_83f2c_row4_col16\" class=\"data row4 col16\" >0.040351</td>\n",
       "      <td id=\"T_83f2c_row4_col17\" class=\"data row4 col17\" >-0.015890</td>\n",
       "    </tr>\n",
       "    <tr>\n",
       "      <th id=\"T_83f2c_level0_row5\" class=\"row_heading level0 row5\" >NumberOfChildrenVisiting</th>\n",
       "      <td id=\"T_83f2c_row5_col0\" class=\"data row5 col0\" >0.063468</td>\n",
       "      <td id=\"T_83f2c_row5_col1\" class=\"data row5 col1\" >0.621791</td>\n",
       "      <td id=\"T_83f2c_row5_col2\" class=\"data row5 col2\" >0.207184</td>\n",
       "      <td id=\"T_83f2c_row5_col3\" class=\"data row5 col3\" >0.040108</td>\n",
       "      <td id=\"T_83f2c_row5_col4\" class=\"data row5 col4\" >0.038796</td>\n",
       "      <td id=\"T_83f2c_row5_col5\" class=\"data row5 col5\" >1.000000</td>\n",
       "      <td id=\"T_83f2c_row5_col6\" class=\"data row5 col6\" >0.274998</td>\n",
       "      <td id=\"T_83f2c_row5_col7\" class=\"data row5 col7\" >0.040020</td>\n",
       "      <td id=\"T_83f2c_row5_col8\" class=\"data row5 col8\" >-0.040020</td>\n",
       "      <td id=\"T_83f2c_row5_col9\" class=\"data row5 col9\" >-0.031478</td>\n",
       "      <td id=\"T_83f2c_row5_col10\" class=\"data row5 col10\" >0.040432</td>\n",
       "      <td id=\"T_83f2c_row5_col11\" class=\"data row5 col11\" >-0.017249</td>\n",
       "      <td id=\"T_83f2c_row5_col12\" class=\"data row5 col12\" >-0.052204</td>\n",
       "      <td id=\"T_83f2c_row5_col13\" class=\"data row5 col13\" >-0.012860</td>\n",
       "      <td id=\"T_83f2c_row5_col14\" class=\"data row5 col14\" >0.058981</td>\n",
       "      <td id=\"T_83f2c_row5_col15\" class=\"data row5 col15\" >-0.050766</td>\n",
       "      <td id=\"T_83f2c_row5_col16\" class=\"data row5 col16\" >0.046049</td>\n",
       "      <td id=\"T_83f2c_row5_col17\" class=\"data row5 col17\" >0.004832</td>\n",
       "    </tr>\n",
       "    <tr>\n",
       "      <th id=\"T_83f2c_level0_row6\" class=\"row_heading level0 row6\" >MonthlyIncome</th>\n",
       "      <td id=\"T_83f2c_row6_col0\" class=\"data row6 col0\" >0.502517</td>\n",
       "      <td id=\"T_83f2c_row6_col1\" class=\"data row6 col1\" >0.312351</td>\n",
       "      <td id=\"T_83f2c_row6_col2\" class=\"data row6 col2\" >0.120667</td>\n",
       "      <td id=\"T_83f2c_row6_col3\" class=\"data row6 col3\" >-0.061643</td>\n",
       "      <td id=\"T_83f2c_row6_col4\" class=\"data row6 col4\" >0.158618</td>\n",
       "      <td id=\"T_83f2c_row6_col5\" class=\"data row6 col5\" >0.274998</td>\n",
       "      <td id=\"T_83f2c_row6_col6\" class=\"data row6 col6\" >1.000000</td>\n",
       "      <td id=\"T_83f2c_row6_col7\" class=\"data row6 col7\" >0.006787</td>\n",
       "      <td id=\"T_83f2c_row6_col8\" class=\"data row6 col8\" >-0.006787</td>\n",
       "      <td id=\"T_83f2c_row6_col9\" class=\"data row6 col9\" >0.042523</td>\n",
       "      <td id=\"T_83f2c_row6_col10\" class=\"data row6 col10\" >0.064918</td>\n",
       "      <td id=\"T_83f2c_row6_col11\" class=\"data row6 col11\" >-0.091152</td>\n",
       "      <td id=\"T_83f2c_row6_col12\" class=\"data row6 col12\" >-0.151270</td>\n",
       "      <td id=\"T_83f2c_row6_col13\" class=\"data row6 col13\" >-0.014132</td>\n",
       "      <td id=\"T_83f2c_row6_col14\" class=\"data row6 col14\" >0.160407</td>\n",
       "      <td id=\"T_83f2c_row6_col15\" class=\"data row6 col15\" >-0.021449</td>\n",
       "      <td id=\"T_83f2c_row6_col16\" class=\"data row6 col16\" >-0.021328</td>\n",
       "      <td id=\"T_83f2c_row6_col17\" class=\"data row6 col17\" >-0.010261</td>\n",
       "    </tr>\n",
       "    <tr>\n",
       "      <th id=\"T_83f2c_level0_row7\" class=\"row_heading level0 row7\" >Gender_Female</th>\n",
       "      <td id=\"T_83f2c_row7_col0\" class=\"data row7 col0\" >-0.050635</td>\n",
       "      <td id=\"T_83f2c_row7_col1\" class=\"data row7 col1\" >0.046451</td>\n",
       "      <td id=\"T_83f2c_row7_col2\" class=\"data row7 col2\" >-0.085630</td>\n",
       "      <td id=\"T_83f2c_row7_col3\" class=\"data row7 col3\" >0.001628</td>\n",
       "      <td id=\"T_83f2c_row7_col4\" class=\"data row7 col4\" >-0.000801</td>\n",
       "      <td id=\"T_83f2c_row7_col5\" class=\"data row7 col5\" >0.040020</td>\n",
       "      <td id=\"T_83f2c_row7_col6\" class=\"data row7 col6\" >0.006787</td>\n",
       "      <td id=\"T_83f2c_row7_col7\" class=\"data row7 col7\" >1.000000</td>\n",
       "      <td id=\"T_83f2c_row7_col8\" class=\"data row7 col8\" >-1.000000</td>\n",
       "      <td id=\"T_83f2c_row7_col9\" class=\"data row7 col9\" >0.012543</td>\n",
       "      <td id=\"T_83f2c_row7_col10\" class=\"data row7 col10\" >-0.052604</td>\n",
       "      <td id=\"T_83f2c_row7_col11\" class=\"data row7 col11\" >0.041766</td>\n",
       "      <td id=\"T_83f2c_row7_col12\" class=\"data row7 col12\" >-0.105734</td>\n",
       "      <td id=\"T_83f2c_row7_col13\" class=\"data row7 col13\" >0.050568</td>\n",
       "      <td id=\"T_83f2c_row7_col14\" class=\"data row7 col14\" >0.085079</td>\n",
       "      <td id=\"T_83f2c_row7_col15\" class=\"data row7 col15\" >-0.077362</td>\n",
       "      <td id=\"T_83f2c_row7_col16\" class=\"data row7 col16\" >0.148737</td>\n",
       "      <td id=\"T_83f2c_row7_col17\" class=\"data row7 col17\" >-0.050230</td>\n",
       "    </tr>\n",
       "    <tr>\n",
       "      <th id=\"T_83f2c_level0_row8\" class=\"row_heading level0 row8\" >Gender_Male</th>\n",
       "      <td id=\"T_83f2c_row8_col0\" class=\"data row8 col0\" >0.050635</td>\n",
       "      <td id=\"T_83f2c_row8_col1\" class=\"data row8 col1\" >-0.046451</td>\n",
       "      <td id=\"T_83f2c_row8_col2\" class=\"data row8 col2\" >0.085630</td>\n",
       "      <td id=\"T_83f2c_row8_col3\" class=\"data row8 col3\" >-0.001628</td>\n",
       "      <td id=\"T_83f2c_row8_col4\" class=\"data row8 col4\" >0.000801</td>\n",
       "      <td id=\"T_83f2c_row8_col5\" class=\"data row8 col5\" >-0.040020</td>\n",
       "      <td id=\"T_83f2c_row8_col6\" class=\"data row8 col6\" >-0.006787</td>\n",
       "      <td id=\"T_83f2c_row8_col7\" class=\"data row8 col7\" >-1.000000</td>\n",
       "      <td id=\"T_83f2c_row8_col8\" class=\"data row8 col8\" >1.000000</td>\n",
       "      <td id=\"T_83f2c_row8_col9\" class=\"data row8 col9\" >-0.012543</td>\n",
       "      <td id=\"T_83f2c_row8_col10\" class=\"data row8 col10\" >0.052604</td>\n",
       "      <td id=\"T_83f2c_row8_col11\" class=\"data row8 col11\" >-0.041766</td>\n",
       "      <td id=\"T_83f2c_row8_col12\" class=\"data row8 col12\" >0.105734</td>\n",
       "      <td id=\"T_83f2c_row8_col13\" class=\"data row8 col13\" >-0.050568</td>\n",
       "      <td id=\"T_83f2c_row8_col14\" class=\"data row8 col14\" >-0.085079</td>\n",
       "      <td id=\"T_83f2c_row8_col15\" class=\"data row8 col15\" >0.077362</td>\n",
       "      <td id=\"T_83f2c_row8_col16\" class=\"data row8 col16\" >-0.148737</td>\n",
       "      <td id=\"T_83f2c_row8_col17\" class=\"data row8 col17\" >0.050230</td>\n",
       "    </tr>\n",
       "    <tr>\n",
       "      <th id=\"T_83f2c_level0_row9\" class=\"row_heading level0 row9\" >MaritalStatus_Divorced</th>\n",
       "      <td id=\"T_83f2c_row9_col0\" class=\"data row9 col0\" >0.065152</td>\n",
       "      <td id=\"T_83f2c_row9_col1\" class=\"data row9 col1\" >0.027067</td>\n",
       "      <td id=\"T_83f2c_row9_col2\" class=\"data row9 col2\" >0.015289</td>\n",
       "      <td id=\"T_83f2c_row9_col3\" class=\"data row9 col3\" >0.021815</td>\n",
       "      <td id=\"T_83f2c_row9_col4\" class=\"data row9 col4\" >0.081666</td>\n",
       "      <td id=\"T_83f2c_row9_col5\" class=\"data row9 col5\" >-0.031478</td>\n",
       "      <td id=\"T_83f2c_row9_col6\" class=\"data row9 col6\" >0.042523</td>\n",
       "      <td id=\"T_83f2c_row9_col7\" class=\"data row9 col7\" >0.012543</td>\n",
       "      <td id=\"T_83f2c_row9_col8\" class=\"data row9 col8\" >-0.012543</td>\n",
       "      <td id=\"T_83f2c_row9_col9\" class=\"data row9 col9\" >1.000000</td>\n",
       "      <td id=\"T_83f2c_row9_col10\" class=\"data row9 col10\" >-0.292395</td>\n",
       "      <td id=\"T_83f2c_row9_col11\" class=\"data row9 col11\" >-0.403364</td>\n",
       "      <td id=\"T_83f2c_row9_col12\" class=\"data row9 col12\" >0.050808</td>\n",
       "      <td id=\"T_83f2c_row9_col13\" class=\"data row9 col13\" >-0.032130</td>\n",
       "      <td id=\"T_83f2c_row9_col14\" class=\"data row9 col14\" >-0.037375</td>\n",
       "      <td id=\"T_83f2c_row9_col15\" class=\"data row9 col15\" >0.076700</td>\n",
       "      <td id=\"T_83f2c_row9_col16\" class=\"data row9 col16\" >-0.084140</td>\n",
       "      <td id=\"T_83f2c_row9_col17\" class=\"data row9 col17\" >-0.019288</td>\n",
       "    </tr>\n",
       "    <tr>\n",
       "      <th id=\"T_83f2c_level0_row10\" class=\"row_heading level0 row10\" >MaritalStatus_Married</th>\n",
       "      <td id=\"T_83f2c_row10_col0\" class=\"data row10 col0\" >0.151519</td>\n",
       "      <td id=\"T_83f2c_row10_col1\" class=\"data row10 col1\" >-0.015456</td>\n",
       "      <td id=\"T_83f2c_row10_col2\" class=\"data row10 col2\" >0.069034</td>\n",
       "      <td id=\"T_83f2c_row10_col3\" class=\"data row10 col3\" >-0.023005</td>\n",
       "      <td id=\"T_83f2c_row10_col4\" class=\"data row10 col4\" >-0.002024</td>\n",
       "      <td id=\"T_83f2c_row10_col5\" class=\"data row10 col5\" >0.040432</td>\n",
       "      <td id=\"T_83f2c_row10_col6\" class=\"data row10 col6\" >0.064918</td>\n",
       "      <td id=\"T_83f2c_row10_col7\" class=\"data row10 col7\" >-0.052604</td>\n",
       "      <td id=\"T_83f2c_row10_col8\" class=\"data row10 col8\" >0.052604</td>\n",
       "      <td id=\"T_83f2c_row10_col9\" class=\"data row10 col9\" >-0.292395</td>\n",
       "      <td id=\"T_83f2c_row10_col10\" class=\"data row10 col10\" >1.000000</td>\n",
       "      <td id=\"T_83f2c_row10_col11\" class=\"data row10 col11\" >-0.757109</td>\n",
       "      <td id=\"T_83f2c_row10_col12\" class=\"data row10 col12\" >-0.010364</td>\n",
       "      <td id=\"T_83f2c_row10_col13\" class=\"data row10 col13\" >0.226262</td>\n",
       "      <td id=\"T_83f2c_row10_col14\" class=\"data row10 col14\" >-0.090793</td>\n",
       "      <td id=\"T_83f2c_row10_col15\" class=\"data row10 col15\" >0.037331</td>\n",
       "      <td id=\"T_83f2c_row10_col16\" class=\"data row10 col16\" >-0.048439</td>\n",
       "      <td id=\"T_83f2c_row10_col17\" class=\"data row10 col17\" >0.002110</td>\n",
       "    </tr>\n",
       "    <tr>\n",
       "      <th id=\"T_83f2c_level0_row11\" class=\"row_heading level0 row11\" >MaritalStatus_Single</th>\n",
       "      <td id=\"T_83f2c_row11_col0\" class=\"data row11 col0\" >-0.189633</td>\n",
       "      <td id=\"T_83f2c_row11_col1\" class=\"data row11 col1\" >-0.003701</td>\n",
       "      <td id=\"T_83f2c_row11_col2\" class=\"data row11 col2\" >-0.076477</td>\n",
       "      <td id=\"T_83f2c_row11_col3\" class=\"data row11 col3\" >0.007110</td>\n",
       "      <td id=\"T_83f2c_row11_col4\" class=\"data row11 col4\" >-0.053852</td>\n",
       "      <td id=\"T_83f2c_row11_col5\" class=\"data row11 col5\" >-0.017249</td>\n",
       "      <td id=\"T_83f2c_row11_col6\" class=\"data row11 col6\" >-0.091152</td>\n",
       "      <td id=\"T_83f2c_row11_col7\" class=\"data row11 col7\" >0.041766</td>\n",
       "      <td id=\"T_83f2c_row11_col8\" class=\"data row11 col8\" >-0.041766</td>\n",
       "      <td id=\"T_83f2c_row11_col9\" class=\"data row11 col9\" >-0.403364</td>\n",
       "      <td id=\"T_83f2c_row11_col10\" class=\"data row11 col10\" >-0.757109</td>\n",
       "      <td id=\"T_83f2c_row11_col11\" class=\"data row11 col11\" >1.000000</td>\n",
       "      <td id=\"T_83f2c_row11_col12\" class=\"data row11 col12\" >-0.024792</td>\n",
       "      <td id=\"T_83f2c_row11_col13\" class=\"data row11 col13\" >-0.194551</td>\n",
       "      <td id=\"T_83f2c_row11_col14\" class=\"data row11 col14\" >0.112408</td>\n",
       "      <td id=\"T_83f2c_row11_col15\" class=\"data row11 col15\" >-0.088118</td>\n",
       "      <td id=\"T_83f2c_row11_col16\" class=\"data row11 col16\" >0.103829</td>\n",
       "      <td id=\"T_83f2c_row11_col17\" class=\"data row11 col17\" >0.011157</td>\n",
       "    </tr>\n",
       "    <tr>\n",
       "      <th id=\"T_83f2c_level0_row12\" class=\"row_heading level0 row12\" >CityTier_1</th>\n",
       "      <td id=\"T_83f2c_row12_col0\" class=\"data row12 col0\" >-0.041824</td>\n",
       "      <td id=\"T_83f2c_row12_col1\" class=\"data row12 col1\" >0.055637</td>\n",
       "      <td id=\"T_83f2c_row12_col2\" class=\"data row12 col2\" >0.017902</td>\n",
       "      <td id=\"T_83f2c_row12_col3\" class=\"data row12 col3\" >0.047415</td>\n",
       "      <td id=\"T_83f2c_row12_col4\" class=\"data row12 col4\" >-0.038286</td>\n",
       "      <td id=\"T_83f2c_row12_col5\" class=\"data row12 col5\" >-0.052204</td>\n",
       "      <td id=\"T_83f2c_row12_col6\" class=\"data row12 col6\" >-0.151270</td>\n",
       "      <td id=\"T_83f2c_row12_col7\" class=\"data row12 col7\" >-0.105734</td>\n",
       "      <td id=\"T_83f2c_row12_col8\" class=\"data row12 col8\" >0.105734</td>\n",
       "      <td id=\"T_83f2c_row12_col9\" class=\"data row12 col9\" >0.050808</td>\n",
       "      <td id=\"T_83f2c_row12_col10\" class=\"data row12 col10\" >-0.010364</td>\n",
       "      <td id=\"T_83f2c_row12_col11\" class=\"data row12 col11\" >-0.024792</td>\n",
       "      <td id=\"T_83f2c_row12_col12\" class=\"data row12 col12\" >1.000000</td>\n",
       "      <td id=\"T_83f2c_row12_col13\" class=\"data row12 col13\" >-0.261574</td>\n",
       "      <td id=\"T_83f2c_row12_col14\" class=\"data row12 col14\" >-0.901706</td>\n",
       "      <td id=\"T_83f2c_row12_col15\" class=\"data row12 col15\" >0.006872</td>\n",
       "      <td id=\"T_83f2c_row12_col16\" class=\"data row12 col16\" >-0.037811</td>\n",
       "      <td id=\"T_83f2c_row12_col17\" class=\"data row12 col17\" >0.028073</td>\n",
       "    </tr>\n",
       "    <tr>\n",
       "      <th id=\"T_83f2c_level0_row13\" class=\"row_heading level0 row13\" >CityTier_2</th>\n",
       "      <td id=\"T_83f2c_row13_col0\" class=\"data row13 col0\" >-0.053792</td>\n",
       "      <td id=\"T_83f2c_row13_col1\" class=\"data row13 col1\" >-0.023427</td>\n",
       "      <td id=\"T_83f2c_row13_col2\" class=\"data row13 col2\" >-0.044298</td>\n",
       "      <td id=\"T_83f2c_row13_col3\" class=\"data row13 col3\" >-0.047009</td>\n",
       "      <td id=\"T_83f2c_row13_col4\" class=\"data row13 col4\" >0.020438</td>\n",
       "      <td id=\"T_83f2c_row13_col5\" class=\"data row13 col5\" >-0.012860</td>\n",
       "      <td id=\"T_83f2c_row13_col6\" class=\"data row13 col6\" >-0.014132</td>\n",
       "      <td id=\"T_83f2c_row13_col7\" class=\"data row13 col7\" >0.050568</td>\n",
       "      <td id=\"T_83f2c_row13_col8\" class=\"data row13 col8\" >-0.050568</td>\n",
       "      <td id=\"T_83f2c_row13_col9\" class=\"data row13 col9\" >-0.032130</td>\n",
       "      <td id=\"T_83f2c_row13_col10\" class=\"data row13 col10\" >0.226262</td>\n",
       "      <td id=\"T_83f2c_row13_col11\" class=\"data row13 col11\" >-0.194551</td>\n",
       "      <td id=\"T_83f2c_row13_col12\" class=\"data row13 col12\" >-0.261574</td>\n",
       "      <td id=\"T_83f2c_row13_col13\" class=\"data row13 col13\" >1.000000</td>\n",
       "      <td id=\"T_83f2c_row13_col14\" class=\"data row13 col14\" >-0.181433</td>\n",
       "      <td id=\"T_83f2c_row13_col15\" class=\"data row13 col15\" >-0.040943</td>\n",
       "      <td id=\"T_83f2c_row13_col16\" class=\"data row13 col16\" >-0.038811</td>\n",
       "      <td id=\"T_83f2c_row13_col17\" class=\"data row13 col17\" >0.084083</td>\n",
       "    </tr>\n",
       "    <tr>\n",
       "      <th id=\"T_83f2c_level0_row14\" class=\"row_heading level0 row14\" >CityTier_3</th>\n",
       "      <td id=\"T_83f2c_row14_col0\" class=\"data row14 col0\" >0.066754</td>\n",
       "      <td id=\"T_83f2c_row14_col1\" class=\"data row14 col1\" >-0.046194</td>\n",
       "      <td id=\"T_83f2c_row14_col2\" class=\"data row14 col2\" >0.001524</td>\n",
       "      <td id=\"T_83f2c_row14_col3\" class=\"data row14 col3\" >-0.027252</td>\n",
       "      <td id=\"T_83f2c_row14_col4\" class=\"data row14 col4\" >0.029854</td>\n",
       "      <td id=\"T_83f2c_row14_col5\" class=\"data row14 col5\" >0.058981</td>\n",
       "      <td id=\"T_83f2c_row14_col6\" class=\"data row14 col6\" >0.160407</td>\n",
       "      <td id=\"T_83f2c_row14_col7\" class=\"data row14 col7\" >0.085079</td>\n",
       "      <td id=\"T_83f2c_row14_col8\" class=\"data row14 col8\" >-0.085079</td>\n",
       "      <td id=\"T_83f2c_row14_col9\" class=\"data row14 col9\" >-0.037375</td>\n",
       "      <td id=\"T_83f2c_row14_col10\" class=\"data row14 col10\" >-0.090793</td>\n",
       "      <td id=\"T_83f2c_row14_col11\" class=\"data row14 col11\" >0.112408</td>\n",
       "      <td id=\"T_83f2c_row14_col12\" class=\"data row14 col12\" >-0.901706</td>\n",
       "      <td id=\"T_83f2c_row14_col13\" class=\"data row14 col13\" >-0.181433</td>\n",
       "      <td id=\"T_83f2c_row14_col14\" class=\"data row14 col14\" >1.000000</td>\n",
       "      <td id=\"T_83f2c_row14_col15\" class=\"data row14 col15\" >0.011339</td>\n",
       "      <td id=\"T_83f2c_row14_col16\" class=\"data row14 col16\" >0.055910</td>\n",
       "      <td id=\"T_83f2c_row14_col17\" class=\"data row14 col17\" >-0.066268</td>\n",
       "    </tr>\n",
       "    <tr>\n",
       "      <th id=\"T_83f2c_level0_row15\" class=\"row_heading level0 row15\" >PreferredPropertyStar_3.0</th>\n",
       "      <td id=\"T_83f2c_row15_col0\" class=\"data row15 col0\" >0.054815</td>\n",
       "      <td id=\"T_83f2c_row15_col1\" class=\"data row15 col1\" >-0.096752</td>\n",
       "      <td id=\"T_83f2c_row15_col2\" class=\"data row15 col2\" >0.002800</td>\n",
       "      <td id=\"T_83f2c_row15_col3\" class=\"data row15 col3\" >0.075017</td>\n",
       "      <td id=\"T_83f2c_row15_col4\" class=\"data row15 col4\" >-0.024042</td>\n",
       "      <td id=\"T_83f2c_row15_col5\" class=\"data row15 col5\" >-0.050766</td>\n",
       "      <td id=\"T_83f2c_row15_col6\" class=\"data row15 col6\" >-0.021449</td>\n",
       "      <td id=\"T_83f2c_row15_col7\" class=\"data row15 col7\" >-0.077362</td>\n",
       "      <td id=\"T_83f2c_row15_col8\" class=\"data row15 col8\" >0.077362</td>\n",
       "      <td id=\"T_83f2c_row15_col9\" class=\"data row15 col9\" >0.076700</td>\n",
       "      <td id=\"T_83f2c_row15_col10\" class=\"data row15 col10\" >0.037331</td>\n",
       "      <td id=\"T_83f2c_row15_col11\" class=\"data row15 col11\" >-0.088118</td>\n",
       "      <td id=\"T_83f2c_row15_col12\" class=\"data row15 col12\" >0.006872</td>\n",
       "      <td id=\"T_83f2c_row15_col13\" class=\"data row15 col13\" >-0.040943</td>\n",
       "      <td id=\"T_83f2c_row15_col14\" class=\"data row15 col14\" >0.011339</td>\n",
       "      <td id=\"T_83f2c_row15_col15\" class=\"data row15 col15\" >1.000000</td>\n",
       "      <td id=\"T_83f2c_row15_col16\" class=\"data row15 col16\" >-0.520948</td>\n",
       "      <td id=\"T_83f2c_row15_col17\" class=\"data row15 col17\" >-0.640795</td>\n",
       "    </tr>\n",
       "    <tr>\n",
       "      <th id=\"T_83f2c_level0_row16\" class=\"row_heading level0 row16\" >PreferredPropertyStar_4.0</th>\n",
       "      <td id=\"T_83f2c_row16_col0\" class=\"data row16 col0\" >-0.007901</td>\n",
       "      <td id=\"T_83f2c_row16_col1\" class=\"data row16 col1\" >0.029670</td>\n",
       "      <td id=\"T_83f2c_row16_col2\" class=\"data row16 col2\" >-0.044556</td>\n",
       "      <td id=\"T_83f2c_row16_col3\" class=\"data row16 col3\" >0.034332</td>\n",
       "      <td id=\"T_83f2c_row16_col4\" class=\"data row16 col4\" >0.040351</td>\n",
       "      <td id=\"T_83f2c_row16_col5\" class=\"data row16 col5\" >0.046049</td>\n",
       "      <td id=\"T_83f2c_row16_col6\" class=\"data row16 col6\" >-0.021328</td>\n",
       "      <td id=\"T_83f2c_row16_col7\" class=\"data row16 col7\" >0.148737</td>\n",
       "      <td id=\"T_83f2c_row16_col8\" class=\"data row16 col8\" >-0.148737</td>\n",
       "      <td id=\"T_83f2c_row16_col9\" class=\"data row16 col9\" >-0.084140</td>\n",
       "      <td id=\"T_83f2c_row16_col10\" class=\"data row16 col10\" >-0.048439</td>\n",
       "      <td id=\"T_83f2c_row16_col11\" class=\"data row16 col11\" >0.103829</td>\n",
       "      <td id=\"T_83f2c_row16_col12\" class=\"data row16 col12\" >-0.037811</td>\n",
       "      <td id=\"T_83f2c_row16_col13\" class=\"data row16 col13\" >-0.038811</td>\n",
       "      <td id=\"T_83f2c_row16_col14\" class=\"data row16 col14\" >0.055910</td>\n",
       "      <td id=\"T_83f2c_row16_col15\" class=\"data row16 col15\" >-0.520948</td>\n",
       "      <td id=\"T_83f2c_row16_col16\" class=\"data row16 col16\" >1.000000</td>\n",
       "      <td id=\"T_83f2c_row16_col17\" class=\"data row16 col17\" >-0.303347</td>\n",
       "    </tr>\n",
       "    <tr>\n",
       "      <th id=\"T_83f2c_level0_row17\" class=\"row_heading level0 row17\" >PreferredPropertyStar_5.0</th>\n",
       "      <td id=\"T_83f2c_row17_col0\" class=\"data row17 col0\" >-0.084855</td>\n",
       "      <td id=\"T_83f2c_row17_col1\" class=\"data row17 col1\" >0.066461</td>\n",
       "      <td id=\"T_83f2c_row17_col2\" class=\"data row17 col2\" >0.025582</td>\n",
       "      <td id=\"T_83f2c_row17_col3\" class=\"data row17 col3\" >-0.113876</td>\n",
       "      <td id=\"T_83f2c_row17_col4\" class=\"data row17 col4\" >-0.015890</td>\n",
       "      <td id=\"T_83f2c_row17_col5\" class=\"data row17 col5\" >0.004832</td>\n",
       "      <td id=\"T_83f2c_row17_col6\" class=\"data row17 col6\" >-0.010261</td>\n",
       "      <td id=\"T_83f2c_row17_col7\" class=\"data row17 col7\" >-0.050230</td>\n",
       "      <td id=\"T_83f2c_row17_col8\" class=\"data row17 col8\" >0.050230</td>\n",
       "      <td id=\"T_83f2c_row17_col9\" class=\"data row17 col9\" >-0.019288</td>\n",
       "      <td id=\"T_83f2c_row17_col10\" class=\"data row17 col10\" >0.002110</td>\n",
       "      <td id=\"T_83f2c_row17_col11\" class=\"data row17 col11\" >0.011157</td>\n",
       "      <td id=\"T_83f2c_row17_col12\" class=\"data row17 col12\" >0.028073</td>\n",
       "      <td id=\"T_83f2c_row17_col13\" class=\"data row17 col13\" >0.084083</td>\n",
       "      <td id=\"T_83f2c_row17_col14\" class=\"data row17 col14\" >-0.066268</td>\n",
       "      <td id=\"T_83f2c_row17_col15\" class=\"data row17 col15\" >-0.640795</td>\n",
       "      <td id=\"T_83f2c_row17_col16\" class=\"data row17 col16\" >-0.303347</td>\n",
       "      <td id=\"T_83f2c_row17_col17\" class=\"data row17 col17\" >1.000000</td>\n",
       "    </tr>\n",
       "  </tbody>\n",
       "</table>\n"
      ],
      "text/plain": [
       "<pandas.io.formats.style.Styler at 0x10ee206da80>"
      ]
     },
     "execution_count": 945,
     "metadata": {},
     "output_type": "execute_result"
    }
   ],
   "source": [
    "corr=X_df.corr()\n",
    "corr.style.background_gradient(cmap='coolwarm')"
   ]
  },
  {
   "cell_type": "markdown",
   "metadata": {},
   "source": [
    "- Children vs. Person : 62%\n",
    "- Monthly Income vs. Age: 50%\n",
    "- Male vs Female: 100%\n",
    "- Married vs Single: 75%\n",
    "- Single vs Divorsed 40%"
   ]
  },
  {
   "cell_type": "markdown",
   "metadata": {},
   "source": [
    "### Feature Selection"
   ]
  },
  {
   "cell_type": "markdown",
   "metadata": {},
   "source": [
    "- Any dummy feature with all dummies under top 10 significance will be removed: **PreferredPropertyStar** and **CityTier**\n",
    "- **MaritalStatus_Married** will be removed as it has high collinearity with single and divorced (if you aren't single or divorced, you are married according to this survey)\n",
    "- **Gender_Male** will be removed as it has high collinearity with **Gender_Female**. According to this survey, gender is binary so Gender_Male is just a redundent feature.\n",
    "- **NumberOfChildrenVisiting** will be removed as it has high collinearity with **NumberOfPersonVisiting**. Most likely, Children is included in PersonVisiting so it would be double counting."
   ]
  },
  {
   "cell_type": "code",
   "execution_count": 956,
   "metadata": {},
   "outputs": [],
   "source": [
    "X_sig = X_df[['Age', 'NumberOfPersonVisiting', 'NumberOfTrips', 'Passport', 'OwnCar', 'Gender_Female','MonthlyIncome','MaritalStatus_Divorced', 'MaritalStatus_Single']].values"
   ]
  },
  {
   "cell_type": "markdown",
   "metadata": {},
   "source": [
    "These are our remaining features."
   ]
  },
  {
   "cell_type": "markdown",
   "metadata": {},
   "source": [
    "### Collinearity after feature selection"
   ]
  },
  {
   "cell_type": "code",
   "execution_count": 946,
   "metadata": {},
   "outputs": [
    {
     "data": {
      "text/html": [
       "<style type=\"text/css\">\n",
       "#T_5609e_row0_col0, #T_5609e_row1_col1, #T_5609e_row2_col2, #T_5609e_row3_col3, #T_5609e_row4_col4, #T_5609e_row5_col5, #T_5609e_row6_col6, #T_5609e_row7_col7, #T_5609e_row8_col8 {\n",
       "  background-color: #b40426;\n",
       "  color: #f1f1f1;\n",
       "}\n",
       "#T_5609e_row0_col1, #T_5609e_row8_col3 {\n",
       "  background-color: #4e68d8;\n",
       "  color: #f1f1f1;\n",
       "}\n",
       "#T_5609e_row0_col2 {\n",
       "  background-color: #6f92f3;\n",
       "  color: #f1f1f1;\n",
       "}\n",
       "#T_5609e_row0_col3 {\n",
       "  background-color: #4a63d3;\n",
       "  color: #f1f1f1;\n",
       "}\n",
       "#T_5609e_row0_col4, #T_5609e_row6_col0 {\n",
       "  background-color: #5e7de7;\n",
       "  color: #f1f1f1;\n",
       "}\n",
       "#T_5609e_row0_col5 {\n",
       "  background-color: #e8d6cc;\n",
       "  color: #000000;\n",
       "}\n",
       "#T_5609e_row0_col6 {\n",
       "  background-color: #445acc;\n",
       "  color: #f1f1f1;\n",
       "}\n",
       "#T_5609e_row0_col7 {\n",
       "  background-color: #aac7fd;\n",
       "  color: #000000;\n",
       "}\n",
       "#T_5609e_row0_col8 {\n",
       "  background-color: #6a8bef;\n",
       "  color: #f1f1f1;\n",
       "}\n",
       "#T_5609e_row1_col0, #T_5609e_row7_col0 {\n",
       "  background-color: #80a3fa;\n",
       "  color: #f1f1f1;\n",
       "}\n",
       "#T_5609e_row1_col2 {\n",
       "  background-color: #8db0fe;\n",
       "  color: #000000;\n",
       "}\n",
       "#T_5609e_row1_col3 {\n",
       "  background-color: #5977e3;\n",
       "  color: #f1f1f1;\n",
       "}\n",
       "#T_5609e_row1_col4, #T_5609e_row7_col2, #T_5609e_row7_col6 {\n",
       "  background-color: #5673e0;\n",
       "  color: #f1f1f1;\n",
       "}\n",
       "#T_5609e_row1_col5 {\n",
       "  background-color: #b6cefa;\n",
       "  color: #000000;\n",
       "}\n",
       "#T_5609e_row1_col6, #T_5609e_row7_col5 {\n",
       "  background-color: #6180e9;\n",
       "  color: #f1f1f1;\n",
       "}\n",
       "#T_5609e_row1_col7 {\n",
       "  background-color: #a1c0ff;\n",
       "  color: #000000;\n",
       "}\n",
       "#T_5609e_row1_col8 {\n",
       "  background-color: #98b9ff;\n",
       "  color: #000000;\n",
       "}\n",
       "#T_5609e_row2_col0 {\n",
       "  background-color: #88abfd;\n",
       "  color: #000000;\n",
       "}\n",
       "#T_5609e_row2_col1, #T_5609e_row5_col2 {\n",
       "  background-color: #779af7;\n",
       "  color: #f1f1f1;\n",
       "}\n",
       "#T_5609e_row2_col3 {\n",
       "  background-color: #4b64d5;\n",
       "  color: #f1f1f1;\n",
       "}\n",
       "#T_5609e_row2_col4 {\n",
       "  background-color: #455cce;\n",
       "  color: #f1f1f1;\n",
       "}\n",
       "#T_5609e_row2_col5 {\n",
       "  background-color: #799cf8;\n",
       "  color: #f1f1f1;\n",
       "}\n",
       "#T_5609e_row2_col6, #T_5609e_row5_col3, #T_5609e_row6_col2, #T_5609e_row7_col8, #T_5609e_row8_col0, #T_5609e_row8_col1, #T_5609e_row8_col4, #T_5609e_row8_col5, #T_5609e_row8_col7 {\n",
       "  background-color: #3b4cc0;\n",
       "  color: #f1f1f1;\n",
       "}\n",
       "#T_5609e_row2_col7 {\n",
       "  background-color: #9ebeff;\n",
       "  color: #000000;\n",
       "}\n",
       "#T_5609e_row2_col8 {\n",
       "  background-color: #86a9fc;\n",
       "  color: #f1f1f1;\n",
       "}\n",
       "#T_5609e_row3_col0 {\n",
       "  background-color: #6b8df0;\n",
       "  color: #f1f1f1;\n",
       "}\n",
       "#T_5609e_row3_col1, #T_5609e_row6_col1, #T_5609e_row6_col4 {\n",
       "  background-color: #4961d2;\n",
       "  color: #f1f1f1;\n",
       "}\n",
       "#T_5609e_row3_col2, #T_5609e_row3_col6, #T_5609e_row4_col6, #T_5609e_row7_col3 {\n",
       "  background-color: #536edd;\n",
       "  color: #f1f1f1;\n",
       "}\n",
       "#T_5609e_row3_col4, #T_5609e_row5_col6 {\n",
       "  background-color: #5470de;\n",
       "  color: #f1f1f1;\n",
       "}\n",
       "#T_5609e_row3_col5 {\n",
       "  background-color: #4257c9;\n",
       "  color: #f1f1f1;\n",
       "}\n",
       "#T_5609e_row3_col7 {\n",
       "  background-color: #9fbfff;\n",
       "  color: #000000;\n",
       "}\n",
       "#T_5609e_row3_col8 {\n",
       "  background-color: #9bbcff;\n",
       "  color: #000000;\n",
       "}\n",
       "#T_5609e_row4_col0 {\n",
       "  background-color: #81a4fb;\n",
       "  color: #f1f1f1;\n",
       "}\n",
       "#T_5609e_row4_col1 {\n",
       "  background-color: #485fd1;\n",
       "  color: #f1f1f1;\n",
       "}\n",
       "#T_5609e_row4_col2 {\n",
       "  background-color: #4f69d9;\n",
       "  color: #f1f1f1;\n",
       "}\n",
       "#T_5609e_row4_col3, #T_5609e_row6_col5 {\n",
       "  background-color: #5572df;\n",
       "  color: #f1f1f1;\n",
       "}\n",
       "#T_5609e_row4_col5 {\n",
       "  background-color: #85a8fc;\n",
       "  color: #f1f1f1;\n",
       "}\n",
       "#T_5609e_row4_col7 {\n",
       "  background-color: #aec9fc;\n",
       "  color: #000000;\n",
       "}\n",
       "#T_5609e_row4_col8 {\n",
       "  background-color: #8caffe;\n",
       "  color: #000000;\n",
       "}\n",
       "#T_5609e_row5_col0 {\n",
       "  background-color: #efcfbf;\n",
       "  color: #000000;\n",
       "}\n",
       "#T_5609e_row5_col1 {\n",
       "  background-color: #a3c2fe;\n",
       "  color: #000000;\n",
       "}\n",
       "#T_5609e_row5_col4 {\n",
       "  background-color: #7b9ff9;\n",
       "  color: #f1f1f1;\n",
       "}\n",
       "#T_5609e_row5_col7, #T_5609e_row6_col8 {\n",
       "  background-color: #a5c3fe;\n",
       "  color: #000000;\n",
       "}\n",
       "#T_5609e_row5_col8 {\n",
       "  background-color: #82a6fb;\n",
       "  color: #f1f1f1;\n",
       "}\n",
       "#T_5609e_row6_col3 {\n",
       "  background-color: #4c66d6;\n",
       "  color: #f1f1f1;\n",
       "}\n",
       "#T_5609e_row6_col7 {\n",
       "  background-color: #9dbdff;\n",
       "  color: #000000;\n",
       "}\n",
       "#T_5609e_row7_col1 {\n",
       "  background-color: #4358cb;\n",
       "  color: #f1f1f1;\n",
       "}\n",
       "#T_5609e_row7_col4 {\n",
       "  background-color: #6282ea;\n",
       "  color: #f1f1f1;\n",
       "}\n",
       "#T_5609e_row8_col2 {\n",
       "  background-color: #3d50c3;\n",
       "  color: #f1f1f1;\n",
       "}\n",
       "#T_5609e_row8_col6 {\n",
       "  background-color: #5f7fe8;\n",
       "  color: #f1f1f1;\n",
       "}\n",
       "</style>\n",
       "<table id=\"T_5609e_\">\n",
       "  <thead>\n",
       "    <tr>\n",
       "      <th class=\"blank level0\" >&nbsp;</th>\n",
       "      <th class=\"col_heading level0 col0\" >Age</th>\n",
       "      <th class=\"col_heading level0 col1\" >NumberOfPersonVisiting</th>\n",
       "      <th class=\"col_heading level0 col2\" >NumberOfTrips</th>\n",
       "      <th class=\"col_heading level0 col3\" >Passport</th>\n",
       "      <th class=\"col_heading level0 col4\" >OwnCar</th>\n",
       "      <th class=\"col_heading level0 col5\" >MonthlyIncome</th>\n",
       "      <th class=\"col_heading level0 col6\" >Gender_Female</th>\n",
       "      <th class=\"col_heading level0 col7\" >MaritalStatus_Divorced</th>\n",
       "      <th class=\"col_heading level0 col8\" >MaritalStatus_Single</th>\n",
       "    </tr>\n",
       "  </thead>\n",
       "  <tbody>\n",
       "    <tr>\n",
       "      <th id=\"T_5609e_level0_row0\" class=\"row_heading level0 row0\" >Age</th>\n",
       "      <td id=\"T_5609e_row0_col0\" class=\"data row0 col0\" >1.000000</td>\n",
       "      <td id=\"T_5609e_row0_col1\" class=\"data row0 col1\" >0.061713</td>\n",
       "      <td id=\"T_5609e_row0_col2\" class=\"data row0 col2\" >0.093434</td>\n",
       "      <td id=\"T_5609e_row0_col3\" class=\"data row0 col3\" >-0.006912</td>\n",
       "      <td id=\"T_5609e_row0_col4\" class=\"data row0 col4\" >0.068902</td>\n",
       "      <td id=\"T_5609e_row0_col5\" class=\"data row0 col5\" >0.502517</td>\n",
       "      <td id=\"T_5609e_row0_col6\" class=\"data row0 col6\" >-0.050635</td>\n",
       "      <td id=\"T_5609e_row0_col7\" class=\"data row0 col7\" >0.065152</td>\n",
       "      <td id=\"T_5609e_row0_col8\" class=\"data row0 col8\" >-0.189633</td>\n",
       "    </tr>\n",
       "    <tr>\n",
       "      <th id=\"T_5609e_level0_row1\" class=\"row_heading level0 row1\" >NumberOfPersonVisiting</th>\n",
       "      <td id=\"T_5609e_row1_col0\" class=\"data row1 col0\" >0.061713</td>\n",
       "      <td id=\"T_5609e_row1_col1\" class=\"data row1 col1\" >1.000000</td>\n",
       "      <td id=\"T_5609e_row1_col2\" class=\"data row1 col2\" >0.187754</td>\n",
       "      <td id=\"T_5609e_row1_col3\" class=\"data row1 col3\" >0.045721</td>\n",
       "      <td id=\"T_5609e_row1_col4\" class=\"data row1 col4\" >0.041352</td>\n",
       "      <td id=\"T_5609e_row1_col5\" class=\"data row1 col5\" >0.312351</td>\n",
       "      <td id=\"T_5609e_row1_col6\" class=\"data row1 col6\" >0.046451</td>\n",
       "      <td id=\"T_5609e_row1_col7\" class=\"data row1 col7\" >0.027067</td>\n",
       "      <td id=\"T_5609e_row1_col8\" class=\"data row1 col8\" >-0.003701</td>\n",
       "    </tr>\n",
       "    <tr>\n",
       "      <th id=\"T_5609e_level0_row2\" class=\"row_heading level0 row2\" >NumberOfTrips</th>\n",
       "      <td id=\"T_5609e_row2_col0\" class=\"data row2 col0\" >0.093434</td>\n",
       "      <td id=\"T_5609e_row2_col1\" class=\"data row2 col1\" >0.187754</td>\n",
       "      <td id=\"T_5609e_row2_col2\" class=\"data row2 col2\" >1.000000</td>\n",
       "      <td id=\"T_5609e_row2_col3\" class=\"data row2 col3\" >0.000556</td>\n",
       "      <td id=\"T_5609e_row2_col4\" class=\"data row2 col4\" >-0.013116</td>\n",
       "      <td id=\"T_5609e_row2_col5\" class=\"data row2 col5\" >0.120667</td>\n",
       "      <td id=\"T_5609e_row2_col6\" class=\"data row2 col6\" >-0.085630</td>\n",
       "      <td id=\"T_5609e_row2_col7\" class=\"data row2 col7\" >0.015289</td>\n",
       "      <td id=\"T_5609e_row2_col8\" class=\"data row2 col8\" >-0.076477</td>\n",
       "    </tr>\n",
       "    <tr>\n",
       "      <th id=\"T_5609e_level0_row3\" class=\"row_heading level0 row3\" >Passport</th>\n",
       "      <td id=\"T_5609e_row3_col0\" class=\"data row3 col0\" >-0.006912</td>\n",
       "      <td id=\"T_5609e_row3_col1\" class=\"data row3 col1\" >0.045721</td>\n",
       "      <td id=\"T_5609e_row3_col2\" class=\"data row3 col2\" >0.000556</td>\n",
       "      <td id=\"T_5609e_row3_col3\" class=\"data row3 col3\" >1.000000</td>\n",
       "      <td id=\"T_5609e_row3_col4\" class=\"data row3 col4\" >0.032625</td>\n",
       "      <td id=\"T_5609e_row3_col5\" class=\"data row3 col5\" >-0.061643</td>\n",
       "      <td id=\"T_5609e_row3_col6\" class=\"data row3 col6\" >0.001628</td>\n",
       "      <td id=\"T_5609e_row3_col7\" class=\"data row3 col7\" >0.021815</td>\n",
       "      <td id=\"T_5609e_row3_col8\" class=\"data row3 col8\" >0.007110</td>\n",
       "    </tr>\n",
       "    <tr>\n",
       "      <th id=\"T_5609e_level0_row4\" class=\"row_heading level0 row4\" >OwnCar</th>\n",
       "      <td id=\"T_5609e_row4_col0\" class=\"data row4 col0\" >0.068902</td>\n",
       "      <td id=\"T_5609e_row4_col1\" class=\"data row4 col1\" >0.041352</td>\n",
       "      <td id=\"T_5609e_row4_col2\" class=\"data row4 col2\" >-0.013116</td>\n",
       "      <td id=\"T_5609e_row4_col3\" class=\"data row4 col3\" >0.032625</td>\n",
       "      <td id=\"T_5609e_row4_col4\" class=\"data row4 col4\" >1.000000</td>\n",
       "      <td id=\"T_5609e_row4_col5\" class=\"data row4 col5\" >0.158618</td>\n",
       "      <td id=\"T_5609e_row4_col6\" class=\"data row4 col6\" >-0.000801</td>\n",
       "      <td id=\"T_5609e_row4_col7\" class=\"data row4 col7\" >0.081666</td>\n",
       "      <td id=\"T_5609e_row4_col8\" class=\"data row4 col8\" >-0.053852</td>\n",
       "    </tr>\n",
       "    <tr>\n",
       "      <th id=\"T_5609e_level0_row5\" class=\"row_heading level0 row5\" >MonthlyIncome</th>\n",
       "      <td id=\"T_5609e_row5_col0\" class=\"data row5 col0\" >0.502517</td>\n",
       "      <td id=\"T_5609e_row5_col1\" class=\"data row5 col1\" >0.312351</td>\n",
       "      <td id=\"T_5609e_row5_col2\" class=\"data row5 col2\" >0.120667</td>\n",
       "      <td id=\"T_5609e_row5_col3\" class=\"data row5 col3\" >-0.061643</td>\n",
       "      <td id=\"T_5609e_row5_col4\" class=\"data row5 col4\" >0.158618</td>\n",
       "      <td id=\"T_5609e_row5_col5\" class=\"data row5 col5\" >1.000000</td>\n",
       "      <td id=\"T_5609e_row5_col6\" class=\"data row5 col6\" >0.006787</td>\n",
       "      <td id=\"T_5609e_row5_col7\" class=\"data row5 col7\" >0.042523</td>\n",
       "      <td id=\"T_5609e_row5_col8\" class=\"data row5 col8\" >-0.091152</td>\n",
       "    </tr>\n",
       "    <tr>\n",
       "      <th id=\"T_5609e_level0_row6\" class=\"row_heading level0 row6\" >Gender_Female</th>\n",
       "      <td id=\"T_5609e_row6_col0\" class=\"data row6 col0\" >-0.050635</td>\n",
       "      <td id=\"T_5609e_row6_col1\" class=\"data row6 col1\" >0.046451</td>\n",
       "      <td id=\"T_5609e_row6_col2\" class=\"data row6 col2\" >-0.085630</td>\n",
       "      <td id=\"T_5609e_row6_col3\" class=\"data row6 col3\" >0.001628</td>\n",
       "      <td id=\"T_5609e_row6_col4\" class=\"data row6 col4\" >-0.000801</td>\n",
       "      <td id=\"T_5609e_row6_col5\" class=\"data row6 col5\" >0.006787</td>\n",
       "      <td id=\"T_5609e_row6_col6\" class=\"data row6 col6\" >1.000000</td>\n",
       "      <td id=\"T_5609e_row6_col7\" class=\"data row6 col7\" >0.012543</td>\n",
       "      <td id=\"T_5609e_row6_col8\" class=\"data row6 col8\" >0.041766</td>\n",
       "    </tr>\n",
       "    <tr>\n",
       "      <th id=\"T_5609e_level0_row7\" class=\"row_heading level0 row7\" >MaritalStatus_Divorced</th>\n",
       "      <td id=\"T_5609e_row7_col0\" class=\"data row7 col0\" >0.065152</td>\n",
       "      <td id=\"T_5609e_row7_col1\" class=\"data row7 col1\" >0.027067</td>\n",
       "      <td id=\"T_5609e_row7_col2\" class=\"data row7 col2\" >0.015289</td>\n",
       "      <td id=\"T_5609e_row7_col3\" class=\"data row7 col3\" >0.021815</td>\n",
       "      <td id=\"T_5609e_row7_col4\" class=\"data row7 col4\" >0.081666</td>\n",
       "      <td id=\"T_5609e_row7_col5\" class=\"data row7 col5\" >0.042523</td>\n",
       "      <td id=\"T_5609e_row7_col6\" class=\"data row7 col6\" >0.012543</td>\n",
       "      <td id=\"T_5609e_row7_col7\" class=\"data row7 col7\" >1.000000</td>\n",
       "      <td id=\"T_5609e_row7_col8\" class=\"data row7 col8\" >-0.403364</td>\n",
       "    </tr>\n",
       "    <tr>\n",
       "      <th id=\"T_5609e_level0_row8\" class=\"row_heading level0 row8\" >MaritalStatus_Single</th>\n",
       "      <td id=\"T_5609e_row8_col0\" class=\"data row8 col0\" >-0.189633</td>\n",
       "      <td id=\"T_5609e_row8_col1\" class=\"data row8 col1\" >-0.003701</td>\n",
       "      <td id=\"T_5609e_row8_col2\" class=\"data row8 col2\" >-0.076477</td>\n",
       "      <td id=\"T_5609e_row8_col3\" class=\"data row8 col3\" >0.007110</td>\n",
       "      <td id=\"T_5609e_row8_col4\" class=\"data row8 col4\" >-0.053852</td>\n",
       "      <td id=\"T_5609e_row8_col5\" class=\"data row8 col5\" >-0.091152</td>\n",
       "      <td id=\"T_5609e_row8_col6\" class=\"data row8 col6\" >0.041766</td>\n",
       "      <td id=\"T_5609e_row8_col7\" class=\"data row8 col7\" >-0.403364</td>\n",
       "      <td id=\"T_5609e_row8_col8\" class=\"data row8 col8\" >1.000000</td>\n",
       "    </tr>\n",
       "  </tbody>\n",
       "</table>\n"
      ],
      "text/plain": [
       "<pandas.io.formats.style.Styler at 0x10ee1b7a380>"
      ]
     },
     "execution_count": 946,
     "metadata": {},
     "output_type": "execute_result"
    }
   ],
   "source": [
    "corr=X_sig.corr()\n",
    "corr.style.background_gradient(cmap='coolwarm')"
   ]
  },
  {
   "cell_type": "markdown",
   "metadata": {},
   "source": [
    "### Model Test Post-Feature Selection"
   ]
  },
  {
   "cell_type": "code",
   "execution_count": 1008,
   "metadata": {},
   "outputs": [],
   "source": [
    "# Training/Testing Split\n",
    "\n",
    "X_train, X_test, y_train, y_test = train_test_split(X_sig, y, test_size=0.3, random_state=42)"
   ]
  },
  {
   "cell_type": "code",
   "execution_count": 1011,
   "metadata": {},
   "outputs": [],
   "source": [
    "pipeline.fit(X_train,y_train)\n",
    "y_pred = pipeline.predict(X_test)"
   ]
  },
  {
   "cell_type": "code",
   "execution_count": 1012,
   "metadata": {},
   "outputs": [
    {
     "data": {
      "image/png": "[encoded data removed]",
      "text/plain": [
       "<Figure size 576x360 with 2 Axes>"
      ]
     },
     "metadata": {
      "needs_background": "light"
     },
     "output_type": "display_data"
    }
   ],
   "source": [
    "confusionMatrix(y_test,y_pred)"
   ]
  },
  {
   "cell_type": "code",
   "execution_count": 1013,
   "metadata": {},
   "outputs": [
    {
     "name": "stdout",
     "output_type": "stream",
     "text": [
      "              precision    recall  f1-score   support\n",
      "\n",
      "       Basic       0.87      0.91      0.89       157\n",
      "      Deluxe       0.69      0.73      0.71        62\n",
      "        King       1.00      0.71      0.83         7\n",
      "    Standard       0.78      0.61      0.68        46\n",
      "Super Deluxe       0.50      0.75      0.60         4\n",
      "\n",
      "    accuracy                           0.81       276\n",
      "   macro avg       0.77      0.74      0.74       276\n",
      "weighted avg       0.81      0.81      0.81       276\n",
      "\n"
     ]
    }
   ],
   "source": [
    "print(classification_report(y_test, y_pred, target_names=[\"Basic\", \"Deluxe\", \"King\", \"Standard\", \"Super Deluxe\"]))"
   ]
  },
  {
   "cell_type": "code",
   "execution_count": 1017,
   "metadata": {},
   "outputs": [
    {
     "name": "stdout",
     "output_type": "stream",
     "text": [
      "Mean F1 macro: 0.76427\n"
     ]
    }
   ],
   "source": [
    "# define evaluation procedure\n",
    "cv = RepeatedStratifiedKFold(n_splits=10, n_repeats=3, random_state=1)\n",
    "# evaluate model\n",
    "scores = cross_val_score(pipeline, X, y, scoring='f1_macro', cv=cv, n_jobs=-1,error_score=\"raise\")\n",
    "# summarize performance\n",
    "print('Mean F1 macro: %.5f' % mean(scores))"
   ]
  },
  {
   "cell_type": "markdown",
   "metadata": {},
   "source": [
    "With our current feature selection there isn't much of a drop in performance (if any)! Let move onto hyperparameter tunning using GridSearchCV"
   ]
  },
  {
   "cell_type": "markdown",
   "metadata": {},
   "source": [
    "## Hyperparameter Tuning"
   ]
  },
  {
   "cell_type": "markdown",
   "metadata": {},
   "source": [
    "Create a new pipeline for gridsearch. This way we will always have the basemodel pipeline, and can change or add to this pipeline if we wish.\n",
    "- Since GridSearchCV can take a lot longer each parameter you add, I have chosen 5 parameters from XGBoost that I have researched and used in the past with considerable success."
   ]
  },
  {
   "cell_type": "code",
   "execution_count": 965,
   "metadata": {},
   "outputs": [],
   "source": [
    "cv_pipeline = Pipeline([\n",
    "    ('Age_low_salary_NaN',LowerSalaryAgeImputation()),\n",
    "    ('Income_NaN',ByAgeIncomeImputation()),\n",
    "    ('Children_Trips_Star_NaN',SimpleImputer(strategy = 'median')),\n",
    "    ('Standard_Scalar',StandardScaler()), \n",
    "    ('model', XGBClassifier())\n",
    "])"
   ]
  },
  {
   "cell_type": "code",
   "execution_count": 967,
   "metadata": {},
   "outputs": [
    {
     "data": {
      "text/plain": [
       "dict_keys(['memory', 'steps', 'verbose', 'Age_low_salary_NaN', 'Income_NaN', 'Children_Trips_Star_NaN', 'Standard_Scalar', 'model', 'Children_Trips_Star_NaN__add_indicator', 'Children_Trips_Star_NaN__copy', 'Children_Trips_Star_NaN__fill_value', 'Children_Trips_Star_NaN__missing_values', 'Children_Trips_Star_NaN__strategy', 'Children_Trips_Star_NaN__verbose', 'Standard_Scalar__copy', 'Standard_Scalar__with_mean', 'Standard_Scalar__with_std', 'model__objective', 'model__use_label_encoder', 'model__base_score', 'model__booster', 'model__callbacks', 'model__colsample_bylevel', 'model__colsample_bynode', 'model__colsample_bytree', 'model__early_stopping_rounds', 'model__enable_categorical', 'model__eval_metric', 'model__gamma', 'model__gpu_id', 'model__grow_policy', 'model__importance_type', 'model__interaction_constraints', 'model__learning_rate', 'model__max_bin', 'model__max_cat_to_onehot', 'model__max_delta_step', 'model__max_depth', 'model__max_leaves', 'model__min_child_weight', 'model__missing', 'model__monotone_constraints', 'model__n_estimators', 'model__n_jobs', 'model__num_parallel_tree', 'model__predictor', 'model__random_state', 'model__reg_alpha', 'model__reg_lambda', 'model__sampling_method', 'model__scale_pos_weight', 'model__subsample', 'model__tree_method', 'model__validate_parameters', 'model__verbosity'])"
      ]
     },
     "execution_count": 967,
     "metadata": {},
     "output_type": "execute_result"
    }
   ],
   "source": [
    "# find parameters\n",
    "\n",
    "cv_pipeline.get_params().keys()"
   ]
  },
  {
   "cell_type": "markdown",
   "metadata": {},
   "source": [
    "## Hypertuning Round\n"
   ]
  },
  {
   "cell_type": "code",
   "execution_count": 1043,
   "metadata": {},
   "outputs": [],
   "source": [
    "parameters = {\n",
    "        'model__learning_rate' : [0.01,0.1, 0.2],\n",
    "        'model__subsample' : [0.1,0.25,0.5,1],\n",
    "        'model__max_depth' : [2,3,6,10,15],\n",
    "        'model__min_child_weight' : [0,0.5,0.75, 1],\n",
    "        'model__gamma' : [0,0.5,1],\n",
    "        'model__n_estimators': [100,250,500,750],\n",
    "        'model__reg_alpha': [0,0.1,0.5,1,10,20]\n",
    "    }\n",
    "\n",
    "cv = GridSearchCV(cv_pipeline, param_grid=parameters, scoring='f1_macro')"
   ]
  },
  {
   "cell_type": "code",
   "execution_count": 1044,
   "metadata": {},
   "outputs": [],
   "source": [
    "cv.fit(X_train, y_train)\n"
   ]
  },
  {
   "cell_type": "code",
   "execution_count": 1029,
   "metadata": {},
   "outputs": [],
   "source": [
    "y_pred = cv.predict(X_test)"
   ]
  },
  {
   "cell_type": "code",
   "execution_count": 1030,
   "metadata": {},
   "outputs": [
    {
     "data": {
      "text/plain": [
       "{'model__gamma': 1,\n",
       " 'model__learning_rate': 0.2,\n",
       " 'model__max_depth': 15,\n",
       " 'model__min_child_weight': 0.5,\n",
       " 'model__n_estimators': 250,\n",
       " 'model__subsample': 0.5}"
      ]
     },
     "execution_count": 1030,
     "metadata": {},
     "output_type": "execute_result"
    }
   ],
   "source": [
    "cv.best_params_"
   ]
  },
  {
   "cell_type": "markdown",
   "metadata": {},
   "source": [
    "### Hyperparameter Model Update"
   ]
  },
  {
   "cell_type": "code",
   "execution_count": null,
   "metadata": {},
   "outputs": [],
   "source": [
    "# Training/Testing Split\n",
    "\n",
    "X_train, X_test, y_train, y_test = train_test_split(X, y, test_size=0.3, random_state=42)"
   ]
  },
  {
   "cell_type": "code",
   "execution_count": 1032,
   "metadata": {},
   "outputs": [],
   "source": [
    "#create a pipeline \n",
    "\n",
    "pipeline_best_2 = Pipeline([\n",
    "    ('Age_low_salary_NaN',LowerSalaryAgeImputation()),\n",
    "    ('Income_NaN',ByAgeIncomeImputation()),\n",
    "    ('Children_Trips_Star_NaN',SimpleImputer(strategy = 'median')),\n",
    "    ('Standard_Scalar',StandardScaler()), \n",
    "    ('model', XGBClassifier(gamma = 1, learning_rate= 0.2, max_depth= 15, min_child_weight= 0.5, subsample = 0.5, n_estimators = 250))\n",
    "])"
   ]
  },
  {
   "cell_type": "code",
   "execution_count": 1033,
   "metadata": {},
   "outputs": [
    {
     "data": {
      "text/html": [
       "<style>#sk-container-id-55 {color: black;background-color: white;}#sk-container-id-55 pre{padding: 0;}#sk-container-id-55 div.sk-toggleable {background-color: white;}#sk-container-id-55 label.sk-toggleable__label {cursor: pointer;display: block;width: 100%;margin-bottom: 0;padding: 0.3em;box-sizing: border-box;text-align: center;}#sk-container-id-55 label.sk-toggleable__label-arrow:before {content: \"▸\";float: left;margin-right: 0.25em;color: #696969;}#sk-container-id-55 label.sk-toggleable__label-arrow:hover:before {color: black;}#sk-container-id-55 div.sk-estimator:hover label.sk-toggleable__label-arrow:before {color: black;}#sk-container-id-55 div.sk-toggleable__content {max-height: 0;max-width: 0;overflow: hidden;text-align: left;background-color: #f0f8ff;}#sk-container-id-55 div.sk-toggleable__content pre {margin: 0.2em;color: black;border-radius: 0.25em;background-color: #f0f8ff;}#sk-container-id-55 input.sk-toggleable__control:checked~div.sk-toggleable__content {max-height: 200px;max-width: 100%;overflow: auto;}#sk-container-id-55 input.sk-toggleable__control:checked~label.sk-toggleable__label-arrow:before {content: \"▾\";}#sk-container-id-55 div.sk-estimator input.sk-toggleable__control:checked~label.sk-toggleable__label {background-color: #d4ebff;}#sk-container-id-55 div.sk-label input.sk-toggleable__control:checked~label.sk-toggleable__label {background-color: #d4ebff;}#sk-container-id-55 input.sk-hidden--visually {border: 0;clip: rect(1px 1px 1px 1px);clip: rect(1px, 1px, 1px, 1px);height: 1px;margin: -1px;overflow: hidden;padding: 0;position: absolute;width: 1px;}#sk-container-id-55 div.sk-estimator {font-family: monospace;background-color: #f0f8ff;border: 1px dotted black;border-radius: 0.25em;box-sizing: border-box;margin-bottom: 0.5em;}#sk-container-id-55 div.sk-estimator:hover {background-color: #d4ebff;}#sk-container-id-55 div.sk-parallel-item::after {content: \"\";width: 100%;border-bottom: 1px solid gray;flex-grow: 1;}#sk-container-id-55 div.sk-label:hover label.sk-toggleable__label {background-color: #d4ebff;}#sk-container-id-55 div.sk-serial::before {content: \"\";position: absolute;border-left: 1px solid gray;box-sizing: border-box;top: 0;bottom: 0;left: 50%;z-index: 0;}#sk-container-id-55 div.sk-serial {display: flex;flex-direction: column;align-items: center;background-color: white;padding-right: 0.2em;padding-left: 0.2em;position: relative;}#sk-container-id-55 div.sk-item {position: relative;z-index: 1;}#sk-container-id-55 div.sk-parallel {display: flex;align-items: stretch;justify-content: center;background-color: white;position: relative;}#sk-container-id-55 div.sk-item::before, #sk-container-id-55 div.sk-parallel-item::before {content: \"\";position: absolute;border-left: 1px solid gray;box-sizing: border-box;top: 0;bottom: 0;left: 50%;z-index: -1;}#sk-container-id-55 div.sk-parallel-item {display: flex;flex-direction: column;z-index: 1;position: relative;background-color: white;}#sk-container-id-55 div.sk-parallel-item:first-child::after {align-self: flex-end;width: 50%;}#sk-container-id-55 div.sk-parallel-item:last-child::after {align-self: flex-start;width: 50%;}#sk-container-id-55 div.sk-parallel-item:only-child::after {width: 0;}#sk-container-id-55 div.sk-dashed-wrapped {border: 1px dashed gray;margin: 0 0.4em 0.5em 0.4em;box-sizing: border-box;padding-bottom: 0.4em;background-color: white;}#sk-container-id-55 div.sk-label label {font-family: monospace;font-weight: bold;display: inline-block;line-height: 1.2em;}#sk-container-id-55 div.sk-label-container {text-align: center;}#sk-container-id-55 div.sk-container {/* jupyter's `normalize.less` sets `[hidden] { display: none; }` but bootstrap.min.css set `[hidden] { display: none !important; }` so we also need the `!important` here to be able to override the default hidden behavior on the sphinx rendered scikit-learn.org. See: https://github.com/scikit-learn/scikit-learn/issues/21755 */display: inline-block !important;position: relative;}#sk-container-id-55 div.sk-text-repr-fallback {display: none;}</style><div id=\"sk-container-id-55\" class=\"sk-top-container\"><div class=\"sk-text-repr-fallback\"><pre>Pipeline(steps=[(&#x27;Age_low_salary_NaN&#x27;, LowerSalaryAgeImputation()),\n",
       "                (&#x27;Income_NaN&#x27;, ByAgeIncomeImputation()),\n",
       "                (&#x27;Children_Trips_Star_NaN&#x27;, SimpleImputer(strategy=&#x27;median&#x27;)),\n",
       "                (&#x27;Standard_Scalar&#x27;, StandardScaler()),\n",
       "                (&#x27;model&#x27;,\n",
       "                 XGBClassifier(base_score=0.5, booster=&#x27;gbtree&#x27;, callbacks=None,\n",
       "                               colsample_bylevel=1, colsample_bynode=1,\n",
       "                               colsample_bytree=1, early_stopping_roun...\n",
       "                               gamma=1, gpu_id=-1, grow_policy=&#x27;depthwise&#x27;,\n",
       "                               importance_type=None, interaction_constraints=&#x27;&#x27;,\n",
       "                               learning_rate=0.2, max_bin=256,\n",
       "                               max_cat_to_onehot=4, max_delta_step=0,\n",
       "                               max_depth=15, max_leaves=0, min_child_weight=0.5,\n",
       "                               missing=nan, monotone_constraints=&#x27;()&#x27;,\n",
       "                               n_estimators=250, n_jobs=0, num_parallel_tree=1,\n",
       "                               objective=&#x27;multi:softprob&#x27;, predictor=&#x27;auto&#x27;,\n",
       "                               random_state=0, reg_alpha=0, ...))])</pre><b>In a Jupyter environment, please rerun this cell to show the HTML representation or trust the notebook. <br />On GitHub, the HTML representation is unable to render, please try loading this page with nbviewer.org.</b></div><div class=\"sk-container\" hidden><div class=\"sk-item sk-dashed-wrapped\"><div class=\"sk-label-container\"><div class=\"sk-label sk-toggleable\"><input class=\"sk-toggleable__control sk-hidden--visually\" id=\"sk-estimator-id-182\" type=\"checkbox\" ><label for=\"sk-estimator-id-182\" class=\"sk-toggleable__label sk-toggleable__label-arrow\">Pipeline</label><div class=\"sk-toggleable__content\"><pre>Pipeline(steps=[(&#x27;Age_low_salary_NaN&#x27;, LowerSalaryAgeImputation()),\n",
       "                (&#x27;Income_NaN&#x27;, ByAgeIncomeImputation()),\n",
       "                (&#x27;Children_Trips_Star_NaN&#x27;, SimpleImputer(strategy=&#x27;median&#x27;)),\n",
       "                (&#x27;Standard_Scalar&#x27;, StandardScaler()),\n",
       "                (&#x27;model&#x27;,\n",
       "                 XGBClassifier(base_score=0.5, booster=&#x27;gbtree&#x27;, callbacks=None,\n",
       "                               colsample_bylevel=1, colsample_bynode=1,\n",
       "                               colsample_bytree=1, early_stopping_roun...\n",
       "                               gamma=1, gpu_id=-1, grow_policy=&#x27;depthwise&#x27;,\n",
       "                               importance_type=None, interaction_constraints=&#x27;&#x27;,\n",
       "                               learning_rate=0.2, max_bin=256,\n",
       "                               max_cat_to_onehot=4, max_delta_step=0,\n",
       "                               max_depth=15, max_leaves=0, min_child_weight=0.5,\n",
       "                               missing=nan, monotone_constraints=&#x27;()&#x27;,\n",
       "                               n_estimators=250, n_jobs=0, num_parallel_tree=1,\n",
       "                               objective=&#x27;multi:softprob&#x27;, predictor=&#x27;auto&#x27;,\n",
       "                               random_state=0, reg_alpha=0, ...))])</pre></div></div></div><div class=\"sk-serial\"><div class=\"sk-item\"><div class=\"sk-estimator sk-toggleable\"><input class=\"sk-toggleable__control sk-hidden--visually\" id=\"sk-estimator-id-183\" type=\"checkbox\" ><label for=\"sk-estimator-id-183\" class=\"sk-toggleable__label sk-toggleable__label-arrow\">LowerSalaryAgeImputation</label><div class=\"sk-toggleable__content\"><pre>LowerSalaryAgeImputation()</pre></div></div></div><div class=\"sk-item\"><div class=\"sk-estimator sk-toggleable\"><input class=\"sk-toggleable__control sk-hidden--visually\" id=\"sk-estimator-id-184\" type=\"checkbox\" ><label for=\"sk-estimator-id-184\" class=\"sk-toggleable__label sk-toggleable__label-arrow\">ByAgeIncomeImputation</label><div class=\"sk-toggleable__content\"><pre>ByAgeIncomeImputation()</pre></div></div></div><div class=\"sk-item\"><div class=\"sk-estimator sk-toggleable\"><input class=\"sk-toggleable__control sk-hidden--visually\" id=\"sk-estimator-id-185\" type=\"checkbox\" ><label for=\"sk-estimator-id-185\" class=\"sk-toggleable__label sk-toggleable__label-arrow\">SimpleImputer</label><div class=\"sk-toggleable__content\"><pre>SimpleImputer(strategy=&#x27;median&#x27;)</pre></div></div></div><div class=\"sk-item\"><div class=\"sk-estimator sk-toggleable\"><input class=\"sk-toggleable__control sk-hidden--visually\" id=\"sk-estimator-id-186\" type=\"checkbox\" ><label for=\"sk-estimator-id-186\" class=\"sk-toggleable__label sk-toggleable__label-arrow\">StandardScaler</label><div class=\"sk-toggleable__content\"><pre>StandardScaler()</pre></div></div></div><div class=\"sk-item\"><div class=\"sk-estimator sk-toggleable\"><input class=\"sk-toggleable__control sk-hidden--visually\" id=\"sk-estimator-id-187\" type=\"checkbox\" ><label for=\"sk-estimator-id-187\" class=\"sk-toggleable__label sk-toggleable__label-arrow\">XGBClassifier</label><div class=\"sk-toggleable__content\"><pre>XGBClassifier(base_score=0.5, booster=&#x27;gbtree&#x27;, callbacks=None,\n",
       "              colsample_bylevel=1, colsample_bynode=1, colsample_bytree=1,\n",
       "              early_stopping_rounds=None, enable_categorical=False,\n",
       "              eval_metric=None, gamma=1, gpu_id=-1, grow_policy=&#x27;depthwise&#x27;,\n",
       "              importance_type=None, interaction_constraints=&#x27;&#x27;,\n",
       "              learning_rate=0.2, max_bin=256, max_cat_to_onehot=4,\n",
       "              max_delta_step=0, max_depth=15, max_leaves=0,\n",
       "              min_child_weight=0.5, missing=nan, monotone_constraints=&#x27;()&#x27;,\n",
       "              n_estimators=250, n_jobs=0, num_parallel_tree=1,\n",
       "              objective=&#x27;multi:softprob&#x27;, predictor=&#x27;auto&#x27;, random_state=0,\n",
       "              reg_alpha=0, ...)</pre></div></div></div></div></div></div></div>"
      ],
      "text/plain": [
       "Pipeline(steps=[('Age_low_salary_NaN', LowerSalaryAgeImputation()),\n",
       "                ('Income_NaN', ByAgeIncomeImputation()),\n",
       "                ('Children_Trips_Star_NaN', SimpleImputer(strategy='median')),\n",
       "                ('Standard_Scalar', StandardScaler()),\n",
       "                ('model',\n",
       "                 XGBClassifier(base_score=0.5, booster='gbtree', callbacks=None,\n",
       "                               colsample_bylevel=1, colsample_bynode=1,\n",
       "                               colsample_bytree=1, early_stopping_roun...\n",
       "                               gamma=1, gpu_id=-1, grow_policy='depthwise',\n",
       "                               importance_type=None, interaction_constraints='',\n",
       "                               learning_rate=0.2, max_bin=256,\n",
       "                               max_cat_to_onehot=4, max_delta_step=0,\n",
       "                               max_depth=15, max_leaves=0, min_child_weight=0.5,\n",
       "                               missing=nan, monotone_constraints='()',\n",
       "                               n_estimators=250, n_jobs=0, num_parallel_tree=1,\n",
       "                               objective='multi:softprob', predictor='auto',\n",
       "                               random_state=0, reg_alpha=0, ...))])"
      ]
     },
     "execution_count": 1033,
     "metadata": {},
     "output_type": "execute_result"
    }
   ],
   "source": [
    "pipeline_best_2.fit(X_train,y_train)"
   ]
  },
  {
   "cell_type": "code",
   "execution_count": 1034,
   "metadata": {},
   "outputs": [],
   "source": [
    "y_pred = pipeline_best_2.predict(X_test)"
   ]
  },
  {
   "cell_type": "code",
   "execution_count": 1035,
   "metadata": {},
   "outputs": [
    {
     "data": {
      "image/png": "[encoded data removed]",
      "text/plain": [
       "<Figure size 576x360 with 2 Axes>"
      ]
     },
     "metadata": {
      "needs_background": "light"
     },
     "output_type": "display_data"
    }
   ],
   "source": [
    "confusionMatrix(y_test,y_pred)"
   ]
  },
  {
   "cell_type": "markdown",
   "metadata": {},
   "source": [
    "#### Precision/Recall F1 Scores\n",
    "\n",
    "Since we have a high class imbalance, F1 scores are the right choice for our metric as it considers both precision and recall. To get a high F1, both false positives and false negatives must be low. Other measures of performance for classification my give us high scores with a high enough number of false positives. "
   ]
  },
  {
   "cell_type": "code",
   "execution_count": 1036,
   "metadata": {},
   "outputs": [
    {
     "name": "stdout",
     "output_type": "stream",
     "text": [
      "              precision    recall  f1-score   support\n",
      "\n",
      "       Basic       0.88      0.90      0.89       157\n",
      "      Deluxe       0.66      0.71      0.68        62\n",
      "        King       1.00      0.71      0.83         7\n",
      "    Standard       0.73      0.59      0.65        46\n",
      "Super Deluxe       0.50      0.75      0.60         4\n",
      "\n",
      "    accuracy                           0.80       276\n",
      "   macro avg       0.75      0.73      0.73       276\n",
      "weighted avg       0.80      0.80      0.80       276\n",
      "\n"
     ]
    }
   ],
   "source": [
    "print(classification_report(y_test, y_pred, target_names=[\"Basic\", \"Deluxe\", \"King\", \"Standard\", \"Super Deluxe\"]))"
   ]
  },
  {
   "cell_type": "markdown",
   "metadata": {},
   "source": [
    "### Cross-Validation"
   ]
  },
  {
   "cell_type": "code",
   "execution_count": 1037,
   "metadata": {},
   "outputs": [
    {
     "name": "stdout",
     "output_type": "stream",
     "text": [
      "Mean F1 Macro: 0.74621\n"
     ]
    }
   ],
   "source": [
    "# define evaluation procedure\n",
    "cv = RepeatedStratifiedKFold(n_splits=10, n_repeats=3, random_state=1)\n",
    "# evaluate model\n",
    "scores = cross_val_score(pipeline_best, X, y, scoring='f1_macro', cv=cv, n_jobs=-1,error_score=\"raise\")\n",
    "# summarize performance\n",
    "print('Mean F1 Macro: %.5f' % mean(scores))"
   ]
  },
  {
   "cell_type": "markdown",
   "metadata": {},
   "source": [
    "## Hypertuning Round 3\n"
   ]
  },
  {
   "cell_type": "code",
   "execution_count": 1041,
   "metadata": {},
   "outputs": [],
   "source": [
    "parameters = {\n",
    "        'model__learning_rate' : [0.001,0.01,0.1, 0.2],\n",
    "        'model__subsample' : [0.1,0.5,0.75,1],\n",
    "        'model__max_depth' : [2,3,5,9,10],\n",
    "        'model__min_child_weight' : [0.25,0.5,0.75, 1],\n",
    "        'model__gamma' : [0.5,1],\n",
    "        'model__n_estimators': [100,250,500],\n",
    "        'model__reg_alpha': [0,0.1,0.5,1,10,20]\n",
    "    }\n",
    "\n",
    "cv = GridSearchCV(cv_pipeline, param_grid=parameters, scoring= \n",
    "'f1_macro')"
   ]
  },
  {
   "cell_type": "code",
   "execution_count": 1039,
   "metadata": {},
   "outputs": [
    {
     "ename": "KeyboardInterrupt",
     "evalue": "",
     "output_type": "error",
     "traceback": [
      "\u001b[1;31m---------------------------------------------------------------------------\u001b[0m",
      "\u001b[1;31mKeyboardInterrupt\u001b[0m                         Traceback (most recent call last)",
      "\u001b[1;32m~\\AppData\\Local\\Temp/ipykernel_9336/3395500064.py\u001b[0m in \u001b[0;36m<module>\u001b[1;34m\u001b[0m\n\u001b[1;32m----> 1\u001b[1;33m \u001b[0mcv\u001b[0m\u001b[1;33m.\u001b[0m\u001b[0mfit\u001b[0m\u001b[1;33m(\u001b[0m\u001b[0mX_train\u001b[0m\u001b[1;33m,\u001b[0m \u001b[0my_train\u001b[0m\u001b[1;33m)\u001b[0m\u001b[1;33m\u001b[0m\u001b[1;33m\u001b[0m\u001b[0m\n\u001b[0m",
      "\u001b[1;32mc:\\Users\\ingal\\AppData\\Local\\Programs\\Python\\Python310\\lib\\site-packages\\sklearn\\model_selection\\_search.py\u001b[0m in \u001b[0;36mfit\u001b[1;34m(self, X, y, groups, **fit_params)\u001b[0m\n\u001b[0;32m    873\u001b[0m                 \u001b[1;32mreturn\u001b[0m \u001b[0mresults\u001b[0m\u001b[1;33m\u001b[0m\u001b[1;33m\u001b[0m\u001b[0m\n\u001b[0;32m    874\u001b[0m \u001b[1;33m\u001b[0m\u001b[0m\n\u001b[1;32m--> 875\u001b[1;33m             \u001b[0mself\u001b[0m\u001b[1;33m.\u001b[0m\u001b[0m_run_search\u001b[0m\u001b[1;33m(\u001b[0m\u001b[0mevaluate_candidates\u001b[0m\u001b[1;33m)\u001b[0m\u001b[1;33m\u001b[0m\u001b[1;33m\u001b[0m\u001b[0m\n\u001b[0m\u001b[0;32m    876\u001b[0m \u001b[1;33m\u001b[0m\u001b[0m\n\u001b[0;32m    877\u001b[0m             \u001b[1;31m# multimetric is determined here because in the case of a callable\u001b[0m\u001b[1;33m\u001b[0m\u001b[1;33m\u001b[0m\u001b[0m\n",
      "\u001b[1;32mc:\\Users\\ingal\\AppData\\Local\\Programs\\Python\\Python310\\lib\\site-packages\\sklearn\\model_selection\\_search.py\u001b[0m in \u001b[0;36m_run_search\u001b[1;34m(self, evaluate_candidates)\u001b[0m\n\u001b[0;32m   1377\u001b[0m     \u001b[1;32mdef\u001b[0m \u001b[0m_run_search\u001b[0m\u001b[1;33m(\u001b[0m\u001b[0mself\u001b[0m\u001b[1;33m,\u001b[0m \u001b[0mevaluate_candidates\u001b[0m\u001b[1;33m)\u001b[0m\u001b[1;33m:\u001b[0m\u001b[1;33m\u001b[0m\u001b[1;33m\u001b[0m\u001b[0m\n\u001b[0;32m   1378\u001b[0m         \u001b[1;34m\"\"\"Search all candidates in param_grid\"\"\"\u001b[0m\u001b[1;33m\u001b[0m\u001b[1;33m\u001b[0m\u001b[0m\n\u001b[1;32m-> 1379\u001b[1;33m         \u001b[0mevaluate_candidates\u001b[0m\u001b[1;33m(\u001b[0m\u001b[0mParameterGrid\u001b[0m\u001b[1;33m(\u001b[0m\u001b[0mself\u001b[0m\u001b[1;33m.\u001b[0m\u001b[0mparam_grid\u001b[0m\u001b[1;33m)\u001b[0m\u001b[1;33m)\u001b[0m\u001b[1;33m\u001b[0m\u001b[1;33m\u001b[0m\u001b[0m\n\u001b[0m\u001b[0;32m   1380\u001b[0m \u001b[1;33m\u001b[0m\u001b[0m\n\u001b[0;32m   1381\u001b[0m \u001b[1;33m\u001b[0m\u001b[0m\n",
      "\u001b[1;32mc:\\Users\\ingal\\AppData\\Local\\Programs\\Python\\Python310\\lib\\site-packages\\sklearn\\model_selection\\_search.py\u001b[0m in \u001b[0;36mevaluate_candidates\u001b[1;34m(candidate_params, cv, more_results)\u001b[0m\n\u001b[0;32m    820\u001b[0m                     )\n\u001b[0;32m    821\u001b[0m \u001b[1;33m\u001b[0m\u001b[0m\n\u001b[1;32m--> 822\u001b[1;33m                 out = parallel(\n\u001b[0m\u001b[0;32m    823\u001b[0m                     delayed(_fit_and_score)(\n\u001b[0;32m    824\u001b[0m                         \u001b[0mclone\u001b[0m\u001b[1;33m(\u001b[0m\u001b[0mbase_estimator\u001b[0m\u001b[1;33m)\u001b[0m\u001b[1;33m,\u001b[0m\u001b[1;33m\u001b[0m\u001b[1;33m\u001b[0m\u001b[0m\n",
      "\u001b[1;32mc:\\Users\\ingal\\AppData\\Local\\Programs\\Python\\Python310\\lib\\site-packages\\joblib\\parallel.py\u001b[0m in \u001b[0;36m__call__\u001b[1;34m(self, iterable)\u001b[0m\n\u001b[0;32m   1044\u001b[0m                 \u001b[0mself\u001b[0m\u001b[1;33m.\u001b[0m\u001b[0m_iterating\u001b[0m \u001b[1;33m=\u001b[0m \u001b[0mself\u001b[0m\u001b[1;33m.\u001b[0m\u001b[0m_original_iterator\u001b[0m \u001b[1;32mis\u001b[0m \u001b[1;32mnot\u001b[0m \u001b[1;32mNone\u001b[0m\u001b[1;33m\u001b[0m\u001b[1;33m\u001b[0m\u001b[0m\n\u001b[0;32m   1045\u001b[0m \u001b[1;33m\u001b[0m\u001b[0m\n\u001b[1;32m-> 1046\u001b[1;33m             \u001b[1;32mwhile\u001b[0m \u001b[0mself\u001b[0m\u001b[1;33m.\u001b[0m\u001b[0mdispatch_one_batch\u001b[0m\u001b[1;33m(\u001b[0m\u001b[0miterator\u001b[0m\u001b[1;33m)\u001b[0m\u001b[1;33m:\u001b[0m\u001b[1;33m\u001b[0m\u001b[1;33m\u001b[0m\u001b[0m\n\u001b[0m\u001b[0;32m   1047\u001b[0m                 \u001b[1;32mpass\u001b[0m\u001b[1;33m\u001b[0m\u001b[1;33m\u001b[0m\u001b[0m\n\u001b[0;32m   1048\u001b[0m \u001b[1;33m\u001b[0m\u001b[0m\n",
      "\u001b[1;32mc:\\Users\\ingal\\AppData\\Local\\Programs\\Python\\Python310\\lib\\site-packages\\joblib\\parallel.py\u001b[0m in \u001b[0;36mdispatch_one_batch\u001b[1;34m(self, iterator)\u001b[0m\n\u001b[0;32m    859\u001b[0m                 \u001b[1;32mreturn\u001b[0m \u001b[1;32mFalse\u001b[0m\u001b[1;33m\u001b[0m\u001b[1;33m\u001b[0m\u001b[0m\n\u001b[0;32m    860\u001b[0m             \u001b[1;32melse\u001b[0m\u001b[1;33m:\u001b[0m\u001b[1;33m\u001b[0m\u001b[1;33m\u001b[0m\u001b[0m\n\u001b[1;32m--> 861\u001b[1;33m                 \u001b[0mself\u001b[0m\u001b[1;33m.\u001b[0m\u001b[0m_dispatch\u001b[0m\u001b[1;33m(\u001b[0m\u001b[0mtasks\u001b[0m\u001b[1;33m)\u001b[0m\u001b[1;33m\u001b[0m\u001b[1;33m\u001b[0m\u001b[0m\n\u001b[0m\u001b[0;32m    862\u001b[0m                 \u001b[1;32mreturn\u001b[0m \u001b[1;32mTrue\u001b[0m\u001b[1;33m\u001b[0m\u001b[1;33m\u001b[0m\u001b[0m\n\u001b[0;32m    863\u001b[0m \u001b[1;33m\u001b[0m\u001b[0m\n",
      "\u001b[1;32mc:\\Users\\ingal\\AppData\\Local\\Programs\\Python\\Python310\\lib\\site-packages\\joblib\\parallel.py\u001b[0m in \u001b[0;36m_dispatch\u001b[1;34m(self, batch)\u001b[0m\n\u001b[0;32m    777\u001b[0m         \u001b[1;32mwith\u001b[0m \u001b[0mself\u001b[0m\u001b[1;33m.\u001b[0m\u001b[0m_lock\u001b[0m\u001b[1;33m:\u001b[0m\u001b[1;33m\u001b[0m\u001b[1;33m\u001b[0m\u001b[0m\n\u001b[0;32m    778\u001b[0m             \u001b[0mjob_idx\u001b[0m \u001b[1;33m=\u001b[0m \u001b[0mlen\u001b[0m\u001b[1;33m(\u001b[0m\u001b[0mself\u001b[0m\u001b[1;33m.\u001b[0m\u001b[0m_jobs\u001b[0m\u001b[1;33m)\u001b[0m\u001b[1;33m\u001b[0m\u001b[1;33m\u001b[0m\u001b[0m\n\u001b[1;32m--> 779\u001b[1;33m             \u001b[0mjob\u001b[0m \u001b[1;33m=\u001b[0m \u001b[0mself\u001b[0m\u001b[1;33m.\u001b[0m\u001b[0m_backend\u001b[0m\u001b[1;33m.\u001b[0m\u001b[0mapply_async\u001b[0m\u001b[1;33m(\u001b[0m\u001b[0mbatch\u001b[0m\u001b[1;33m,\u001b[0m \u001b[0mcallback\u001b[0m\u001b[1;33m=\u001b[0m\u001b[0mcb\u001b[0m\u001b[1;33m)\u001b[0m\u001b[1;33m\u001b[0m\u001b[1;33m\u001b[0m\u001b[0m\n\u001b[0m\u001b[0;32m    780\u001b[0m             \u001b[1;31m# A job can complete so quickly than its callback is\u001b[0m\u001b[1;33m\u001b[0m\u001b[1;33m\u001b[0m\u001b[0m\n\u001b[0;32m    781\u001b[0m             \u001b[1;31m# called before we get here, causing self._jobs to\u001b[0m\u001b[1;33m\u001b[0m\u001b[1;33m\u001b[0m\u001b[0m\n",
      "\u001b[1;32mc:\\Users\\ingal\\AppData\\Local\\Programs\\Python\\Python310\\lib\\site-packages\\joblib\\_parallel_backends.py\u001b[0m in \u001b[0;36mapply_async\u001b[1;34m(self, func, callback)\u001b[0m\n\u001b[0;32m    206\u001b[0m     \u001b[1;32mdef\u001b[0m \u001b[0mapply_async\u001b[0m\u001b[1;33m(\u001b[0m\u001b[0mself\u001b[0m\u001b[1;33m,\u001b[0m \u001b[0mfunc\u001b[0m\u001b[1;33m,\u001b[0m \u001b[0mcallback\u001b[0m\u001b[1;33m=\u001b[0m\u001b[1;32mNone\u001b[0m\u001b[1;33m)\u001b[0m\u001b[1;33m:\u001b[0m\u001b[1;33m\u001b[0m\u001b[1;33m\u001b[0m\u001b[0m\n\u001b[0;32m    207\u001b[0m         \u001b[1;34m\"\"\"Schedule a func to be run\"\"\"\u001b[0m\u001b[1;33m\u001b[0m\u001b[1;33m\u001b[0m\u001b[0m\n\u001b[1;32m--> 208\u001b[1;33m         \u001b[0mresult\u001b[0m \u001b[1;33m=\u001b[0m \u001b[0mImmediateResult\u001b[0m\u001b[1;33m(\u001b[0m\u001b[0mfunc\u001b[0m\u001b[1;33m)\u001b[0m\u001b[1;33m\u001b[0m\u001b[1;33m\u001b[0m\u001b[0m\n\u001b[0m\u001b[0;32m    209\u001b[0m         \u001b[1;32mif\u001b[0m \u001b[0mcallback\u001b[0m\u001b[1;33m:\u001b[0m\u001b[1;33m\u001b[0m\u001b[1;33m\u001b[0m\u001b[0m\n\u001b[0;32m    210\u001b[0m             \u001b[0mcallback\u001b[0m\u001b[1;33m(\u001b[0m\u001b[0mresult\u001b[0m\u001b[1;33m)\u001b[0m\u001b[1;33m\u001b[0m\u001b[1;33m\u001b[0m\u001b[0m\n",
      "\u001b[1;32mc:\\Users\\ingal\\AppData\\Local\\Programs\\Python\\Python310\\lib\\site-packages\\joblib\\_parallel_backends.py\u001b[0m in \u001b[0;36m__init__\u001b[1;34m(self, batch)\u001b[0m\n\u001b[0;32m    570\u001b[0m         \u001b[1;31m# Don't delay the application, to avoid keeping the input\u001b[0m\u001b[1;33m\u001b[0m\u001b[1;33m\u001b[0m\u001b[0m\n\u001b[0;32m    571\u001b[0m         \u001b[1;31m# arguments in memory\u001b[0m\u001b[1;33m\u001b[0m\u001b[1;33m\u001b[0m\u001b[0m\n\u001b[1;32m--> 572\u001b[1;33m         \u001b[0mself\u001b[0m\u001b[1;33m.\u001b[0m\u001b[0mresults\u001b[0m \u001b[1;33m=\u001b[0m \u001b[0mbatch\u001b[0m\u001b[1;33m(\u001b[0m\u001b[1;33m)\u001b[0m\u001b[1;33m\u001b[0m\u001b[1;33m\u001b[0m\u001b[0m\n\u001b[0m\u001b[0;32m    573\u001b[0m \u001b[1;33m\u001b[0m\u001b[0m\n\u001b[0;32m    574\u001b[0m     \u001b[1;32mdef\u001b[0m \u001b[0mget\u001b[0m\u001b[1;33m(\u001b[0m\u001b[0mself\u001b[0m\u001b[1;33m)\u001b[0m\u001b[1;33m:\u001b[0m\u001b[1;33m\u001b[0m\u001b[1;33m\u001b[0m\u001b[0m\n",
      "\u001b[1;32mc:\\Users\\ingal\\AppData\\Local\\Programs\\Python\\Python310\\lib\\site-packages\\joblib\\parallel.py\u001b[0m in \u001b[0;36m__call__\u001b[1;34m(self)\u001b[0m\n\u001b[0;32m    260\u001b[0m         \u001b[1;31m# change the default number of processes to -1\u001b[0m\u001b[1;33m\u001b[0m\u001b[1;33m\u001b[0m\u001b[0m\n\u001b[0;32m    261\u001b[0m         \u001b[1;32mwith\u001b[0m \u001b[0mparallel_backend\u001b[0m\u001b[1;33m(\u001b[0m\u001b[0mself\u001b[0m\u001b[1;33m.\u001b[0m\u001b[0m_backend\u001b[0m\u001b[1;33m,\u001b[0m \u001b[0mn_jobs\u001b[0m\u001b[1;33m=\u001b[0m\u001b[0mself\u001b[0m\u001b[1;33m.\u001b[0m\u001b[0m_n_jobs\u001b[0m\u001b[1;33m)\u001b[0m\u001b[1;33m:\u001b[0m\u001b[1;33m\u001b[0m\u001b[1;33m\u001b[0m\u001b[0m\n\u001b[1;32m--> 262\u001b[1;33m             return [func(*args, **kwargs)\n\u001b[0m\u001b[0;32m    263\u001b[0m                     for func, args, kwargs in self.items]\n\u001b[0;32m    264\u001b[0m \u001b[1;33m\u001b[0m\u001b[0m\n",
      "\u001b[1;32mc:\\Users\\ingal\\AppData\\Local\\Programs\\Python\\Python310\\lib\\site-packages\\joblib\\parallel.py\u001b[0m in \u001b[0;36m<listcomp>\u001b[1;34m(.0)\u001b[0m\n\u001b[0;32m    260\u001b[0m         \u001b[1;31m# change the default number of processes to -1\u001b[0m\u001b[1;33m\u001b[0m\u001b[1;33m\u001b[0m\u001b[0m\n\u001b[0;32m    261\u001b[0m         \u001b[1;32mwith\u001b[0m \u001b[0mparallel_backend\u001b[0m\u001b[1;33m(\u001b[0m\u001b[0mself\u001b[0m\u001b[1;33m.\u001b[0m\u001b[0m_backend\u001b[0m\u001b[1;33m,\u001b[0m \u001b[0mn_jobs\u001b[0m\u001b[1;33m=\u001b[0m\u001b[0mself\u001b[0m\u001b[1;33m.\u001b[0m\u001b[0m_n_jobs\u001b[0m\u001b[1;33m)\u001b[0m\u001b[1;33m:\u001b[0m\u001b[1;33m\u001b[0m\u001b[1;33m\u001b[0m\u001b[0m\n\u001b[1;32m--> 262\u001b[1;33m             return [func(*args, **kwargs)\n\u001b[0m\u001b[0;32m    263\u001b[0m                     for func, args, kwargs in self.items]\n\u001b[0;32m    264\u001b[0m \u001b[1;33m\u001b[0m\u001b[0m\n",
      "\u001b[1;32mc:\\Users\\ingal\\AppData\\Local\\Programs\\Python\\Python310\\lib\\site-packages\\sklearn\\utils\\fixes.py\u001b[0m in \u001b[0;36m__call__\u001b[1;34m(self, *args, **kwargs)\u001b[0m\n\u001b[0;32m    115\u001b[0m     \u001b[1;32mdef\u001b[0m \u001b[0m__call__\u001b[0m\u001b[1;33m(\u001b[0m\u001b[0mself\u001b[0m\u001b[1;33m,\u001b[0m \u001b[1;33m*\u001b[0m\u001b[0margs\u001b[0m\u001b[1;33m,\u001b[0m \u001b[1;33m**\u001b[0m\u001b[0mkwargs\u001b[0m\u001b[1;33m)\u001b[0m\u001b[1;33m:\u001b[0m\u001b[1;33m\u001b[0m\u001b[1;33m\u001b[0m\u001b[0m\n\u001b[0;32m    116\u001b[0m         \u001b[1;32mwith\u001b[0m \u001b[0mconfig_context\u001b[0m\u001b[1;33m(\u001b[0m\u001b[1;33m**\u001b[0m\u001b[0mself\u001b[0m\u001b[1;33m.\u001b[0m\u001b[0mconfig\u001b[0m\u001b[1;33m)\u001b[0m\u001b[1;33m:\u001b[0m\u001b[1;33m\u001b[0m\u001b[1;33m\u001b[0m\u001b[0m\n\u001b[1;32m--> 117\u001b[1;33m             \u001b[1;32mreturn\u001b[0m \u001b[0mself\u001b[0m\u001b[1;33m.\u001b[0m\u001b[0mfunction\u001b[0m\u001b[1;33m(\u001b[0m\u001b[1;33m*\u001b[0m\u001b[0margs\u001b[0m\u001b[1;33m,\u001b[0m \u001b[1;33m**\u001b[0m\u001b[0mkwargs\u001b[0m\u001b[1;33m)\u001b[0m\u001b[1;33m\u001b[0m\u001b[1;33m\u001b[0m\u001b[0m\n\u001b[0m\u001b[0;32m    118\u001b[0m \u001b[1;33m\u001b[0m\u001b[0m\n\u001b[0;32m    119\u001b[0m \u001b[1;33m\u001b[0m\u001b[0m\n",
      "\u001b[1;32mc:\\Users\\ingal\\AppData\\Local\\Programs\\Python\\Python310\\lib\\site-packages\\sklearn\\model_selection\\_validation.py\u001b[0m in \u001b[0;36m_fit_and_score\u001b[1;34m(estimator, X, y, scorer, train, test, verbose, parameters, fit_params, return_train_score, return_parameters, return_n_test_samples, return_times, return_estimator, split_progress, candidate_progress, error_score)\u001b[0m\n\u001b[0;32m    684\u001b[0m             \u001b[0mestimator\u001b[0m\u001b[1;33m.\u001b[0m\u001b[0mfit\u001b[0m\u001b[1;33m(\u001b[0m\u001b[0mX_train\u001b[0m\u001b[1;33m,\u001b[0m \u001b[1;33m**\u001b[0m\u001b[0mfit_params\u001b[0m\u001b[1;33m)\u001b[0m\u001b[1;33m\u001b[0m\u001b[1;33m\u001b[0m\u001b[0m\n\u001b[0;32m    685\u001b[0m         \u001b[1;32melse\u001b[0m\u001b[1;33m:\u001b[0m\u001b[1;33m\u001b[0m\u001b[1;33m\u001b[0m\u001b[0m\n\u001b[1;32m--> 686\u001b[1;33m             \u001b[0mestimator\u001b[0m\u001b[1;33m.\u001b[0m\u001b[0mfit\u001b[0m\u001b[1;33m(\u001b[0m\u001b[0mX_train\u001b[0m\u001b[1;33m,\u001b[0m \u001b[0my_train\u001b[0m\u001b[1;33m,\u001b[0m \u001b[1;33m**\u001b[0m\u001b[0mfit_params\u001b[0m\u001b[1;33m)\u001b[0m\u001b[1;33m\u001b[0m\u001b[1;33m\u001b[0m\u001b[0m\n\u001b[0m\u001b[0;32m    687\u001b[0m \u001b[1;33m\u001b[0m\u001b[0m\n\u001b[0;32m    688\u001b[0m     \u001b[1;32mexcept\u001b[0m \u001b[0mException\u001b[0m\u001b[1;33m:\u001b[0m\u001b[1;33m\u001b[0m\u001b[1;33m\u001b[0m\u001b[0m\n",
      "\u001b[1;32mc:\\Users\\ingal\\AppData\\Local\\Programs\\Python\\Python310\\lib\\site-packages\\sklearn\\pipeline.py\u001b[0m in \u001b[0;36mfit\u001b[1;34m(self, X, y, **fit_params)\u001b[0m\n\u001b[0;32m    380\u001b[0m             \u001b[1;32mif\u001b[0m \u001b[0mself\u001b[0m\u001b[1;33m.\u001b[0m\u001b[0m_final_estimator\u001b[0m \u001b[1;33m!=\u001b[0m \u001b[1;34m\"passthrough\"\u001b[0m\u001b[1;33m:\u001b[0m\u001b[1;33m\u001b[0m\u001b[1;33m\u001b[0m\u001b[0m\n\u001b[0;32m    381\u001b[0m                 \u001b[0mfit_params_last_step\u001b[0m \u001b[1;33m=\u001b[0m \u001b[0mfit_params_steps\u001b[0m\u001b[1;33m[\u001b[0m\u001b[0mself\u001b[0m\u001b[1;33m.\u001b[0m\u001b[0msteps\u001b[0m\u001b[1;33m[\u001b[0m\u001b[1;33m-\u001b[0m\u001b[1;36m1\u001b[0m\u001b[1;33m]\u001b[0m\u001b[1;33m[\u001b[0m\u001b[1;36m0\u001b[0m\u001b[1;33m]\u001b[0m\u001b[1;33m]\u001b[0m\u001b[1;33m\u001b[0m\u001b[1;33m\u001b[0m\u001b[0m\n\u001b[1;32m--> 382\u001b[1;33m                 \u001b[0mself\u001b[0m\u001b[1;33m.\u001b[0m\u001b[0m_final_estimator\u001b[0m\u001b[1;33m.\u001b[0m\u001b[0mfit\u001b[0m\u001b[1;33m(\u001b[0m\u001b[0mXt\u001b[0m\u001b[1;33m,\u001b[0m \u001b[0my\u001b[0m\u001b[1;33m,\u001b[0m \u001b[1;33m**\u001b[0m\u001b[0mfit_params_last_step\u001b[0m\u001b[1;33m)\u001b[0m\u001b[1;33m\u001b[0m\u001b[1;33m\u001b[0m\u001b[0m\n\u001b[0m\u001b[0;32m    383\u001b[0m \u001b[1;33m\u001b[0m\u001b[0m\n\u001b[0;32m    384\u001b[0m         \u001b[1;32mreturn\u001b[0m \u001b[0mself\u001b[0m\u001b[1;33m\u001b[0m\u001b[1;33m\u001b[0m\u001b[0m\n",
      "\u001b[1;32mc:\\Users\\ingal\\AppData\\Local\\Programs\\Python\\Python310\\lib\\site-packages\\xgboost\\core.py\u001b[0m in \u001b[0;36minner_f\u001b[1;34m(*args, **kwargs)\u001b[0m\n\u001b[0;32m    573\u001b[0m         \u001b[1;32mfor\u001b[0m \u001b[0mk\u001b[0m\u001b[1;33m,\u001b[0m \u001b[0marg\u001b[0m \u001b[1;32min\u001b[0m \u001b[0mzip\u001b[0m\u001b[1;33m(\u001b[0m\u001b[0msig\u001b[0m\u001b[1;33m.\u001b[0m\u001b[0mparameters\u001b[0m\u001b[1;33m,\u001b[0m \u001b[0margs\u001b[0m\u001b[1;33m)\u001b[0m\u001b[1;33m:\u001b[0m\u001b[1;33m\u001b[0m\u001b[1;33m\u001b[0m\u001b[0m\n\u001b[0;32m    574\u001b[0m             \u001b[0mkwargs\u001b[0m\u001b[1;33m[\u001b[0m\u001b[0mk\u001b[0m\u001b[1;33m]\u001b[0m \u001b[1;33m=\u001b[0m \u001b[0marg\u001b[0m\u001b[1;33m\u001b[0m\u001b[1;33m\u001b[0m\u001b[0m\n\u001b[1;32m--> 575\u001b[1;33m         \u001b[1;32mreturn\u001b[0m \u001b[0mf\u001b[0m\u001b[1;33m(\u001b[0m\u001b[1;33m**\u001b[0m\u001b[0mkwargs\u001b[0m\u001b[1;33m)\u001b[0m\u001b[1;33m\u001b[0m\u001b[1;33m\u001b[0m\u001b[0m\n\u001b[0m\u001b[0;32m    576\u001b[0m \u001b[1;33m\u001b[0m\u001b[0m\n\u001b[0;32m    577\u001b[0m     \u001b[1;32mreturn\u001b[0m \u001b[0minner_f\u001b[0m\u001b[1;33m\u001b[0m\u001b[1;33m\u001b[0m\u001b[0m\n",
      "\u001b[1;32mc:\\Users\\ingal\\AppData\\Local\\Programs\\Python\\Python310\\lib\\site-packages\\xgboost\\sklearn.py\u001b[0m in \u001b[0;36mfit\u001b[1;34m(self, X, y, sample_weight, base_margin, eval_set, eval_metric, early_stopping_rounds, verbose, xgb_model, sample_weight_eval_set, base_margin_eval_set, feature_weights, callbacks)\u001b[0m\n\u001b[0;32m   1398\u001b[0m         )\n\u001b[0;32m   1399\u001b[0m \u001b[1;33m\u001b[0m\u001b[0m\n\u001b[1;32m-> 1400\u001b[1;33m         self._Booster = train(\n\u001b[0m\u001b[0;32m   1401\u001b[0m             \u001b[0mparams\u001b[0m\u001b[1;33m,\u001b[0m\u001b[1;33m\u001b[0m\u001b[1;33m\u001b[0m\u001b[0m\n\u001b[0;32m   1402\u001b[0m             \u001b[0mtrain_dmatrix\u001b[0m\u001b[1;33m,\u001b[0m\u001b[1;33m\u001b[0m\u001b[1;33m\u001b[0m\u001b[0m\n",
      "\u001b[1;32mc:\\Users\\ingal\\AppData\\Local\\Programs\\Python\\Python310\\lib\\site-packages\\xgboost\\core.py\u001b[0m in \u001b[0;36minner_f\u001b[1;34m(*args, **kwargs)\u001b[0m\n\u001b[0;32m    573\u001b[0m         \u001b[1;32mfor\u001b[0m \u001b[0mk\u001b[0m\u001b[1;33m,\u001b[0m \u001b[0marg\u001b[0m \u001b[1;32min\u001b[0m \u001b[0mzip\u001b[0m\u001b[1;33m(\u001b[0m\u001b[0msig\u001b[0m\u001b[1;33m.\u001b[0m\u001b[0mparameters\u001b[0m\u001b[1;33m,\u001b[0m \u001b[0margs\u001b[0m\u001b[1;33m)\u001b[0m\u001b[1;33m:\u001b[0m\u001b[1;33m\u001b[0m\u001b[1;33m\u001b[0m\u001b[0m\n\u001b[0;32m    574\u001b[0m             \u001b[0mkwargs\u001b[0m\u001b[1;33m[\u001b[0m\u001b[0mk\u001b[0m\u001b[1;33m]\u001b[0m \u001b[1;33m=\u001b[0m \u001b[0marg\u001b[0m\u001b[1;33m\u001b[0m\u001b[1;33m\u001b[0m\u001b[0m\n\u001b[1;32m--> 575\u001b[1;33m         \u001b[1;32mreturn\u001b[0m \u001b[0mf\u001b[0m\u001b[1;33m(\u001b[0m\u001b[1;33m**\u001b[0m\u001b[0mkwargs\u001b[0m\u001b[1;33m)\u001b[0m\u001b[1;33m\u001b[0m\u001b[1;33m\u001b[0m\u001b[0m\n\u001b[0m\u001b[0;32m    576\u001b[0m \u001b[1;33m\u001b[0m\u001b[0m\n\u001b[0;32m    577\u001b[0m     \u001b[1;32mreturn\u001b[0m \u001b[0minner_f\u001b[0m\u001b[1;33m\u001b[0m\u001b[1;33m\u001b[0m\u001b[0m\n",
      "\u001b[1;32mc:\\Users\\ingal\\AppData\\Local\\Programs\\Python\\Python310\\lib\\site-packages\\xgboost\\training.py\u001b[0m in \u001b[0;36mtrain\u001b[1;34m(params, dtrain, num_boost_round, evals, obj, feval, maximize, early_stopping_rounds, evals_result, verbose_eval, xgb_model, callbacks, custom_metric)\u001b[0m\n\u001b[0;32m    179\u001b[0m         \u001b[1;32mif\u001b[0m \u001b[0mcb_container\u001b[0m\u001b[1;33m.\u001b[0m\u001b[0mbefore_iteration\u001b[0m\u001b[1;33m(\u001b[0m\u001b[0mbst\u001b[0m\u001b[1;33m,\u001b[0m \u001b[0mi\u001b[0m\u001b[1;33m,\u001b[0m \u001b[0mdtrain\u001b[0m\u001b[1;33m,\u001b[0m \u001b[0mevals\u001b[0m\u001b[1;33m)\u001b[0m\u001b[1;33m:\u001b[0m\u001b[1;33m\u001b[0m\u001b[1;33m\u001b[0m\u001b[0m\n\u001b[0;32m    180\u001b[0m             \u001b[1;32mbreak\u001b[0m\u001b[1;33m\u001b[0m\u001b[1;33m\u001b[0m\u001b[0m\n\u001b[1;32m--> 181\u001b[1;33m         \u001b[0mbst\u001b[0m\u001b[1;33m.\u001b[0m\u001b[0mupdate\u001b[0m\u001b[1;33m(\u001b[0m\u001b[0mdtrain\u001b[0m\u001b[1;33m,\u001b[0m \u001b[0mi\u001b[0m\u001b[1;33m,\u001b[0m \u001b[0mobj\u001b[0m\u001b[1;33m)\u001b[0m\u001b[1;33m\u001b[0m\u001b[1;33m\u001b[0m\u001b[0m\n\u001b[0m\u001b[0;32m    182\u001b[0m         \u001b[1;32mif\u001b[0m \u001b[0mcb_container\u001b[0m\u001b[1;33m.\u001b[0m\u001b[0mafter_iteration\u001b[0m\u001b[1;33m(\u001b[0m\u001b[0mbst\u001b[0m\u001b[1;33m,\u001b[0m \u001b[0mi\u001b[0m\u001b[1;33m,\u001b[0m \u001b[0mdtrain\u001b[0m\u001b[1;33m,\u001b[0m \u001b[0mevals\u001b[0m\u001b[1;33m)\u001b[0m\u001b[1;33m:\u001b[0m\u001b[1;33m\u001b[0m\u001b[1;33m\u001b[0m\u001b[0m\n\u001b[0;32m    183\u001b[0m             \u001b[1;32mbreak\u001b[0m\u001b[1;33m\u001b[0m\u001b[1;33m\u001b[0m\u001b[0m\n",
      "\u001b[1;32mc:\\Users\\ingal\\AppData\\Local\\Programs\\Python\\Python310\\lib\\site-packages\\xgboost\\core.py\u001b[0m in \u001b[0;36mupdate\u001b[1;34m(self, dtrain, iteration, fobj)\u001b[0m\n\u001b[0;32m   1776\u001b[0m \u001b[1;33m\u001b[0m\u001b[0m\n\u001b[0;32m   1777\u001b[0m         \u001b[1;32mif\u001b[0m \u001b[0mfobj\u001b[0m \u001b[1;32mis\u001b[0m \u001b[1;32mNone\u001b[0m\u001b[1;33m:\u001b[0m\u001b[1;33m\u001b[0m\u001b[1;33m\u001b[0m\u001b[0m\n\u001b[1;32m-> 1778\u001b[1;33m             _check_call(_LIB.XGBoosterUpdateOneIter(self.handle,\n\u001b[0m\u001b[0;32m   1779\u001b[0m                                                     \u001b[0mctypes\u001b[0m\u001b[1;33m.\u001b[0m\u001b[0mc_int\u001b[0m\u001b[1;33m(\u001b[0m\u001b[0miteration\u001b[0m\u001b[1;33m)\u001b[0m\u001b[1;33m,\u001b[0m\u001b[1;33m\u001b[0m\u001b[1;33m\u001b[0m\u001b[0m\n\u001b[0;32m   1780\u001b[0m                                                     dtrain.handle))\n",
      "\u001b[1;31mKeyboardInterrupt\u001b[0m: "
     ]
    }
   ],
   "source": [
    "cv.fit(X_train, y_train)\n"
   ]
  },
  {
   "cell_type": "code",
   "execution_count": null,
   "metadata": {},
   "outputs": [],
   "source": [
    "y_pred = cv.predict(X_test)"
   ]
  },
  {
   "cell_type": "code",
   "execution_count": null,
   "metadata": {},
   "outputs": [
    {
     "data": {
      "text/plain": [
       "{'model__gamma': 1,\n",
       " 'model__learning_rate': 0.2,\n",
       " 'model__max_depth': 15,\n",
       " 'model__min_child_weight': 0.5,\n",
       " 'model__n_estimators': 250,\n",
       " 'model__subsample': 0.5}"
      ]
     },
     "metadata": {},
     "output_type": "display_data"
    }
   ],
   "source": [
    "cv.best_params_"
   ]
  },
  {
   "cell_type": "markdown",
   "metadata": {},
   "source": [
    "### Hyperparameter Model Update"
   ]
  },
  {
   "cell_type": "code",
   "execution_count": null,
   "metadata": {},
   "outputs": [],
   "source": [
    "# Training/Testing Split\n",
    "\n",
    "X_train, X_test, y_train, y_test = train_test_split(X, y, test_size=0.3, random_state=42)"
   ]
  },
  {
   "cell_type": "code",
   "execution_count": null,
   "metadata": {},
   "outputs": [],
   "source": [
    "#create a pipeline \n",
    "\n",
    "pipeline_best_2 = Pipeline([\n",
    "    ('Age_low_salary_NaN',LowerSalaryAgeImputation()),\n",
    "    ('Income_NaN',ByAgeIncomeImputation()),\n",
    "    ('Children_Trips_Star_NaN',SimpleImputer(strategy = 'median')),\n",
    "    ('Standard_Scalar',StandardScaler()), \n",
    "    ('model', XGBClassifier(gamma = 1, learning_rate= 0.2, max_depth= 15, min_child_weight= 0.5, subsample = 0.5, n_estimators = 250))\n",
    "])"
   ]
  },
  {
   "cell_type": "code",
   "execution_count": null,
   "metadata": {},
   "outputs": [
    {
     "data": {
      "text/html": [
       "<style>#sk-container-id-55 {color: black;background-color: white;}#sk-container-id-55 pre{padding: 0;}#sk-container-id-55 div.sk-toggleable {background-color: white;}#sk-container-id-55 label.sk-toggleable__label {cursor: pointer;display: block;width: 100%;margin-bottom: 0;padding: 0.3em;box-sizing: border-box;text-align: center;}#sk-container-id-55 label.sk-toggleable__label-arrow:before {content: \"▸\";float: left;margin-right: 0.25em;color: #696969;}#sk-container-id-55 label.sk-toggleable__label-arrow:hover:before {color: black;}#sk-container-id-55 div.sk-estimator:hover label.sk-toggleable__label-arrow:before {color: black;}#sk-container-id-55 div.sk-toggleable__content {max-height: 0;max-width: 0;overflow: hidden;text-align: left;background-color: #f0f8ff;}#sk-container-id-55 div.sk-toggleable__content pre {margin: 0.2em;color: black;border-radius: 0.25em;background-color: #f0f8ff;}#sk-container-id-55 input.sk-toggleable__control:checked~div.sk-toggleable__content {max-height: 200px;max-width: 100%;overflow: auto;}#sk-container-id-55 input.sk-toggleable__control:checked~label.sk-toggleable__label-arrow:before {content: \"▾\";}#sk-container-id-55 div.sk-estimator input.sk-toggleable__control:checked~label.sk-toggleable__label {background-color: #d4ebff;}#sk-container-id-55 div.sk-label input.sk-toggleable__control:checked~label.sk-toggleable__label {background-color: #d4ebff;}#sk-container-id-55 input.sk-hidden--visually {border: 0;clip: rect(1px 1px 1px 1px);clip: rect(1px, 1px, 1px, 1px);height: 1px;margin: -1px;overflow: hidden;padding: 0;position: absolute;width: 1px;}#sk-container-id-55 div.sk-estimator {font-family: monospace;background-color: #f0f8ff;border: 1px dotted black;border-radius: 0.25em;box-sizing: border-box;margin-bottom: 0.5em;}#sk-container-id-55 div.sk-estimator:hover {background-color: #d4ebff;}#sk-container-id-55 div.sk-parallel-item::after {content: \"\";width: 100%;border-bottom: 1px solid gray;flex-grow: 1;}#sk-container-id-55 div.sk-label:hover label.sk-toggleable__label {background-color: #d4ebff;}#sk-container-id-55 div.sk-serial::before {content: \"\";position: absolute;border-left: 1px solid gray;box-sizing: border-box;top: 0;bottom: 0;left: 50%;z-index: 0;}#sk-container-id-55 div.sk-serial {display: flex;flex-direction: column;align-items: center;background-color: white;padding-right: 0.2em;padding-left: 0.2em;position: relative;}#sk-container-id-55 div.sk-item {position: relative;z-index: 1;}#sk-container-id-55 div.sk-parallel {display: flex;align-items: stretch;justify-content: center;background-color: white;position: relative;}#sk-container-id-55 div.sk-item::before, #sk-container-id-55 div.sk-parallel-item::before {content: \"\";position: absolute;border-left: 1px solid gray;box-sizing: border-box;top: 0;bottom: 0;left: 50%;z-index: -1;}#sk-container-id-55 div.sk-parallel-item {display: flex;flex-direction: column;z-index: 1;position: relative;background-color: white;}#sk-container-id-55 div.sk-parallel-item:first-child::after {align-self: flex-end;width: 50%;}#sk-container-id-55 div.sk-parallel-item:last-child::after {align-self: flex-start;width: 50%;}#sk-container-id-55 div.sk-parallel-item:only-child::after {width: 0;}#sk-container-id-55 div.sk-dashed-wrapped {border: 1px dashed gray;margin: 0 0.4em 0.5em 0.4em;box-sizing: border-box;padding-bottom: 0.4em;background-color: white;}#sk-container-id-55 div.sk-label label {font-family: monospace;font-weight: bold;display: inline-block;line-height: 1.2em;}#sk-container-id-55 div.sk-label-container {text-align: center;}#sk-container-id-55 div.sk-container {/* jupyter's `normalize.less` sets `[hidden] { display: none; }` but bootstrap.min.css set `[hidden] { display: none !important; }` so we also need the `!important` here to be able to override the default hidden behavior on the sphinx rendered scikit-learn.org. See: https://github.com/scikit-learn/scikit-learn/issues/21755 */display: inline-block !important;position: relative;}#sk-container-id-55 div.sk-text-repr-fallback {display: none;}</style><div id=\"sk-container-id-55\" class=\"sk-top-container\"><div class=\"sk-text-repr-fallback\"><pre>Pipeline(steps=[(&#x27;Age_low_salary_NaN&#x27;, LowerSalaryAgeImputation()),\n",
       "                (&#x27;Income_NaN&#x27;, ByAgeIncomeImputation()),\n",
       "                (&#x27;Children_Trips_Star_NaN&#x27;, SimpleImputer(strategy=&#x27;median&#x27;)),\n",
       "                (&#x27;Standard_Scalar&#x27;, StandardScaler()),\n",
       "                (&#x27;model&#x27;,\n",
       "                 XGBClassifier(base_score=0.5, booster=&#x27;gbtree&#x27;, callbacks=None,\n",
       "                               colsample_bylevel=1, colsample_bynode=1,\n",
       "                               colsample_bytree=1, early_stopping_roun...\n",
       "                               gamma=1, gpu_id=-1, grow_policy=&#x27;depthwise&#x27;,\n",
       "                               importance_type=None, interaction_constraints=&#x27;&#x27;,\n",
       "                               learning_rate=0.2, max_bin=256,\n",
       "                               max_cat_to_onehot=4, max_delta_step=0,\n",
       "                               max_depth=15, max_leaves=0, min_child_weight=0.5,\n",
       "                               missing=nan, monotone_constraints=&#x27;()&#x27;,\n",
       "                               n_estimators=250, n_jobs=0, num_parallel_tree=1,\n",
       "                               objective=&#x27;multi:softprob&#x27;, predictor=&#x27;auto&#x27;,\n",
       "                               random_state=0, reg_alpha=0, ...))])</pre><b>In a Jupyter environment, please rerun this cell to show the HTML representation or trust the notebook. <br />On GitHub, the HTML representation is unable to render, please try loading this page with nbviewer.org.</b></div><div class=\"sk-container\" hidden><div class=\"sk-item sk-dashed-wrapped\"><div class=\"sk-label-container\"><div class=\"sk-label sk-toggleable\"><input class=\"sk-toggleable__control sk-hidden--visually\" id=\"sk-estimator-id-182\" type=\"checkbox\" ><label for=\"sk-estimator-id-182\" class=\"sk-toggleable__label sk-toggleable__label-arrow\">Pipeline</label><div class=\"sk-toggleable__content\"><pre>Pipeline(steps=[(&#x27;Age_low_salary_NaN&#x27;, LowerSalaryAgeImputation()),\n",
       "                (&#x27;Income_NaN&#x27;, ByAgeIncomeImputation()),\n",
       "                (&#x27;Children_Trips_Star_NaN&#x27;, SimpleImputer(strategy=&#x27;median&#x27;)),\n",
       "                (&#x27;Standard_Scalar&#x27;, StandardScaler()),\n",
       "                (&#x27;model&#x27;,\n",
       "                 XGBClassifier(base_score=0.5, booster=&#x27;gbtree&#x27;, callbacks=None,\n",
       "                               colsample_bylevel=1, colsample_bynode=1,\n",
       "                               colsample_bytree=1, early_stopping_roun...\n",
       "                               gamma=1, gpu_id=-1, grow_policy=&#x27;depthwise&#x27;,\n",
       "                               importance_type=None, interaction_constraints=&#x27;&#x27;,\n",
       "                               learning_rate=0.2, max_bin=256,\n",
       "                               max_cat_to_onehot=4, max_delta_step=0,\n",
       "                               max_depth=15, max_leaves=0, min_child_weight=0.5,\n",
       "                               missing=nan, monotone_constraints=&#x27;()&#x27;,\n",
       "                               n_estimators=250, n_jobs=0, num_parallel_tree=1,\n",
       "                               objective=&#x27;multi:softprob&#x27;, predictor=&#x27;auto&#x27;,\n",
       "                               random_state=0, reg_alpha=0, ...))])</pre></div></div></div><div class=\"sk-serial\"><div class=\"sk-item\"><div class=\"sk-estimator sk-toggleable\"><input class=\"sk-toggleable__control sk-hidden--visually\" id=\"sk-estimator-id-183\" type=\"checkbox\" ><label for=\"sk-estimator-id-183\" class=\"sk-toggleable__label sk-toggleable__label-arrow\">LowerSalaryAgeImputation</label><div class=\"sk-toggleable__content\"><pre>LowerSalaryAgeImputation()</pre></div></div></div><div class=\"sk-item\"><div class=\"sk-estimator sk-toggleable\"><input class=\"sk-toggleable__control sk-hidden--visually\" id=\"sk-estimator-id-184\" type=\"checkbox\" ><label for=\"sk-estimator-id-184\" class=\"sk-toggleable__label sk-toggleable__label-arrow\">ByAgeIncomeImputation</label><div class=\"sk-toggleable__content\"><pre>ByAgeIncomeImputation()</pre></div></div></div><div class=\"sk-item\"><div class=\"sk-estimator sk-toggleable\"><input class=\"sk-toggleable__control sk-hidden--visually\" id=\"sk-estimator-id-185\" type=\"checkbox\" ><label for=\"sk-estimator-id-185\" class=\"sk-toggleable__label sk-toggleable__label-arrow\">SimpleImputer</label><div class=\"sk-toggleable__content\"><pre>SimpleImputer(strategy=&#x27;median&#x27;)</pre></div></div></div><div class=\"sk-item\"><div class=\"sk-estimator sk-toggleable\"><input class=\"sk-toggleable__control sk-hidden--visually\" id=\"sk-estimator-id-186\" type=\"checkbox\" ><label for=\"sk-estimator-id-186\" class=\"sk-toggleable__label sk-toggleable__label-arrow\">StandardScaler</label><div class=\"sk-toggleable__content\"><pre>StandardScaler()</pre></div></div></div><div class=\"sk-item\"><div class=\"sk-estimator sk-toggleable\"><input class=\"sk-toggleable__control sk-hidden--visually\" id=\"sk-estimator-id-187\" type=\"checkbox\" ><label for=\"sk-estimator-id-187\" class=\"sk-toggleable__label sk-toggleable__label-arrow\">XGBClassifier</label><div class=\"sk-toggleable__content\"><pre>XGBClassifier(base_score=0.5, booster=&#x27;gbtree&#x27;, callbacks=None,\n",
       "              colsample_bylevel=1, colsample_bynode=1, colsample_bytree=1,\n",
       "              early_stopping_rounds=None, enable_categorical=False,\n",
       "              eval_metric=None, gamma=1, gpu_id=-1, grow_policy=&#x27;depthwise&#x27;,\n",
       "              importance_type=None, interaction_constraints=&#x27;&#x27;,\n",
       "              learning_rate=0.2, max_bin=256, max_cat_to_onehot=4,\n",
       "              max_delta_step=0, max_depth=15, max_leaves=0,\n",
       "              min_child_weight=0.5, missing=nan, monotone_constraints=&#x27;()&#x27;,\n",
       "              n_estimators=250, n_jobs=0, num_parallel_tree=1,\n",
       "              objective=&#x27;multi:softprob&#x27;, predictor=&#x27;auto&#x27;, random_state=0,\n",
       "              reg_alpha=0, ...)</pre></div></div></div></div></div></div></div>"
      ],
      "text/plain": [
       "Pipeline(steps=[('Age_low_salary_NaN', LowerSalaryAgeImputation()),\n",
       "                ('Income_NaN', ByAgeIncomeImputation()),\n",
       "                ('Children_Trips_Star_NaN', SimpleImputer(strategy='median')),\n",
       "                ('Standard_Scalar', StandardScaler()),\n",
       "                ('model',\n",
       "                 XGBClassifier(base_score=0.5, booster='gbtree', callbacks=None,\n",
       "                               colsample_bylevel=1, colsample_bynode=1,\n",
       "                               colsample_bytree=1, early_stopping_roun...\n",
       "                               gamma=1, gpu_id=-1, grow_policy='depthwise',\n",
       "                               importance_type=None, interaction_constraints='',\n",
       "                               learning_rate=0.2, max_bin=256,\n",
       "                               max_cat_to_onehot=4, max_delta_step=0,\n",
       "                               max_depth=15, max_leaves=0, min_child_weight=0.5,\n",
       "                               missing=nan, monotone_constraints='()',\n",
       "                               n_estimators=250, n_jobs=0, num_parallel_tree=1,\n",
       "                               objective='multi:softprob', predictor='auto',\n",
       "                               random_state=0, reg_alpha=0, ...))])"
      ]
     },
     "metadata": {},
     "output_type": "display_data"
    }
   ],
   "source": [
    "pipeline_best_2.fit(X_train,y_train)"
   ]
  },
  {
   "cell_type": "code",
   "execution_count": null,
   "metadata": {},
   "outputs": [],
   "source": [
    "y_pred = pipeline_best_2.predict(X_test)"
   ]
  },
  {
   "cell_type": "code",
   "execution_count": null,
   "metadata": {},
   "outputs": [
    {
     "data": {
      "image/png": "[encoded data removed]",
      "text/plain": [
       "<Figure size 576x360 with 2 Axes>"
      ]
     },
     "metadata": {},
     "output_type": "display_data"
    }
   ],
   "source": [
    "confusionMatrix(y_test,y_pred)"
   ]
  },
  {
   "cell_type": "markdown",
   "metadata": {},
   "source": [
    "#### Precision/Recall F1 Scores\n",
    "\n",
    "Since we have a high class imbalance, F1 scores are the right choice for our metric as it considers both precision and recall. To get a high F1, both false positives and false negatives must be low. Other measures of performance for classification my give us high scores with a high enough number of false positives. "
   ]
  },
  {
   "cell_type": "code",
   "execution_count": null,
   "metadata": {},
   "outputs": [
    {
     "name": "stdout",
     "output_type": "stream",
     "text": [
      "              precision    recall  f1-score   support\n",
      "\n",
      "       Basic       0.88      0.90      0.89       157\n",
      "      Deluxe       0.66      0.71      0.68        62\n",
      "        King       1.00      0.71      0.83         7\n",
      "    Standard       0.73      0.59      0.65        46\n",
      "Super Deluxe       0.50      0.75      0.60         4\n",
      "\n",
      "    accuracy                           0.80       276\n",
      "   macro avg       0.75      0.73      0.73       276\n",
      "weighted avg       0.80      0.80      0.80       276\n",
      "\n"
     ]
    }
   ],
   "source": [
    "print(classification_report(y_test, y_pred, target_names=[\"Basic\", \"Deluxe\", \"King\", \"Standard\", \"Super Deluxe\"]))"
   ]
  },
  {
   "cell_type": "markdown",
   "metadata": {},
   "source": [
    "### Cross-Validation"
   ]
  },
  {
   "cell_type": "code",
   "execution_count": null,
   "metadata": {},
   "outputs": [
    {
     "name": "stdout",
     "output_type": "stream",
     "text": [
      "Mean F1 Macro: 0.74621\n"
     ]
    }
   ],
   "source": [
    "# define evaluation procedure\n",
    "cv = RepeatedStratifiedKFold(n_splits=10, n_repeats=3, random_state=1)\n",
    "# evaluate model\n",
    "scores = cross_val_score(pipeline_best, X, y, scoring='f1_macro', cv=cv, n_jobs=-1,error_score=\"raise\")\n",
    "# summarize performance\n",
    "print('Mean F1 Macro: %.5f' % mean(scores))"
   ]
  },
  {
   "cell_type": "code",
   "execution_count": null,
   "metadata": {},
   "outputs": [],
   "source": []
  }
 ],
 "metadata": {
  "kernelspec": {
   "display_name": "Python 3.10.1 64-bit",
   "language": "python",
   "name": "python3"
  },
  "language_info": {
   "codemirror_mode": {
    "name": "ipython",
    "version": 3
   },
   "file_extension": ".py",
   "mimetype": "text/x-python",
   "name": "python",
   "nbconvert_exporter": "python",
   "pygments_lexer": "ipython3",
   "version": "3.10.1"
  },
  "orig_nbformat": 4,
  "vscode": {
   "interpreter": {
    "hash": "94da90ce4a3f6a983abd36e24800f0fa4263660b49d839bce292763a6796dc65"
   }
  }
 },
 "nbformat": 4,
 "nbformat_minor": 2
}
